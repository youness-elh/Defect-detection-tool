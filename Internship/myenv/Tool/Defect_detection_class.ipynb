{
 "cells": [
  {
   "cell_type": "code",
   "execution_count": 1,
   "metadata": {},
   "outputs": [
    {
     "name": "stdout",
     "output_type": "stream",
     "text": [
      "Pixiedust database opened successfully\n"
     ]
    },
    {
     "data": {
      "text/html": [
       "\n",
       "        <div style=\"margin:10px\">\n",
       "            <a href=\"https://github.com/ibm-watson-data-lab/pixiedust\" target=\"_new\">\n",
       "                <img src=\"https://github.com/ibm-watson-data-lab/pixiedust/raw/master/docs/_static/pd_icon32.png\" style=\"float:left;margin-right:10px\"/>\n",
       "            </a>\n",
       "            <span>Pixiedust version 1.1.17</span>\n",
       "        </div>\n",
       "        "
      ],
      "text/plain": [
       "<IPython.core.display.HTML object>"
      ]
     },
     "metadata": {},
     "output_type": "display_data"
    },
    {
     "name": "stdout",
     "output_type": "stream",
     "text": [
      "Unable to check latest version <urlopen error timed out>\n"
     ]
    }
   ],
   "source": [
    "\n",
    "import pixiedust\n",
    "import os\n",
    "import pandas as pd\n",
    "from pandas import ExcelWriter\n",
    "from pandas import ExcelFile\n",
    "import sys\n",
    "import numpy as np\n",
    "import matplotlib.pyplot as plt\n",
    "import matplotlib.path as pth\n",
    "from PIL.Image import *\n",
    "from matplotlib import cm\n",
    "from PIL import Image\n",
    "import cv2\n",
    "from PIL import Image\n",
    "import scipy\n",
    "from scipy import signal as sg\n",
    "from scipy import ndimage\n",
    "from numpy import linalg as LA\n",
    "\n",
    "from mpl_toolkits.mplot3d import Axes3D\n",
    "from matplotlib import cm\n",
    "from matplotlib.ticker import LinearLocator, FormatStrFormatter\n",
    "\n",
    "from sklearn.cluster import KMeans\n",
    "from matplotlib import patches\n",
    "\n",
    "np.set_printoptions(precision=2,linewidth=500,suppress=True)"
   ]
  },
  {
   "cell_type": "code",
   "execution_count": 2,
   "metadata": {},
   "outputs": [
    {
     "name": "stdout",
     "output_type": "stream",
     "text": [
      "C:\\Anaconda\n"
     ]
    }
   ],
   "source": [
    "import sys\n",
    "import os\n",
    "print(os.path.dirname(sys.executable))"
   ]
  },
  {
   "cell_type": "markdown",
   "metadata": {},
   "source": [
    "# Image"
   ]
  },
  {
   "cell_type": "code",
   "execution_count": 3,
   "metadata": {},
   "outputs": [],
   "source": [
    "def plot_3d(case):\n",
    "    fig = plt.figure(figsize=plt.figaspect(0.2))\n",
    "    ax0 = fig.add_subplot(1, 2, 1, projection='3d')\n",
    "\n",
    "\n",
    "    # Make data.\n",
    "    X = np.arange(0, case.shape[0], 1)\n",
    "    Y = np.arange(0, case.shape[0], 1)\n",
    "    X, Y = np.meshgrid(X, Y)\n",
    "    Z = (case,case)\n",
    "\n",
    "    # Plot the surface.\n",
    "    surf0 = ax0.plot_surface(X, Y, Z[0], cmap=cm.coolwarm,\n",
    "                           linewidth=0, antialiased=True)\n",
    "\n",
    "    # Add a color bar which maps values to colors.\n",
    "\n",
    "    ax1 = fig.add_subplot(1, 2, 2, projection='3d')\n",
    "\n",
    "    surf1 = ax1.plot_surface( Y, Z[0],X, cmap=cm.coolwarm,\n",
    "                           linewidth=1, antialiased=True)\n",
    "\n",
    "    ax0.set_title('original defect')\n",
    "    ax1.set_title('upper perspective')\n",
    "    plt.savefig('fig')\n",
    "\n",
    "    plt.show()"
   ]
  },
  {
   "cell_type": "code",
   "execution_count": 4,
   "metadata": {},
   "outputs": [],
   "source": [
    "def multiple_imshow(rows,cols,images ,titles):\n",
    "\n",
    "    plt.figure(len(images), figsize=(12, 12))\n",
    "    for i in range(len(images)):\n",
    "        plt.subplot(rows,cols,i+1)\n",
    "        plt.imshow(images[i],'gray')\n",
    "        plt.title(titles[i])\n",
    "        #plt.xticks([]),plt.yticks([]) \n",
    "    plt.show()\n",
    "\n",
    "def defect_detection(path,lower_bound,upper_bound,lower_bound_1 = [0,0,0],upper_bound_1 =[0,0,0]):\n",
    "    \n",
    "    img = cv2.imread(path,1)  # BGR color image reading and 0 flag for gray\n",
    "    \n",
    "    #blur = cv2.GaussianBlur(img,(5,5),0) #not good results\n",
    "    #kernel = np.ones((5,5),np.float32)/25 #averaging is not satisfying as well\n",
    "    #dst = cv2.filter2D(img,-1,kernel)\n",
    "    #median = cv2.medianBlur(img,5)#median as well\n",
    "    \n",
    "    # converting it into Hue, saturation, value (HSV)\n",
    "    hsv = cv2.cvtColor(img, cv2.COLOR_BGR2HSV)\n",
    "   \n",
    "    '''Threshold'''\n",
    "    \n",
    "    # define range of red color in HSV\n",
    "    lower = np.array(lower_bound)\n",
    "    upper = np.array(upper_bound)\n",
    "    \n",
    "    # Threshold the HSV image to get only red colors\n",
    "    mask_0 = cv2.inRange(hsv, lower, upper)\n",
    "    mask_1 = cv2.inRange(hsv,np.array(lower_bound_1),np.array(upper_bound_1))\n",
    "    mask =mask_0 + mask_1\n",
    "    \n",
    "    # Bitwise-AND mask and original image\n",
    "    res = cv2.bitwise_and(img,img, mask = mask)\n",
    "    \n",
    "    return res\n",
    "\n",
    "\n",
    "def pre_shaping(image,resol = [284,348]):\n",
    "    \n",
    "    #width = resol[1]\n",
    "    #height = resol[0]\n",
    "    #dim = (width, height) \n",
    "    \n",
    "    # resize image\n",
    "    #resized = cv2.resize(image, dim, interpolation = cv2.INTER_AREA)#INTER_LINEAR_EXACT) \n",
    "    \n",
    "    img = image\n",
    "    rows,cols = img.shape\n",
    "    \n",
    "    frame = [[0,0],[cols,0],[0,rows],[cols,rows]]\n",
    "    dimension = [[0,0],[resol[1],0],[0,resol[0]],[resol[1],resol[0]]]\n",
    "\n",
    "    pts1 = np.float32(frame)\n",
    "    pts2 = np.float32(dimension)\n",
    "\n",
    "    M = cv2.getPerspectiveTransform(pts1,pts2)\n",
    "    resized = cv2.warpPerspective(img,M,(resol[1],resol[0]))\n",
    "    \n",
    "    return resized\n",
    "\n",
    "def real_shaping(normalized_image,rows_dim,cols_dim,i = 8,j = 17):\n",
    "    \n",
    "    img = normalized_image\n",
    "    rows,cols = img.shape\n",
    "    \n",
    "    frame = [[i,j],[rows,j],[i,cols],[rows,cols]]\n",
    "    dimension = [[0,0],[cols_dim,0],[0,rows_dim],[cols_dim,rows_dim]]\n",
    "\n",
    "    pts1 = np.float32(frame)\n",
    "    pts2 = np.float32(dimension)\n",
    "\n",
    "    M = cv2.getPerspectiveTransform(pts1,pts2)\n",
    "\n",
    "    real_shape = cv2.warpPerspective(img,M,(cols_dim,rows_dim))\n",
    "    \n",
    "    return real_shape"
   ]
  },
  {
   "cell_type": "markdown",
   "metadata": {},
   "source": [
    "# xy image"
   ]
  },
  {
   "cell_type": "code",
   "execution_count": 5,
   "metadata": {},
   "outputs": [
    {
     "data": {
      "image/png": "[encoded data removed]",
      "text/plain": [
       "<matplotlib.figure.Figure at 0xe219d68>"
      ]
     },
     "metadata": {},
     "output_type": "display_data"
    },
    {
     "name": "stdout",
     "output_type": "stream",
     "text": [
      "Wall time: 2.28 s\n"
     ]
    }
   ],
   "source": [
    "%%time\n",
    "'''Functions call'''\n",
    "\n",
    "path = \"C:/Users/elh/Desktop/xy.png\"\n",
    "\n",
    "''' Big defects : red_yellow'''\n",
    "\n",
    "lower_bound = [0,0,0]\n",
    "upper_bound = [55,255,255] # for more defects the upper bound can go till ~105\n",
    "\n",
    "res = defect_detection(path,lower_bound,upper_bound,[155,0,0],[179,255,255])\n",
    "\n",
    "\"\"\"Binary image to detect the center\"\"\"\n",
    "imgray = cv2.cvtColor(res,cv2.COLOR_BGR2GRAY) #convert to gray\n",
    "\n",
    "#binary thresholding \n",
    "ret,thresh = cv2.threshold(imgray,0,1,cv2.THRESH_BINARY)\n",
    "#th2 = cv2.adaptiveThreshold(imgray,255,cv2.ADAPTIVE_THRESH_GAUSSIAN_C,\\\n",
    "            #cv2.THRESH_BINARY,11,2) #consider some defects as noise\n",
    "\n",
    "\n",
    "title = 'Global Thresholding (big defects)'\n",
    "\n",
    "'''shaping'''\n",
    "#gray image\n",
    "\n",
    "#img = pre_shaping(img,resol = [350,285])\n",
    "images = [255-thresh,255-imgray]#255-img]#i,j --> y,x\n",
    "titles = ['binary image','pre_shaped gray image']\n",
    "\n",
    "multiple_imshow(1,2,images ,titles)\n"
   ]
  },
  {
   "cell_type": "code",
   "execution_count": 6,
   "metadata": {},
   "outputs": [],
   "source": [
    "img_xy = imgray # pre_shaped gray image"
   ]
  },
  {
   "cell_type": "markdown",
   "metadata": {},
   "source": [
    "# xz image"
   ]
  },
  {
   "cell_type": "code",
   "execution_count": 7,
   "metadata": {},
   "outputs": [
    {
     "data": {
      "image/png": "[encoded data removed]",
      "text/plain": [
       "<matplotlib.figure.Figure at 0xe7c0dd8>"
      ]
     },
     "metadata": {},
     "output_type": "display_data"
    },
    {
     "name": "stdout",
     "output_type": "stream",
     "text": [
      "Wall time: 374 ms\n"
     ]
    }
   ],
   "source": [
    "%%time\n",
    "'''Functions call'''\n",
    "\n",
    "path = \"C:/Users/elh/Desktop/xz.png\"\n",
    "\n",
    "''' Big defects : red_yellow'''\n",
    "\n",
    "lower_bound = [0,0,0]\n",
    "upper_bound = [55,255,255] # for more defects the upper bound can go till ~105\n",
    "\n",
    "res = defect_detection(path,lower_bound,upper_bound,[155,0,0],[179,255,255])\n",
    "\n",
    "\"\"\"Binary image to detect the center\"\"\"\n",
    "imgray = cv2.cvtColor(res,cv2.COLOR_BGR2GRAY) #convert to gray\n",
    "\n",
    "#binary thresholding \n",
    "ret,thresh = cv2.threshold(imgray,0,1,cv2.THRESH_BINARY)\n",
    "#th2 = cv2.adaptiveThreshold(imgray,255,cv2.ADAPTIVE_THRESH_GAUSSIAN_C,\\\n",
    "            #cv2.THRESH_BINARY,11,2) #consider some defects as noise\n",
    "\n",
    "\n",
    "title = 'Global Thresholding (big defects)'\n",
    "\n",
    "'''shaping'''\n",
    "#gray image\n",
    "\n",
    "#img = pre_shaping(img,resol = [350,285])\n",
    "images = [255-thresh,255-imgray]#255-img]#i,j --> y,x\n",
    "titles = ['binary image','pre_shaped gray image']\n",
    "\n",
    "multiple_imshow(1,2,images ,titles)\n"
   ]
  },
  {
   "cell_type": "code",
   "execution_count": 8,
   "metadata": {},
   "outputs": [],
   "source": [
    "img_xz = imgray # pre_shaped gray image"
   ]
  },
  {
   "cell_type": "markdown",
   "metadata": {},
   "source": [
    "# Sobel operator"
   ]
  },
  {
   "cell_type": "code",
   "execution_count": 9,
   "metadata": {},
   "outputs": [],
   "source": [
    "def getCompassOperators(kind):\n",
    "    res=np.empty([8,3,3])\n",
    "    \n",
    "    if kind==\"kirsch\":\n",
    "        conv_mask = np.array([5,  5, 5,-3,-3,-3,-3,-3])\n",
    "    elif kind==\"robinson2\":\n",
    "        conv_mask = np.array([1,2,1,0,-1,-2,-1,0])\n",
    "    elif kind==\"robinson1\":\n",
    "        conv_mask = np.array([1,1,1,0,-1,-1,-1,0])\n",
    "        \n",
    "        \"\"\"Discrete Laplacian 4\"\"\"\n",
    "    elif kind==\"laplace1\":\n",
    "        conv_mask = np.array([0,1,0,1,0,1,0,1])\n",
    "\n",
    "        \"\"\"Discrete Laplacian 8\"\"\"\n",
    "    elif kind==\"laplace2\":\n",
    "        conv_mask = np.array([1,1,1,1,1,1,1,1])\n",
    "        \n",
    "        \"\"\"Robinson Laplacian (to take with you in a desert island)\"\"\"\n",
    "    elif kind==\"laplace3\":\n",
    "        conv_mask = np.array([1,-2,1,-2,1,-2,1,-2])\n",
    "    \n",
    "    for i in range(8):\n",
    "        oneDir=np.zeros(9)\n",
    "        oneDir[[0,1,2,5,8,7,6,3]]=conv_mask\n",
    "        \"to turn the coef\"\n",
    "        conv_mask=np.concatenate([conv_mask[1:],conv_mask[0:1]])\n",
    "        res[i,:,:]=oneDir.reshape([3,3])\n",
    "        \n",
    "        if kind==\"laplace1\":\n",
    "            res[i,1,1] = -4\n",
    "\n",
    "            \"\"\"Discrete Laplacian 8\"\"\"\n",
    "        elif kind==\"laplace2\":\n",
    "            res[i,1,1] = -8\n",
    "\n",
    "            \"\"\"Robinson Laplacian (to take with you in a desert island)\"\"\"\n",
    "        elif kind==\"laplace3\":\n",
    "            res[i,1,1] = 4\n",
    "\n",
    "    return res"
   ]
  },
  {
   "cell_type": "code",
   "execution_count": 10,
   "metadata": {},
   "outputs": [
    {
     "name": "stdout",
     "output_type": "stream",
     "text": [
      "N\n",
      "[[ 1.  1.  1.]\n",
      " [ 1. -8.  1.]\n",
      " [ 1.  1.  1.]]\n",
      "NW\n",
      "[[ 1.  1.  1.]\n",
      " [ 1. -8.  1.]\n",
      " [ 1.  1.  1.]]\n",
      "W\n",
      "[[ 1.  1.  1.]\n",
      " [ 1. -8.  1.]\n",
      " [ 1.  1.  1.]]\n",
      "SW\n",
      "[[ 1.  1.  1.]\n",
      " [ 1. -8.  1.]\n",
      " [ 1.  1.  1.]]\n",
      "S\n",
      "[[ 1.  1.  1.]\n",
      " [ 1. -8.  1.]\n",
      " [ 1.  1.  1.]]\n",
      "SE\n",
      "[[ 1.  1.  1.]\n",
      " [ 1. -8.  1.]\n",
      " [ 1.  1.  1.]]\n",
      "E\n",
      "[[ 1.  1.  1.]\n",
      " [ 1. -8.  1.]\n",
      " [ 1.  1.  1.]]\n",
      "NE\n",
      "[[ 1.  1.  1.]\n",
      " [ 1. -8.  1.]\n",
      " [ 1.  1.  1.]]\n"
     ]
    }
   ],
   "source": [
    "op = getCompassOperators(\"laplace2\")\n",
    "directions = [\"N\", \"NW\", \"W\", \"SW\", \"S\", \"SE\", \"E\", \"NE\"]\n",
    "for i in range(8):\n",
    "    print(directions[i])\n",
    "    print(op[i])"
   ]
  },
  {
   "cell_type": "markdown",
   "metadata": {},
   "source": [
    "We compute the gradients accoring to the 4 possible directions:"
   ]
  },
  {
   "cell_type": "code",
   "execution_count": 11,
   "metadata": {},
   "outputs": [],
   "source": [
    "\"\"\" this function produce a rolling window which is just a view on the data: \n",
    "= a special way to move in the data. No copy is made.\n",
    "\"\"\"\n",
    "def rolling_windows_img(a,kshape):\n",
    "    outShape=(a.shape[0]-kshape[0]+1,)+(a.shape[1]-kshape[1]+1,)+kshape\n",
    "    outStrides=a.strides+a.strides\n",
    "    return np.lib.stride_tricks.as_strided(a,shape=outShape,strides=outStrides)"
   ]
  },
  {
   "cell_type": "code",
   "execution_count": 12,
   "metadata": {},
   "outputs": [],
   "source": [
    "def findLocalMin(data,kshape,minimum):\n",
    "    \n",
    "    dataRoll = rolling_windows_img(data,kshape)\n",
    "    a,b = dataRoll.shape[0],dataRoll.shape[1]\n",
    "    L = a*b\n",
    "    W = kshape[0]*kshape[1]\n",
    "    dataRoll = dataRoll.reshape(L,W)\n",
    "    \n",
    "    if minimum == True:\n",
    "        armin = np.argmin(dataRoll,axis=1)\n",
    "    else:\n",
    "        armin = np.argmax(dataRoll,axis=1)\n",
    "    \n",
    "    res=np.array([],dtype=np.int8)\n",
    "    extrema = 0\n",
    "    for i, j in enumerate(armin):\n",
    "        \n",
    "        where = np.where((dataRoll[i,:] == dataRoll[i,j]))[0]\n",
    "        \n",
    "        if (j == W//2 and where.size == 1):\n",
    "            coord = np.array([i//b + (kshape[0])//2 ,(i%a+ (kshape[1])//2)])\n",
    "            res = np.append(res, coord)\n",
    "            extrema +=1\n",
    "            \n",
    "    \n",
    "    res = res.reshape(res.size//2,2)\n",
    "    \n",
    "    return res,extrema\n"
   ]
  },
  {
   "cell_type": "markdown",
   "metadata": {},
   "source": [
    "# step 1 :Defect detection"
   ]
  },
  {
   "cell_type": "code",
   "execution_count": 13,
   "metadata": {},
   "outputs": [],
   "source": [
    "\n",
    "\"\"\"pour que les dataFrame ne soient pas trop coupées dans la console\"\"\"\n",
    "pd.set_option('display.max_rows', 500)\n",
    "pd.set_option('display.max_columns', 500)\n",
    "pd.set_option('display.width', 1000)\n",
    "pd.set_option('precision', 6)\n",
    "\n",
    "\"\"\"\n",
    "Available options:\n",
    "display.[chop_threshold, colheader_justify, column_space, date_dayfirst,\n",
    "         date_yearfirst, encoding, expand_frame_repr, float_format, height,\n",
    "         line_width, max_columns, max_colwidth, max_info_columns, max_info_rows,\n",
    "         max_rows, max_seq_items, mpl_style, multi_sparse, notebook_repr_html,\n",
    "         pprint_nest_depth, precision, width]\n",
    "\n",
    "\"\"\";"
   ]
  },
  {
   "cell_type": "code",
   "execution_count": null,
   "metadata": {},
   "outputs": [],
   "source": [
    "def add_neighbours_in_stack(image, a, b, stack, i, j, inComponent):\n",
    "\n",
    "    inComponent[i, j] = True\n",
    "    neighbours = [(i+1,j),(i-1,j),(i,j-1),(i,j+1)]\n",
    "    #neighbours = [(i-1,j-1),(i+1,j-1),(i+1,j),(i-1,j),(i,j-1),(i,j+1),(i-1,j+1),(i+1,j+1)]\n",
    "    for (k,l) in neighbours:\n",
    "        if 0<=k<image.shape[0] and 0<=l<image.shape[1]:\n",
    "            if (image[k,l]>a and image[k,l]<b) and not inComponent[k, l]:\n",
    "                inComponent[k, l] = True\n",
    "                stack.append((k,l))\n",
    "    return"
   ]
  },
  {
   "cell_type": "code",
   "execution_count": null,
   "metadata": {},
   "outputs": [],
   "source": [
    "def connected_component_nb(image, seuil, i0,j0, inComponent):\n",
    "    stack = [(i0,j0)]\n",
    "    defect = []\n",
    "    nb=1\n",
    "    barycentre = [i0,j0]\n",
    "    while len(stack)>0:\n",
    "        (i,j) = stack.pop()\n",
    "        nb+=1  \n",
    "        add_neighbours_in_stack(image, seuil, 260, stack, i, j, inComponent)\n",
    "        \n",
    "        defect.append((i,j))\n",
    "        barycentre[0] += i\n",
    "        barycentre[1] += j\n",
    "            \n",
    "    barycentre[0] /= nb\n",
    "    barycentre[1] /= nb\n",
    "    \n",
    "    return nb-1, barycentre,defect"
   ]
  },
  {
   "cell_type": "code",
   "execution_count": null,
   "metadata": {},
   "outputs": [],
   "source": [
    "\n",
    "def all_connected_components(image, seuil):\n",
    "\n",
    "    inComponent = np.empty(image.shape, dtype=np.bool)\n",
    "    inComponent[:, :] = False # stoping test\n",
    "\n",
    "    baryAndSizes = []\n",
    "    for i in range(image.shape[0]):\n",
    "        for j in range(image.shape[1]):\n",
    "            if image[i,j]>seuil and not inComponent[i,j]:\n",
    "                baryAndSizes.append(connected_component_nb(image,seuil,i,j,inComponent))\n",
    "                \n",
    "    return baryAndSizes"
   ]
  },
  {
   "cell_type": "code",
   "execution_count": 14,
   "metadata": {},
   "outputs": [],
   "source": [
    "'''all defects'''\n",
    "\n",
    "def defect_collection(image,thresh,plot):\n",
    "    \n",
    "    baryAndSizes = all_connected_components(image, thresh)\n",
    "    number_of_defects = len(baryAndSizes)\n",
    "    \n",
    "    x = np.array([],dtype=float)\n",
    "    y= np.array([],dtype=float)\n",
    "    size = np.array([],dtype=np.int8)\n",
    "    defects = np.array([],dtype=int)\n",
    "    \n",
    "     \n",
    "    '''defects list''' \n",
    "    for i in range(number_of_defects):#baryAndSizes = nb, barycentre,defect\n",
    "        x = np.append(x, baryAndSizes[i][1][0])\n",
    "        y = np.append(y, baryAndSizes[i][1][1])\n",
    "        size = np.append(size, baryAndSizes[i][0])\n",
    "        defects = np.append(defects, baryAndSizes[i][2])\n",
    "   \n",
    "    '''plot'''\n",
    "    if plot:\n",
    "        fig, ax = plt.subplots(1,3, figsize = (22,12))\n",
    "        fig.suptitle('Results', fontsize=16)\n",
    "        ax[0].set_xlim(0,image.shape[1])\n",
    "        ax[1].set_xlim(0,image.shape[1])\n",
    "        ax[2].set_xlim(0,image.shape[1])\n",
    "\n",
    "        title = ['Detected defects centers','Detected defects as discs']\n",
    "        ax[0].imshow(255-image, cmap='gray', vmin = 0, vmax = 255,)\n",
    "        ax[0].scatter(y, x, marker='+', s=size, c = 'r', alpha = 0.5)\n",
    "        ax[0].set_title(title[0])\n",
    "\n",
    "        ax[0].set_xlabel('x')\n",
    "        ax[0].set_ylabel('y')\n",
    "\n",
    "        ax[1].imshow(255-image, cmap='gray', vmin = 0, vmax = 255,)\n",
    "        ax[1].scatter(y, x, marker='o', s=size, c = 'b', alpha = 0.5)\n",
    "        ax[1].set_title(title[1])\n",
    "\n",
    "        ax[1].set_xlabel('x')\n",
    "        ax[1].set_ylabel('y')\n",
    "        fig.show()\n",
    "    \n",
    "    return y, image.shape[0]-x, size,defects #return the cooordinates in x,y axis"
   ]
  },
  {
   "cell_type": "markdown",
   "metadata": {},
   "source": [
    "# Step 2: defects area,centers and coordinates"
   ]
  },
  {
   "cell_type": "markdown",
   "metadata": {},
   "source": [
    "## Convert (x,y) <--> (i,j)"
   ]
  },
  {
   "cell_type": "code",
   "execution_count": 15,
   "metadata": {},
   "outputs": [],
   "source": [
    "def xy_ij(xy_coord,dim_y):\n",
    "    \n",
    "    xy_coord = np.array(xy_coord)\n",
    "    \n",
    "    ij_coord = np.fliplr(xy_coord)\n",
    "    ij_coord[:,0] =  dim_y - ij_coord[:,0]\n",
    "    \n",
    "    return ij_coord\n",
    "\n",
    "def ij_xy(ij_coord,dim_y):\n",
    "    \n",
    "    ij_coord = np.array(ij_coord)\n",
    "    \n",
    "    ij_coord[:,0] =  dim_y - ij_coord[:,0]\n",
    "    xy_coord = np.fliplr(ij_coord)\n",
    "    \n",
    "    return xy_coord\n",
    "    "
   ]
  },
  {
   "cell_type": "code",
   "execution_count": 16,
   "metadata": {},
   "outputs": [],
   "source": [
    "def get_defect_intensity(img,defect): #pixel should np.array (x,y)\n",
    "    \n",
    "    defect = np.array(defect)\n",
    "    #defect = xy_ij(defect,img.shape[0])\n",
    "    i = defect[:,0] \n",
    "    j = defect[:,1]\n",
    "    intensity = img[i.astype(int),j.astype(int)]\n",
    "    \n",
    "    return intensity"
   ]
  },
  {
   "cell_type": "code",
   "execution_count": 17,
   "metadata": {},
   "outputs": [],
   "source": [
    "def clean_defects(pandasoutput,lines_to_delete):\n",
    "    \n",
    "    output = pandasoutput.drop(lines_to_delete)\n",
    "    \n",
    "    return output\n",
    "    "
   ]
  },
  {
   "cell_type": "code",
   "execution_count": 18,
   "metadata": {},
   "outputs": [],
   "source": [
    "def defect_matrix(img,defect,Gaussianshape):\n",
    "    \n",
    "    defect = np.array(defect)\n",
    "    \n",
    "    i_min = np.min(defect[:,0])#starting line index\n",
    "    i_max = np.max(defect[:,0]+1)#last line index (+1 for python)\n",
    "    j_min = np.min(defect[:,1])#starting column index\n",
    "    j_max = np.max(defect[:,1]+1)#last column index (+1 for python)\n",
    "    \n",
    "    defect_shape = img[i_min:i_max,j_min:j_max].shape\n",
    "\n",
    "    dim = np.max(defect_shape)\n",
    "    matrix = np.zeros((dim,dim))\n",
    "\n",
    "    #assert (img[i_min:i_max,j_min:j_max][img[i_min:i_max,j_min:j_max]!= 0.].size \n",
    "            #== get_defect_intensity(img,defect).size)\n",
    "\n",
    "    matrix[0:defect_shape[0],0:defect_shape[1]] = img[i_min:i_max,j_min:j_max].copy()\n",
    "\n",
    "    matrix = cv2.GaussianBlur(matrix,(Gaussianshape,Gaussianshape),0) #smoothing\n",
    "    \n",
    "    return matrix"
   ]
  },
  {
   "cell_type": "code",
   "execution_count": 19,
   "metadata": {},
   "outputs": [],
   "source": [
    "def extrema_number(local_window_dim,Mat):\n",
    "    kshape = min(local_window_dim,Mat.shape[0])\n",
    "\n",
    "    if kshape%2 == 0:\n",
    "        kshape = kshape -1\n",
    "        \n",
    "    mini,number_extrema = findLocalMin(Mat,(kshape,kshape),True)\n",
    "    \n",
    "    if number_extrema == 0:\n",
    "        number_extrema=1\n",
    "    \n",
    "    return number_extrema "
   ]
  },
  {
   "cell_type": "code",
   "execution_count": 20,
   "metadata": {},
   "outputs": [],
   "source": [
    "def ellipse_features(defect,s_error):\n",
    "    \n",
    "    defect = defect.T#defect should be an array of shape (2,...)!!\n",
    "    \n",
    "    cov = np.cov(defect)\n",
    "    w, v = LA.eig(cov)#eigen values, eigen vectors\n",
    "\n",
    "    index = np.argmax(w) #the coreesponding value to the biggest eigen value\n",
    "    \n",
    "    if np.abs(v[0,index]) == 0:\n",
    "        angle = np.sign(v[1,index])*90.\n",
    "    else:\n",
    "        angle = np.arctan(v[1,index]/np.abs(v[0,index]))\n",
    "        angle = math.degrees(angle)\n",
    "\n",
    "    stand_dev_x= np.sqrt(np.float(s_error)*w[0])#Standard deviation on the direction of eigen vector of position 0\n",
    "\n",
    "    stand_dev_y= np.sqrt(np.float(s_error)*w[1])#Standard deviation on the direction of eigen vector of position 1\n",
    "\n",
    "    return angle, stand_dev_x,stand_dev_y\n"
   ]
  },
  {
   "cell_type": "code",
   "execution_count": 21,
   "metadata": {},
   "outputs": [],
   "source": [
    "def separation(img,case,number_extrema,s_error):\n",
    "    \n",
    "    points = np.array(case)#i,j\n",
    "    pts = ij_xy(points,img.shape[0])\n",
    "    \n",
    "    '''\n",
    "    plt.plot(pts[:,0],pts[:,1],\"o\");\n",
    "    '''\n",
    "    \n",
    "    \"\"\"creation of the algo\"\"\"\n",
    "    kmeans=KMeans(n_clusters=number_extrema)\n",
    "    \"\"\"computation of centroids\"\"\"\n",
    "    kmeans.fit(pts)\n",
    "    \"\"\"here is the result\"\"\"\n",
    "    centroids = kmeans.cluster_centers_\n",
    "    labels = kmeans.predict(pts)\n",
    "    \n",
    "    '''\n",
    "    plt.scatter(pts[:,0],pts[:,1],c=labels,marker=\"+\");\n",
    "    for centroid in centroids:\n",
    "        plt.plot(centroid[0],centroid[1],\"o\")\n",
    "    '''\n",
    "    \n",
    "    assertion = 0\n",
    "    sub_defects = []\n",
    "    Features = []\n",
    "    for i in range(number_extrema):\n",
    "        sub_defects.append(pts[labels == i])#x,y replace with points if i,j\n",
    "        Features.append([ellipse_features(sub_defects[i],s_error)])\n",
    "        assertion += sub_defects[i].size//2\n",
    "        \n",
    "    assert (assertion == points.size//2)\n",
    "        \n",
    "    return centroids,sub_defects,Features #x,y\n",
    "    "
   ]
  },
  {
   "cell_type": "code",
   "execution_count": 97,
   "metadata": {},
   "outputs": [],
   "source": [
    "def defects_output(img,x, y, size,alldefects,upper_intensity):\n",
    "    \n",
    "    alldefect = alldefects.reshape((alldefects.size//2,2))#i,j\n",
    "    \n",
    "    alldefect = alldefect.tolist()\n",
    "    centers = np.stack((x, y), axis=-1)\n",
    "    mean_intensity = []\n",
    "    \n",
    "    output = pd.DataFrame([[],[], [],[]]).T\n",
    "\n",
    "    drop=[]\n",
    "    for i,j in enumerate(size):\n",
    "        ieme_defect = pd.DataFrame(alldefect[0:j])\n",
    "        i_max = np.max(ieme_defect[0])\n",
    "        Intensity = get_defect_intensity(img,ieme_defect)\n",
    "        mean_intensity = np.mean(Intensity)\n",
    "        if mean_intensity > upper_intensity or j > 3*upper_intensity or i_max < z[0] or i_max > z[1]:\n",
    "            drop.append(i)\n",
    " \n",
    "        ith_line = pd.DataFrame([[centers[i,:].round(2), size[i],mean_intensity.round(2),ieme_defect]],\n",
    "                                index = np.array([i]))\n",
    "        output = output.append(ith_line)\n",
    "        alldefect = alldefect[j:]\n",
    "\n",
    "    output.columns = ['Centers in (x,y)', 'Area','Average intensity', 'the ith defect in (i,j)'] \n",
    "    assert(np.array_equal(np.array([output['the ith defect in (i,j)'][i].size//2 for i in range(len(size))]),size))\n",
    "    \n",
    "    output['Area']=output['Area'].astype(int)\n",
    "    \n",
    "    output = clean_defects(output,drop)\n",
    "    print len(drop) , 'defects were cleared '\n",
    "\n",
    "    return output #i,j"
   ]
  },
  {
   "cell_type": "code",
   "execution_count": 98,
   "metadata": {},
   "outputs": [],
   "source": [
    "def defects_separation(img,output,Localshape,Gaussianshape,s_error):#dataframe output of defects after noise and artifacts elimination\n",
    "    \n",
    "    separated_output = pd.DataFrame([]).T\n",
    "    \n",
    "    for index, row in output.iterrows():\n",
    "        \n",
    "        ieme_defect = row['the ith defect in (i,j)']\n",
    "\n",
    "        '''matrix of each defect'''\n",
    "\n",
    "        matrix = defect_matrix(img,ieme_defect,Gaussianshape)\n",
    "        \n",
    "        '''Gradient norm'''\n",
    "        \n",
    "        operators=getCompassOperators(\"robinson2\")\n",
    "        all_grad = np.abs(np.array([sg.convolve(matrix, operators[i,:,:], \"valid\") for i in range(4)]))\n",
    "        Norme = np.sqrt(all_grad[0,:,:]**2 + all_grad[1,:,:]**2+all_grad[2,:,:]**2+all_grad[3,:,:]**2)\n",
    "        \n",
    "        '''Extrema'''\n",
    "    \n",
    "        if matrix.shape[0] <=8:\n",
    "            extrema = 1\n",
    "        else:\n",
    "            extrema = extrema_number(Localshape,Norme)\n",
    "        \n",
    "        '''separation and ellipse_features'''\n",
    "        \n",
    "        centroids,sub_defects,Features = separation(img,ieme_defect,extrema,s_error)\n",
    "        \n",
    "        ith_line = pd.DataFrame([[extrema,centroids.round(2),sub_defects,Features]],index = np.array([index]))\n",
    "        separated_output = separated_output.append(ith_line)\n",
    "\n",
    "\n",
    "    separated_output.columns = ['extrema','centroids','sub_defects','Features']\n",
    "    \n",
    "    separated_output['extrema']=separated_output['extrema'].astype(int)\n",
    "    \n",
    "\n",
    "    return separated_output #x,y"
   ]
  },
  {
   "cell_type": "code",
   "execution_count": 99,
   "metadata": {},
   "outputs": [],
   "source": [
    "def plot_defects(img,output,localwindow,gaussianwindow,segmentation,s_error):\n",
    "    \n",
    "    fig=plt.figure(figsize=(12,9))\n",
    "    \n",
    "    output_subdefect = defects_separation(img,output,localwindow,gaussianwindow,s_error)\n",
    "    \n",
    "    index = output_subdefect['extrema'][output_subdefect['extrema'] >= segmentation].index #indexes of the ouput defects according to segmentation \n",
    "    values = output_subdefect ['extrema'][output_subdefect['extrema'] >= segmentation].values # number of subdefects according to segmentation\n",
    "    \n",
    "    Number_of_defects = sum(output_subdefect ['extrema'].values)\n",
    "\n",
    "    defects = output_subdefect['sub_defects'][output_subdefect['extrema'] >= segmentation]#defects column according to segmentation\n",
    "    for k,i in enumerate(index):\n",
    "        case = defects[i]\n",
    "        seg = values[k]\n",
    "        for j in range(seg):\n",
    "            if seg == 1:\n",
    "                plt.plot(case[j][:,0],case[j][:,1],\"k.\");\n",
    "            else:\n",
    "                plt.plot(case[j][:,0],case[j][:,1],\".\");\n",
    "            \n",
    "    plt.title('defects segmented')\n",
    "    plt.show();\n",
    "    print 'There are ', Number_of_defects, 'total detected defected'\n",
    "    \n",
    "    return output_subdefect\n",
    "        "
   ]
  },
  {
   "cell_type": "markdown",
   "metadata": {},
   "source": [
    "# covariance error ellipse"
   ]
  },
  {
   "cell_type": "code",
   "execution_count": 100,
   "metadata": {},
   "outputs": [],
   "source": [
    "'''optional'''\n",
    "def centrelize(case):\n",
    "    \n",
    "    x_min = np.min(case[:,0])\n",
    "    y_min = np.min(case[:,1])\n",
    "    \n",
    "    case[:,0] = case[:,0] - x_min\n",
    "    case[:,1] = case[:,1] - y_min\n",
    "    \n",
    "    return case"
   ]
  },
  {
   "cell_type": "code",
   "execution_count": 101,
   "metadata": {},
   "outputs": [],
   "source": [
    "def plot_ellipse(ax,centroid,angle, stand_dev_x,stand_dev_y,defect,fill = False,edgecolor = 'black'):\n",
    "    \n",
    "    #fig = plt.figure(figsize=(16,16)) #decommented when drwing one ellipse\n",
    "    #ax = fig.add_subplot(111, aspect='equal')#decommented when drwing one ellipse\n",
    "    #ax.scatter(defect[:,0], defect[:,1],marker=\"+\")\n",
    "    ax.imshow(np.flip(imgtosuperimpose, 0),cmap='jet')\n",
    "    \n",
    "    x = centroid[0] #x coordinate\n",
    "    y = centroid[1] #y coordinate\n",
    "\n",
    "    e = patches.Ellipse((x, y), stand_dev_y, stand_dev_x,angle=angle, linewidth=2, fill=fill,edgecolor=edgecolor)\n",
    "\n",
    "    ax.add_patch(e)\n",
    "    ax.set_title('Estimated detected defects with their error ellipse');\n",
    "    \n",
    "    ax.add_artist(e)\n",
    "    e.set_alpha(0.9)\n",
    "    e.set_facecolor([0.1,1,0])#green\n"
   ]
  },
  {
   "cell_type": "code",
   "execution_count": 102,
   "metadata": {},
   "outputs": [],
   "source": [
    "def plot_all_ellipses(sub_defects,segmentation,s_error):\n",
    "    \n",
    "    fig = plt.figure(figsize=(12,9)) \n",
    "    \n",
    "    ax = fig.add_subplot(111, aspect='equal')\n",
    "    \n",
    "    index = sub_defects ['extrema'][sub_defects['extrema'] >= segmentation].index \n",
    "    #indexes of the ouput defects according to segmentation \n",
    "    values = sub_defects['extrema'][sub_defects['extrema'] >= segmentation].values \n",
    "    # number of subdefects according to segmentation\n",
    "    \n",
    "    for k,i in enumerate(index):\n",
    "\n",
    "        seg = values[k]\n",
    "   \n",
    "        for j in range(seg):\n",
    "            '''Ellipse features'''\n",
    "            case = sub_defects['sub_defects'][i][j]\n",
    "            centroid = sub_defects['centroids'][i][j]\n",
    "            angle, stand_dev_x,stand_dev_y = sub_defects['Features'][i][j][0];\n",
    "            \n",
    "            if seg == 1:\n",
    "                \n",
    "                plot_ellipse(ax,centroid,angle,2* min([stand_dev_y,stand_dev_x]),\n",
    "                             2*max([stand_dev_y,stand_dev_x]),case,True)#fill and edge color are optional arg\n",
    "                \n",
    "            else:\n",
    "                \n",
    "                plot_ellipse(ax,centroid,angle, 2*min([stand_dev_y,stand_dev_x]),\n",
    "                             2*max([stand_dev_y,stand_dev_x]),case,True,'blue')#fill and edge color are optional arg\n",
    "                \n",
    "    return ax"
   ]
  },
  {
   "cell_type": "markdown",
   "metadata": {},
   "source": [
    "# post-processing"
   ]
  },
  {
   "cell_type": "code",
   "execution_count": 103,
   "metadata": {},
   "outputs": [],
   "source": [
    "def post_processing(polygon,coordinates,area):\n",
    "    old_dim = len(coordinates)\n",
    "    p = pth.Path(polygon)\n",
    "    mask = p.contains_points(coordinates)\n",
    "    reduced_coord = coordinates[mask]\n",
    "    reduced_area = area[mask]\n",
    "    new_dim = len(reduced_coord)\n",
    "    print(old_dim-new_dim,' values were reduced')\n",
    "    return reduced_coord,reduced_area\n",
    "\n",
    "def resizing(img,reduced_coord,dim):\n",
    "    \n",
    "    k_x = np.array(img.shape[1]/dim[0],dtype=float)\n",
    "    k_y = np.array(img.shape[0]/dim[1],dtype=float)\n",
    "    \n",
    "    coord = reduced_coord.copy().astype(float)\n",
    "    coord[:,0],coord[:,1] = reduced_coord[:,0]/k_x,reduced_coord[:,1]/k_y\n",
    "    \n",
    "    return coord"
   ]
  },
  {
   "cell_type": "code",
   "execution_count": 104,
   "metadata": {},
   "outputs": [],
   "source": [
    "def coef_dimij_dimxz(img,dimxy,z):\n",
    "    \n",
    "    k_z = np.array(img.shape[0]/dimxy[1],dtype=float)*z\n",
    "    \n",
    "    return k_z"
   ]
  },
  {
   "cell_type": "markdown",
   "metadata": {},
   "source": [
    "# Step 1: collection of defects"
   ]
  },
  {
   "cell_type": "code",
   "execution_count": 105,
   "metadata": {},
   "outputs": [
    {
     "data": {
      "text/plain": [
       "[0, 804L]"
      ]
     },
     "execution_count": 105,
     "metadata": {},
     "output_type": "execute_result"
    }
   ],
   "source": [
    "z0 = img_xy.shape[0]+1 #no artifact in xy image\n",
    "z = [0,z0]\n",
    "z\n"
   ]
  },
  {
   "cell_type": "code",
   "execution_count": 106,
   "metadata": {},
   "outputs": [
    {
     "name": "stdout",
     "output_type": "stream",
     "text": [
      "Wall time: 7.98 s\n"
     ]
    }
   ],
   "source": [
    "%%time\n",
    "x_xy, y_xy, size_xy,alldefects_xy = defect_collection(img_xy,0,False)#plot false, 0 for threshold\n",
    "x_xz, y_xz, size_xz,alldefects_xz = defect_collection(img_xz,0,False)"
   ]
  },
  {
   "cell_type": "markdown",
   "metadata": {},
   "source": [
    "# Step 2: cleaning defects and structuring"
   ]
  },
  {
   "cell_type": "code",
   "execution_count": 107,
   "metadata": {},
   "outputs": [
    {
     "name": "stdout",
     "output_type": "stream",
     "text": [
      "3 defects were cleared \n",
      "Wall time: 125 ms\n"
     ]
    }
   ],
   "source": [
    "%%time\n",
    "output_xy = defects_output(img_xy,x_xy, y_xy, size_xy,alldefects_xy,200)"
   ]
  },
  {
   "cell_type": "code",
   "execution_count": 109,
   "metadata": {},
   "outputs": [
    {
     "data": {
      "text/html": [
       "<div>\n",
       "<style scoped>\n",
       "    .dataframe tbody tr th:only-of-type {\n",
       "        vertical-align: middle;\n",
       "    }\n",
       "\n",
       "    .dataframe tbody tr th {\n",
       "        vertical-align: top;\n",
       "    }\n",
       "\n",
       "    .dataframe thead th {\n",
       "        text-align: right;\n",
       "    }\n",
       "</style>\n",
       "<table border=\"1\" class=\"dataframe\">\n",
       "  <thead>\n",
       "    <tr style=\"text-align: right;\">\n",
       "      <th></th>\n",
       "      <th>Centers in (x,y)</th>\n",
       "      <th>Area</th>\n",
       "      <th>Average intensity</th>\n",
       "      <th>the ith defect in (i,j)</th>\n",
       "    </tr>\n",
       "  </thead>\n",
       "  <tbody>\n",
       "    <tr>\n",
       "      <th>0</th>\n",
       "      <td>[569.0, 781.0]</td>\n",
       "      <td>46</td>\n",
       "      <td>174.35</td>\n",
       "      <td>0    1\n",
       "0   19  567\n",
       "1   19  568\n",
       "2   19  56...</td>\n",
       "    </tr>\n",
       "    <tr>\n",
       "      <th>1</th>\n",
       "      <td>[96.0, 686.0]</td>\n",
       "      <td>8</td>\n",
       "      <td>148.75</td>\n",
       "      <td>0   1\n",
       "0  117  95\n",
       "1  117  96\n",
       "2  117  97\n",
       "3 ...</td>\n",
       "    </tr>\n",
       "    <tr>\n",
       "      <th>2</th>\n",
       "      <td>[600.0, 669.0]</td>\n",
       "      <td>32</td>\n",
       "      <td>172.16</td>\n",
       "      <td>0    1\n",
       "0   131  599\n",
       "1   131  600\n",
       "2   131...</td>\n",
       "    </tr>\n",
       "    <tr>\n",
       "      <th>3</th>\n",
       "      <td>[557.0, 459.0]</td>\n",
       "      <td>4</td>\n",
       "      <td>162.75</td>\n",
       "      <td>0    1\n",
       "0  344  557\n",
       "1  344  558\n",
       "2  345  55...</td>\n",
       "    </tr>\n",
       "    <tr>\n",
       "      <th>4</th>\n",
       "      <td>[319.0, 366.0]</td>\n",
       "      <td>148</td>\n",
       "      <td>146.46</td>\n",
       "      <td>0    1\n",
       "0    428  317\n",
       "1    428  318\n",
       "2   ...</td>\n",
       "    </tr>\n",
       "    <tr>\n",
       "      <th>5</th>\n",
       "      <td>[109.0, 335.0]</td>\n",
       "      <td>18</td>\n",
       "      <td>163.67</td>\n",
       "      <td>0    1\n",
       "0   466  109\n",
       "1   466  110\n",
       "2   467...</td>\n",
       "    </tr>\n",
       "    <tr>\n",
       "      <th>6</th>\n",
       "      <td>[108.0, 289.0]</td>\n",
       "      <td>104</td>\n",
       "      <td>149.49</td>\n",
       "      <td>0    1\n",
       "0    508  106\n",
       "1    508  107\n",
       "2   ...</td>\n",
       "    </tr>\n",
       "    <tr>\n",
       "      <th>7</th>\n",
       "      <td>[403.0, 256.0]</td>\n",
       "      <td>94</td>\n",
       "      <td>141.86</td>\n",
       "      <td>0    1\n",
       "0   538  403\n",
       "1   538  404\n",
       "2   539...</td>\n",
       "    </tr>\n",
       "    <tr>\n",
       "      <th>9</th>\n",
       "      <td>[335.0, 211.0]</td>\n",
       "      <td>122</td>\n",
       "      <td>139.51</td>\n",
       "      <td>0    1\n",
       "0    586  333\n",
       "1    586  334\n",
       "2   ...</td>\n",
       "    </tr>\n",
       "    <tr>\n",
       "      <th>10</th>\n",
       "      <td>[66.0, 195.0]</td>\n",
       "      <td>30</td>\n",
       "      <td>147.53</td>\n",
       "      <td>0   1\n",
       "0   607  63\n",
       "1   607  64\n",
       "2   607  6...</td>\n",
       "    </tr>\n",
       "    <tr>\n",
       "      <th>11</th>\n",
       "      <td>[94.0, 194.0]</td>\n",
       "      <td>8</td>\n",
       "      <td>135.12</td>\n",
       "      <td>0   1\n",
       "0  609  93\n",
       "1  609  94\n",
       "2  609  95\n",
       "3 ...</td>\n",
       "    </tr>\n",
       "    <tr>\n",
       "      <th>12</th>\n",
       "      <td>[95.0, 185.0]</td>\n",
       "      <td>8</td>\n",
       "      <td>162.62</td>\n",
       "      <td>0   1\n",
       "0  617  95\n",
       "1  617  96\n",
       "2  618  96\n",
       "3 ...</td>\n",
       "    </tr>\n",
       "    <tr>\n",
       "      <th>13</th>\n",
       "      <td>[335.0, 180.0]</td>\n",
       "      <td>52</td>\n",
       "      <td>164.65</td>\n",
       "      <td>0    1\n",
       "0   617  335\n",
       "1   617  336\n",
       "2   618...</td>\n",
       "    </tr>\n",
       "    <tr>\n",
       "      <th>14</th>\n",
       "      <td>[314.0, 183.0]</td>\n",
       "      <td>16</td>\n",
       "      <td>157.19</td>\n",
       "      <td>0    1\n",
       "0   619  313\n",
       "1   619  314\n",
       "2   619...</td>\n",
       "    </tr>\n",
       "    <tr>\n",
       "      <th>15</th>\n",
       "      <td>[131.0, 177.0]</td>\n",
       "      <td>8</td>\n",
       "      <td>161.62</td>\n",
       "      <td>0    1\n",
       "0  625  131\n",
       "1  625  132\n",
       "2  626  13...</td>\n",
       "    </tr>\n",
       "    <tr>\n",
       "      <th>16</th>\n",
       "      <td>[202.0, 164.0]</td>\n",
       "      <td>120</td>\n",
       "      <td>152.17</td>\n",
       "      <td>0    1\n",
       "0    631  201\n",
       "1    631  202\n",
       "2   ...</td>\n",
       "    </tr>\n",
       "    <tr>\n",
       "      <th>18</th>\n",
       "      <td>[329.0, 165.0]</td>\n",
       "      <td>20</td>\n",
       "      <td>161.55</td>\n",
       "      <td>0    1\n",
       "0   635  329\n",
       "1   635  330\n",
       "2   636...</td>\n",
       "    </tr>\n",
       "    <tr>\n",
       "      <th>20</th>\n",
       "      <td>[384.0, 163.0]</td>\n",
       "      <td>16</td>\n",
       "      <td>145.25</td>\n",
       "      <td>0    1\n",
       "0   639  385\n",
       "1   639  386\n",
       "2   640...</td>\n",
       "    </tr>\n",
       "    <tr>\n",
       "      <th>21</th>\n",
       "      <td>[356.0, 153.0]</td>\n",
       "      <td>144</td>\n",
       "      <td>175.81</td>\n",
       "      <td>0    1\n",
       "0    641  352\n",
       "1    641  353\n",
       "2   ...</td>\n",
       "    </tr>\n",
       "    <tr>\n",
       "      <th>22</th>\n",
       "      <td>[339.0, 156.0]</td>\n",
       "      <td>60</td>\n",
       "      <td>151.25</td>\n",
       "      <td>0    1\n",
       "0   643  338\n",
       "1   643  339\n",
       "2   643...</td>\n",
       "    </tr>\n",
       "    <tr>\n",
       "      <th>23</th>\n",
       "      <td>[332.0, 158.0]</td>\n",
       "      <td>6</td>\n",
       "      <td>163.33</td>\n",
       "      <td>0    1\n",
       "0  645  332\n",
       "1  645  333\n",
       "2  645  33...</td>\n",
       "    </tr>\n",
       "    <tr>\n",
       "      <th>24</th>\n",
       "      <td>[268.0, 144.0]</td>\n",
       "      <td>200</td>\n",
       "      <td>131.54</td>\n",
       "      <td>0    1\n",
       "0    649  267\n",
       "1    649  268\n",
       "2   ...</td>\n",
       "    </tr>\n",
       "    <tr>\n",
       "      <th>25</th>\n",
       "      <td>[248.0, 138.0]</td>\n",
       "      <td>94</td>\n",
       "      <td>156.32</td>\n",
       "      <td>0    1\n",
       "0   659  248\n",
       "1   659  249\n",
       "2   659...</td>\n",
       "    </tr>\n",
       "    <tr>\n",
       "      <th>26</th>\n",
       "      <td>[300.0, 103.0]</td>\n",
       "      <td>32</td>\n",
       "      <td>182.72</td>\n",
       "      <td>0    1\n",
       "0   697  299\n",
       "1   697  300\n",
       "2   697...</td>\n",
       "    </tr>\n",
       "    <tr>\n",
       "      <th>27</th>\n",
       "      <td>[218.0, 95.0]</td>\n",
       "      <td>244</td>\n",
       "      <td>139.88</td>\n",
       "      <td>0    1\n",
       "0    699  221\n",
       "1    699  222\n",
       "2   ...</td>\n",
       "    </tr>\n",
       "    <tr>\n",
       "      <th>28</th>\n",
       "      <td>[330.0, 94.0]</td>\n",
       "      <td>60</td>\n",
       "      <td>175.68</td>\n",
       "      <td>0    1\n",
       "0   703  329\n",
       "1   703  330\n",
       "2   703...</td>\n",
       "    </tr>\n",
       "    <tr>\n",
       "      <th>29</th>\n",
       "      <td>[241.0, 95.0]</td>\n",
       "      <td>64</td>\n",
       "      <td>181.70</td>\n",
       "      <td>0    1\n",
       "0   705  237\n",
       "1   705  238\n",
       "2   705...</td>\n",
       "    </tr>\n",
       "    <tr>\n",
       "      <th>30</th>\n",
       "      <td>[327.0, 76.0]</td>\n",
       "      <td>12</td>\n",
       "      <td>153.42</td>\n",
       "      <td>0    1\n",
       "0   725  327\n",
       "1   725  328\n",
       "2   726...</td>\n",
       "    </tr>\n",
       "    <tr>\n",
       "      <th>31</th>\n",
       "      <td>[357.0, 71.0]</td>\n",
       "      <td>14</td>\n",
       "      <td>148.00</td>\n",
       "      <td>0    1\n",
       "0   731  356\n",
       "1   731  357\n",
       "2   731...</td>\n",
       "    </tr>\n",
       "    <tr>\n",
       "      <th>32</th>\n",
       "      <td>[339.0, 60.0]</td>\n",
       "      <td>144</td>\n",
       "      <td>130.16</td>\n",
       "      <td>0    1\n",
       "0    735  337\n",
       "1    735  338\n",
       "2   ...</td>\n",
       "    </tr>\n",
       "    <tr>\n",
       "      <th>33</th>\n",
       "      <td>[274.0, 62.0]</td>\n",
       "      <td>64</td>\n",
       "      <td>172.64</td>\n",
       "      <td>0    1\n",
       "0   737  273\n",
       "1   737  274\n",
       "2   737...</td>\n",
       "    </tr>\n",
       "    <tr>\n",
       "      <th>34</th>\n",
       "      <td>[235.0, 52.0]</td>\n",
       "      <td>168</td>\n",
       "      <td>141.92</td>\n",
       "      <td>0    1\n",
       "0    745  230\n",
       "1    745  231\n",
       "2   ...</td>\n",
       "    </tr>\n",
       "    <tr>\n",
       "      <th>35</th>\n",
       "      <td>[207.0, 56.0]</td>\n",
       "      <td>4</td>\n",
       "      <td>132.00</td>\n",
       "      <td>0    1\n",
       "0  747  207\n",
       "1  747  208\n",
       "2  748  20...</td>\n",
       "    </tr>\n",
       "    <tr>\n",
       "      <th>36</th>\n",
       "      <td>[297.0, 44.0]</td>\n",
       "      <td>176</td>\n",
       "      <td>121.63</td>\n",
       "      <td>0    1\n",
       "0    749  296\n",
       "1    749  297\n",
       "2   ...</td>\n",
       "    </tr>\n",
       "  </tbody>\n",
       "</table>\n",
       "</div>"
      ],
      "text/plain": [
       "   Centers in (x,y)  Area  Average intensity                            the ith defect in (i,j)\n",
       "0    [569.0, 781.0]    46             174.35       0    1\n",
       "0   19  567\n",
       "1   19  568\n",
       "2   19  56...\n",
       "1     [96.0, 686.0]     8             148.75       0   1\n",
       "0  117  95\n",
       "1  117  96\n",
       "2  117  97\n",
       "3 ...\n",
       "2    [600.0, 669.0]    32             172.16        0    1\n",
       "0   131  599\n",
       "1   131  600\n",
       "2   131...\n",
       "3    [557.0, 459.0]     4             162.75       0    1\n",
       "0  344  557\n",
       "1  344  558\n",
       "2  345  55...\n",
       "4    [319.0, 366.0]   148             146.46         0    1\n",
       "0    428  317\n",
       "1    428  318\n",
       "2   ...\n",
       "5    [109.0, 335.0]    18             163.67        0    1\n",
       "0   466  109\n",
       "1   466  110\n",
       "2   467...\n",
       "6    [108.0, 289.0]   104             149.49         0    1\n",
       "0    508  106\n",
       "1    508  107\n",
       "2   ...\n",
       "7    [403.0, 256.0]    94             141.86        0    1\n",
       "0   538  403\n",
       "1   538  404\n",
       "2   539...\n",
       "9    [335.0, 211.0]   122             139.51         0    1\n",
       "0    586  333\n",
       "1    586  334\n",
       "2   ...\n",
       "10    [66.0, 195.0]    30             147.53        0   1\n",
       "0   607  63\n",
       "1   607  64\n",
       "2   607  6...\n",
       "11    [94.0, 194.0]     8             135.12       0   1\n",
       "0  609  93\n",
       "1  609  94\n",
       "2  609  95\n",
       "3 ...\n",
       "12    [95.0, 185.0]     8             162.62       0   1\n",
       "0  617  95\n",
       "1  617  96\n",
       "2  618  96\n",
       "3 ...\n",
       "13   [335.0, 180.0]    52             164.65        0    1\n",
       "0   617  335\n",
       "1   617  336\n",
       "2   618...\n",
       "14   [314.0, 183.0]    16             157.19        0    1\n",
       "0   619  313\n",
       "1   619  314\n",
       "2   619...\n",
       "15   [131.0, 177.0]     8             161.62       0    1\n",
       "0  625  131\n",
       "1  625  132\n",
       "2  626  13...\n",
       "16   [202.0, 164.0]   120             152.17         0    1\n",
       "0    631  201\n",
       "1    631  202\n",
       "2   ...\n",
       "18   [329.0, 165.0]    20             161.55        0    1\n",
       "0   635  329\n",
       "1   635  330\n",
       "2   636...\n",
       "20   [384.0, 163.0]    16             145.25        0    1\n",
       "0   639  385\n",
       "1   639  386\n",
       "2   640...\n",
       "21   [356.0, 153.0]   144             175.81         0    1\n",
       "0    641  352\n",
       "1    641  353\n",
       "2   ...\n",
       "22   [339.0, 156.0]    60             151.25        0    1\n",
       "0   643  338\n",
       "1   643  339\n",
       "2   643...\n",
       "23   [332.0, 158.0]     6             163.33       0    1\n",
       "0  645  332\n",
       "1  645  333\n",
       "2  645  33...\n",
       "24   [268.0, 144.0]   200             131.54         0    1\n",
       "0    649  267\n",
       "1    649  268\n",
       "2   ...\n",
       "25   [248.0, 138.0]    94             156.32        0    1\n",
       "0   659  248\n",
       "1   659  249\n",
       "2   659...\n",
       "26   [300.0, 103.0]    32             182.72        0    1\n",
       "0   697  299\n",
       "1   697  300\n",
       "2   697...\n",
       "27    [218.0, 95.0]   244             139.88         0    1\n",
       "0    699  221\n",
       "1    699  222\n",
       "2   ...\n",
       "28    [330.0, 94.0]    60             175.68        0    1\n",
       "0   703  329\n",
       "1   703  330\n",
       "2   703...\n",
       "29    [241.0, 95.0]    64             181.70        0    1\n",
       "0   705  237\n",
       "1   705  238\n",
       "2   705...\n",
       "30    [327.0, 76.0]    12             153.42        0    1\n",
       "0   725  327\n",
       "1   725  328\n",
       "2   726...\n",
       "31    [357.0, 71.0]    14             148.00        0    1\n",
       "0   731  356\n",
       "1   731  357\n",
       "2   731...\n",
       "32    [339.0, 60.0]   144             130.16         0    1\n",
       "0    735  337\n",
       "1    735  338\n",
       "2   ...\n",
       "33    [274.0, 62.0]    64             172.64        0    1\n",
       "0   737  273\n",
       "1   737  274\n",
       "2   737...\n",
       "34    [235.0, 52.0]   168             141.92         0    1\n",
       "0    745  230\n",
       "1    745  231\n",
       "2   ...\n",
       "35    [207.0, 56.0]     4             132.00       0    1\n",
       "0  747  207\n",
       "1  747  208\n",
       "2  748  20...\n",
       "36    [297.0, 44.0]   176             121.63         0    1\n",
       "0    749  296\n",
       "1    749  297\n",
       "2   ..."
      ]
     },
     "execution_count": 109,
     "metadata": {},
     "output_type": "execute_result"
    }
   ],
   "source": [
    "output_xy"
   ]
  },
  {
   "cell_type": "code",
   "execution_count": 113,
   "metadata": {},
   "outputs": [],
   "source": [
    "X = output_xy['Average intensity']"
   ]
  },
  {
   "cell_type": "code",
   "execution_count": 114,
   "metadata": {},
   "outputs": [
    {
     "data": {
      "image/png": "[encoded data removed]",
      "text/plain": [
       "<matplotlib.figure.Figure at 0x4572a978>"
      ]
     },
     "metadata": {},
     "output_type": "display_data"
    }
   ],
   "source": [
    "plt.hist(X,bins=15,edgecolor=\"k\");"
   ]
  },
  {
   "cell_type": "code",
   "execution_count": 85,
   "metadata": {},
   "outputs": [
    {
     "data": {
      "text/plain": [
       "array([ 62.57, 625.71])"
      ]
     },
     "execution_count": 85,
     "metadata": {},
     "output_type": "execute_result"
    }
   ],
   "source": [
    "z = coef_dimij_dimxz(img_xz,[280.,280.],[20,200])#20,200 are the boundry downof artifacts\n",
    "z"
   ]
  },
  {
   "cell_type": "code",
   "execution_count": 86,
   "metadata": {},
   "outputs": [
    {
     "name": "stdout",
     "output_type": "stream",
     "text": [
      "45 defects were cleared \n"
     ]
    }
   ],
   "source": [
    "output_xz = defects_output(img_xz,x_xz, y_xz, size_xz,alldefects_xz,200)"
   ]
  },
  {
   "cell_type": "code",
   "execution_count": 36,
   "metadata": {},
   "outputs": [
    {
     "data": {
      "text/html": [
       "<div>\n",
       "<style scoped>\n",
       "    .dataframe tbody tr th:only-of-type {\n",
       "        vertical-align: middle;\n",
       "    }\n",
       "\n",
       "    .dataframe tbody tr th {\n",
       "        vertical-align: top;\n",
       "    }\n",
       "\n",
       "    .dataframe thead th {\n",
       "        text-align: right;\n",
       "    }\n",
       "</style>\n",
       "<table border=\"1\" class=\"dataframe\">\n",
       "  <thead>\n",
       "    <tr style=\"text-align: right;\">\n",
       "      <th></th>\n",
       "      <th>Centers in (x,y)</th>\n",
       "      <th>Area</th>\n",
       "      <th>Average intensity</th>\n",
       "      <th>the ith defect in (i,j)</th>\n",
       "    </tr>\n",
       "  </thead>\n",
       "  <tbody>\n",
       "    <tr>\n",
       "      <th>2</th>\n",
       "      <td>[523.0, 768.0]</td>\n",
       "      <td>32</td>\n",
       "      <td>166.22</td>\n",
       "      <td>0    1\n",
       "0   105  522\n",
       "1   105  523\n",
       "2   105...</td>\n",
       "    </tr>\n",
       "    <tr>\n",
       "      <th>4</th>\n",
       "      <td>[527.0, 752.0]</td>\n",
       "      <td>44</td>\n",
       "      <td>175.73</td>\n",
       "      <td>0    1\n",
       "0   121  526\n",
       "1   121  527\n",
       "2   121...</td>\n",
       "    </tr>\n",
       "    <tr>\n",
       "      <th>5</th>\n",
       "      <td>[490.0, 743.0]</td>\n",
       "      <td>4</td>\n",
       "      <td>156.25</td>\n",
       "      <td>0    1\n",
       "0  133  490\n",
       "1  133  491\n",
       "2  134  49...</td>\n",
       "    </tr>\n",
       "    <tr>\n",
       "      <th>8</th>\n",
       "      <td>[452.0, 687.0]</td>\n",
       "      <td>32</td>\n",
       "      <td>172.91</td>\n",
       "      <td>0    1\n",
       "0   185  454\n",
       "1   185  455\n",
       "2   185...</td>\n",
       "    </tr>\n",
       "    <tr>\n",
       "      <th>9</th>\n",
       "      <td>[465.0, 677.0]</td>\n",
       "      <td>44</td>\n",
       "      <td>153.84</td>\n",
       "      <td>0    1\n",
       "0   197  462\n",
       "1   197  463\n",
       "2   197...</td>\n",
       "    </tr>\n",
       "    <tr>\n",
       "      <th>10</th>\n",
       "      <td>[778.0, 649.0]</td>\n",
       "      <td>44</td>\n",
       "      <td>177.16</td>\n",
       "      <td>0    1\n",
       "0   225  776\n",
       "1   225  777\n",
       "2   225...</td>\n",
       "    </tr>\n",
       "    <tr>\n",
       "      <th>11</th>\n",
       "      <td>[322.0, 646.0]</td>\n",
       "      <td>148</td>\n",
       "      <td>140.03</td>\n",
       "      <td>0    1\n",
       "0    227  315\n",
       "1    227  316\n",
       "2   ...</td>\n",
       "    </tr>\n",
       "    <tr>\n",
       "      <th>14</th>\n",
       "      <td>[493.0, 634.0]</td>\n",
       "      <td>14</td>\n",
       "      <td>151.43</td>\n",
       "      <td>0    1\n",
       "0   241  492\n",
       "1   241  493\n",
       "2   241...</td>\n",
       "    </tr>\n",
       "    <tr>\n",
       "      <th>15</th>\n",
       "      <td>[762.0, 632.0]</td>\n",
       "      <td>10</td>\n",
       "      <td>149.30</td>\n",
       "      <td>0    1\n",
       "0  243  762\n",
       "1  243  763\n",
       "2  244  76...</td>\n",
       "    </tr>\n",
       "    <tr>\n",
       "      <th>19</th>\n",
       "      <td>[487.0, 626.0]</td>\n",
       "      <td>92</td>\n",
       "      <td>169.45</td>\n",
       "      <td>0    1\n",
       "0   247  490\n",
       "1   247  491\n",
       "2   247...</td>\n",
       "    </tr>\n",
       "    <tr>\n",
       "      <th>20</th>\n",
       "      <td>[459.0, 623.0]</td>\n",
       "      <td>99</td>\n",
       "      <td>145.65</td>\n",
       "      <td>0    1\n",
       "0   249  458\n",
       "1   249  459\n",
       "2   249...</td>\n",
       "    </tr>\n",
       "    <tr>\n",
       "      <th>21</th>\n",
       "      <td>[332.0, 624.0]</td>\n",
       "      <td>34</td>\n",
       "      <td>178.76</td>\n",
       "      <td>0    1\n",
       "0   251  334\n",
       "1   251  335\n",
       "2   251...</td>\n",
       "    </tr>\n",
       "    <tr>\n",
       "      <th>22</th>\n",
       "      <td>[410.0, 621.0]</td>\n",
       "      <td>36</td>\n",
       "      <td>173.39</td>\n",
       "      <td>0    1\n",
       "0   253  408\n",
       "1   253  409\n",
       "2   253...</td>\n",
       "    </tr>\n",
       "    <tr>\n",
       "      <th>23</th>\n",
       "      <td>[464.0, 605.0]</td>\n",
       "      <td>92</td>\n",
       "      <td>126.26</td>\n",
       "      <td>0    1\n",
       "0   267  461\n",
       "1   267  462\n",
       "2   267...</td>\n",
       "    </tr>\n",
       "    <tr>\n",
       "      <th>25</th>\n",
       "      <td>[447.0, 603.0]</td>\n",
       "      <td>6</td>\n",
       "      <td>175.00</td>\n",
       "      <td>0    1\n",
       "0  273  447\n",
       "1  273  448\n",
       "2  273  44...</td>\n",
       "    </tr>\n",
       "    <tr>\n",
       "      <th>26</th>\n",
       "      <td>[284.0, 600.0]</td>\n",
       "      <td>10</td>\n",
       "      <td>158.90</td>\n",
       "      <td>0    1\n",
       "0  275  284\n",
       "1  275  285\n",
       "2  276  28...</td>\n",
       "    </tr>\n",
       "    <tr>\n",
       "      <th>28</th>\n",
       "      <td>[339.0, 594.0]</td>\n",
       "      <td>78</td>\n",
       "      <td>144.60</td>\n",
       "      <td>0    1\n",
       "0   279  339\n",
       "1   279  340\n",
       "2   279...</td>\n",
       "    </tr>\n",
       "    <tr>\n",
       "      <th>30</th>\n",
       "      <td>[92.0, 589.0]</td>\n",
       "      <td>70</td>\n",
       "      <td>156.86</td>\n",
       "      <td>0   1\n",
       "0   285  89\n",
       "1   285  90\n",
       "2   285  9...</td>\n",
       "    </tr>\n",
       "    <tr>\n",
       "      <th>31</th>\n",
       "      <td>[179.0, 591.0]</td>\n",
       "      <td>6</td>\n",
       "      <td>165.00</td>\n",
       "      <td>0    1\n",
       "0  285  179\n",
       "1  285  180\n",
       "2  285  18...</td>\n",
       "    </tr>\n",
       "    <tr>\n",
       "      <th>32</th>\n",
       "      <td>[301.0, 588.0]</td>\n",
       "      <td>126</td>\n",
       "      <td>126.57</td>\n",
       "      <td>0    1\n",
       "0    285  297\n",
       "1    285  298\n",
       "2   ...</td>\n",
       "    </tr>\n",
       "    <tr>\n",
       "      <th>33</th>\n",
       "      <td>[368.0, 588.0]</td>\n",
       "      <td>132</td>\n",
       "      <td>131.43</td>\n",
       "      <td>0    1\n",
       "0    285  364\n",
       "1    285  365\n",
       "2   ...</td>\n",
       "    </tr>\n",
       "    <tr>\n",
       "      <th>34</th>\n",
       "      <td>[150.0, 585.0]</td>\n",
       "      <td>36</td>\n",
       "      <td>168.17</td>\n",
       "      <td>0    1\n",
       "0   289  150\n",
       "1   289  151\n",
       "2   289...</td>\n",
       "    </tr>\n",
       "    <tr>\n",
       "      <th>35</th>\n",
       "      <td>[276.0, 585.0]</td>\n",
       "      <td>60</td>\n",
       "      <td>150.93</td>\n",
       "      <td>0    1\n",
       "0   289  272\n",
       "1   289  273\n",
       "2   289...</td>\n",
       "    </tr>\n",
       "    <tr>\n",
       "      <th>36</th>\n",
       "      <td>[378.0, 580.0]</td>\n",
       "      <td>8</td>\n",
       "      <td>165.50</td>\n",
       "      <td>0    1\n",
       "0  295  378\n",
       "1  295  379\n",
       "2  296  37...</td>\n",
       "    </tr>\n",
       "    <tr>\n",
       "      <th>37</th>\n",
       "      <td>[131.0, 579.0]</td>\n",
       "      <td>8</td>\n",
       "      <td>146.12</td>\n",
       "      <td>0    1\n",
       "0  297  130\n",
       "1  297  131\n",
       "2  297  13...</td>\n",
       "    </tr>\n",
       "    <tr>\n",
       "      <th>38</th>\n",
       "      <td>[149.0, 576.0]</td>\n",
       "      <td>60</td>\n",
       "      <td>141.78</td>\n",
       "      <td>0    1\n",
       "0   297  147\n",
       "1   297  148\n",
       "2   297...</td>\n",
       "    </tr>\n",
       "    <tr>\n",
       "      <th>39</th>\n",
       "      <td>[287.0, 578.0]</td>\n",
       "      <td>28</td>\n",
       "      <td>170.04</td>\n",
       "      <td>0    1\n",
       "0   297  283\n",
       "1   297  284\n",
       "2   297...</td>\n",
       "    </tr>\n",
       "    <tr>\n",
       "      <th>40</th>\n",
       "      <td>[430.0, 577.0]</td>\n",
       "      <td>22</td>\n",
       "      <td>148.50</td>\n",
       "      <td>0    1\n",
       "0   297  430\n",
       "1   297  431\n",
       "2   297...</td>\n",
       "    </tr>\n",
       "    <tr>\n",
       "      <th>41</th>\n",
       "      <td>[407.0, 574.0]</td>\n",
       "      <td>90</td>\n",
       "      <td>124.30</td>\n",
       "      <td>0    1\n",
       "0   299  404\n",
       "1   299  405\n",
       "2   299...</td>\n",
       "    </tr>\n",
       "    <tr>\n",
       "      <th>42</th>\n",
       "      <td>[375.0, 573.0]</td>\n",
       "      <td>58</td>\n",
       "      <td>167.50</td>\n",
       "      <td>0    1\n",
       "0   301  373\n",
       "1   301  374\n",
       "2   301...</td>\n",
       "    </tr>\n",
       "    <tr>\n",
       "      <th>44</th>\n",
       "      <td>[502.0, 567.0]</td>\n",
       "      <td>4</td>\n",
       "      <td>136.25</td>\n",
       "      <td>0    1\n",
       "0  309  502\n",
       "1  309  503\n",
       "2  310  50...</td>\n",
       "    </tr>\n",
       "    <tr>\n",
       "      <th>45</th>\n",
       "      <td>[452.0, 562.0]</td>\n",
       "      <td>24</td>\n",
       "      <td>169.79</td>\n",
       "      <td>0    1\n",
       "0   313  450\n",
       "1   313  451\n",
       "2   313...</td>\n",
       "    </tr>\n",
       "    <tr>\n",
       "      <th>49</th>\n",
       "      <td>[437.0, 528.0]</td>\n",
       "      <td>76</td>\n",
       "      <td>141.55</td>\n",
       "      <td>0    1\n",
       "0   345  433\n",
       "1   345  434\n",
       "2   345...</td>\n",
       "    </tr>\n",
       "    <tr>\n",
       "      <th>53</th>\n",
       "      <td>[821.0, 511.0]</td>\n",
       "      <td>12</td>\n",
       "      <td>166.08</td>\n",
       "      <td>0    1\n",
       "0   365  819\n",
       "1   365  820\n",
       "2   365...</td>\n",
       "    </tr>\n",
       "    <tr>\n",
       "      <th>56</th>\n",
       "      <td>[132.0, 479.0]</td>\n",
       "      <td>4</td>\n",
       "      <td>152.25</td>\n",
       "      <td>0    1\n",
       "0  397  132\n",
       "1  397  133\n",
       "2  398  13...</td>\n",
       "    </tr>\n",
       "    <tr>\n",
       "      <th>57</th>\n",
       "      <td>[551.0, 468.0]</td>\n",
       "      <td>56</td>\n",
       "      <td>154.11</td>\n",
       "      <td>0    1\n",
       "0   405  551\n",
       "1   405  552\n",
       "2   405...</td>\n",
       "    </tr>\n",
       "  </tbody>\n",
       "</table>\n",
       "</div>"
      ],
      "text/plain": [
       "   Centers in (x,y)  Area  Average intensity                            the ith defect in (i,j)\n",
       "2    [523.0, 768.0]    32             166.22        0    1\n",
       "0   105  522\n",
       "1   105  523\n",
       "2   105...\n",
       "4    [527.0, 752.0]    44             175.73        0    1\n",
       "0   121  526\n",
       "1   121  527\n",
       "2   121...\n",
       "5    [490.0, 743.0]     4             156.25       0    1\n",
       "0  133  490\n",
       "1  133  491\n",
       "2  134  49...\n",
       "8    [452.0, 687.0]    32             172.91        0    1\n",
       "0   185  454\n",
       "1   185  455\n",
       "2   185...\n",
       "9    [465.0, 677.0]    44             153.84        0    1\n",
       "0   197  462\n",
       "1   197  463\n",
       "2   197...\n",
       "10   [778.0, 649.0]    44             177.16        0    1\n",
       "0   225  776\n",
       "1   225  777\n",
       "2   225...\n",
       "11   [322.0, 646.0]   148             140.03         0    1\n",
       "0    227  315\n",
       "1    227  316\n",
       "2   ...\n",
       "14   [493.0, 634.0]    14             151.43        0    1\n",
       "0   241  492\n",
       "1   241  493\n",
       "2   241...\n",
       "15   [762.0, 632.0]    10             149.30       0    1\n",
       "0  243  762\n",
       "1  243  763\n",
       "2  244  76...\n",
       "19   [487.0, 626.0]    92             169.45        0    1\n",
       "0   247  490\n",
       "1   247  491\n",
       "2   247...\n",
       "20   [459.0, 623.0]    99             145.65        0    1\n",
       "0   249  458\n",
       "1   249  459\n",
       "2   249...\n",
       "21   [332.0, 624.0]    34             178.76        0    1\n",
       "0   251  334\n",
       "1   251  335\n",
       "2   251...\n",
       "22   [410.0, 621.0]    36             173.39        0    1\n",
       "0   253  408\n",
       "1   253  409\n",
       "2   253...\n",
       "23   [464.0, 605.0]    92             126.26        0    1\n",
       "0   267  461\n",
       "1   267  462\n",
       "2   267...\n",
       "25   [447.0, 603.0]     6             175.00       0    1\n",
       "0  273  447\n",
       "1  273  448\n",
       "2  273  44...\n",
       "26   [284.0, 600.0]    10             158.90       0    1\n",
       "0  275  284\n",
       "1  275  285\n",
       "2  276  28...\n",
       "28   [339.0, 594.0]    78             144.60        0    1\n",
       "0   279  339\n",
       "1   279  340\n",
       "2   279...\n",
       "30    [92.0, 589.0]    70             156.86        0   1\n",
       "0   285  89\n",
       "1   285  90\n",
       "2   285  9...\n",
       "31   [179.0, 591.0]     6             165.00       0    1\n",
       "0  285  179\n",
       "1  285  180\n",
       "2  285  18...\n",
       "32   [301.0, 588.0]   126             126.57         0    1\n",
       "0    285  297\n",
       "1    285  298\n",
       "2   ...\n",
       "33   [368.0, 588.0]   132             131.43         0    1\n",
       "0    285  364\n",
       "1    285  365\n",
       "2   ...\n",
       "34   [150.0, 585.0]    36             168.17        0    1\n",
       "0   289  150\n",
       "1   289  151\n",
       "2   289...\n",
       "35   [276.0, 585.0]    60             150.93        0    1\n",
       "0   289  272\n",
       "1   289  273\n",
       "2   289...\n",
       "36   [378.0, 580.0]     8             165.50       0    1\n",
       "0  295  378\n",
       "1  295  379\n",
       "2  296  37...\n",
       "37   [131.0, 579.0]     8             146.12       0    1\n",
       "0  297  130\n",
       "1  297  131\n",
       "2  297  13...\n",
       "38   [149.0, 576.0]    60             141.78        0    1\n",
       "0   297  147\n",
       "1   297  148\n",
       "2   297...\n",
       "39   [287.0, 578.0]    28             170.04        0    1\n",
       "0   297  283\n",
       "1   297  284\n",
       "2   297...\n",
       "40   [430.0, 577.0]    22             148.50        0    1\n",
       "0   297  430\n",
       "1   297  431\n",
       "2   297...\n",
       "41   [407.0, 574.0]    90             124.30        0    1\n",
       "0   299  404\n",
       "1   299  405\n",
       "2   299...\n",
       "42   [375.0, 573.0]    58             167.50        0    1\n",
       "0   301  373\n",
       "1   301  374\n",
       "2   301...\n",
       "44   [502.0, 567.0]     4             136.25       0    1\n",
       "0  309  502\n",
       "1  309  503\n",
       "2  310  50...\n",
       "45   [452.0, 562.0]    24             169.79        0    1\n",
       "0   313  450\n",
       "1   313  451\n",
       "2   313...\n",
       "49   [437.0, 528.0]    76             141.55        0    1\n",
       "0   345  433\n",
       "1   345  434\n",
       "2   345...\n",
       "53   [821.0, 511.0]    12             166.08        0    1\n",
       "0   365  819\n",
       "1   365  820\n",
       "2   365...\n",
       "56   [132.0, 479.0]     4             152.25       0    1\n",
       "0  397  132\n",
       "1  397  133\n",
       "2  398  13...\n",
       "57   [551.0, 468.0]    56             154.11        0    1\n",
       "0   405  551\n",
       "1   405  552\n",
       "2   405..."
      ]
     },
     "execution_count": 36,
     "metadata": {},
     "output_type": "execute_result"
    }
   ],
   "source": [
    "output_xz"
   ]
  },
  {
   "cell_type": "markdown",
   "metadata": {},
   "source": [
    "# Step 3: Segmentation of defects and demonstration"
   ]
  },
  {
   "cell_type": "code",
   "execution_count": 37,
   "metadata": {
    "scrolled": false
   },
   "outputs": [
    {
     "data": {
      "image/png": "[encoded data removed]",
      "text/plain": [
       "<matplotlib.figure.Figure at 0xf06a550>"
      ]
     },
     "metadata": {},
     "output_type": "display_data"
    },
    {
     "name": "stdout",
     "output_type": "stream",
     "text": [
      "There are  42 total detected defected\n",
      "Wall time: 592 ms\n"
     ]
    }
   ],
   "source": [
    "%%time\n",
    "a = plot_defects(img_xy,output_xy,7,5,1,5);#Localshape,Gaussianshape,seg"
   ]
  },
  {
   "cell_type": "code",
   "execution_count": 38,
   "metadata": {},
   "outputs": [
    {
     "data": {
      "image/png": "[encoded data removed]",
      "text/plain": [
       "<matplotlib.figure.Figure at 0x10b23cc0>"
      ]
     },
     "metadata": {},
     "output_type": "display_data"
    },
    {
     "name": "stdout",
     "output_type": "stream",
     "text": [
      "There are  38 total detected defected\n"
     ]
    }
   ],
   "source": [
    "b = plot_defects(img_xz,output_xz,3,17,1,5);#Localshape,Gaussianshape,seg"
   ]
  },
  {
   "cell_type": "markdown",
   "metadata": {},
   "source": [
    "# Step 4: Estimation of defects with ellipse shape"
   ]
  },
  {
   "cell_type": "code",
   "execution_count": 39,
   "metadata": {},
   "outputs": [
    {
     "data": {
      "text/plain": [
       "(803L, 650L)"
      ]
     },
     "execution_count": 39,
     "metadata": {},
     "output_type": "execute_result"
    }
   ],
   "source": [
    "imgtosuperimpose = img_xy\n",
    "img_xy.shape"
   ]
  },
  {
   "cell_type": "code",
   "execution_count": 40,
   "metadata": {},
   "outputs": [
    {
     "name": "stdout",
     "output_type": "stream",
     "text": [
      "Wall time: 281 ms\n"
     ]
    },
    {
     "data": {
      "image/png": "[encoded data removed]",
      "text/plain": [
       "<matplotlib.figure.Figure at 0x10b23c50>"
      ]
     },
     "metadata": {},
     "output_type": "display_data"
    }
   ],
   "source": [
    "%%time\n",
    "ax = plot_all_ellipses(a,0,5.991)\n",
    "\n",
    "ax.set_xlim(-7,650)\n",
    "ax.set_ylim(-7, 803);\n",
    "plt.xticks([])\n",
    "plt.yticks([])\n",
    "\n"
   ]
  },
  {
   "cell_type": "code",
   "execution_count": 41,
   "metadata": {},
   "outputs": [
    {
     "data": {
      "text/plain": [
       "(876L, 879L)"
      ]
     },
     "execution_count": 41,
     "metadata": {},
     "output_type": "execute_result"
    }
   ],
   "source": [
    "imgtosuperimpose = img_xz\n",
    "img_xz.shape"
   ]
  },
  {
   "cell_type": "code",
   "execution_count": 42,
   "metadata": {},
   "outputs": [
    {
     "data": {
      "text/plain": [
       "([], <a list of 0 Text yticklabel objects>)"
      ]
     },
     "execution_count": 42,
     "metadata": {},
     "output_type": "execute_result"
    },
    {
     "data": {
      "image/png": "[encoded data removed]",
      "text/plain": [
       "<matplotlib.figure.Figure at 0x10e28080>"
      ]
     },
     "metadata": {},
     "output_type": "display_data"
    }
   ],
   "source": [
    "ax = plot_all_ellipses(b,0,5.991)\n",
    "ax.set_xlim(0,879)\n",
    "ax.set_ylim(0, 876);\n",
    "plt.xticks([])\n",
    "plt.yticks([])"
   ]
  },
  {
   "cell_type": "markdown",
   "metadata": {},
   "source": [
    "# Step 5: 3D reconstruction of defects "
   ]
  },
  {
   "cell_type": "code",
   "execution_count": 43,
   "metadata": {},
   "outputs": [],
   "source": [
    "def list_array(Column):\n",
    "    \n",
    "    Column_list = np.array([val for sublist in Column for val in sublist])\n",
    "    Column_list = Column_list.reshape((Column_list.shape[0],Column_list.size/Column_list.shape[0]))\n",
    "\n",
    "    array = pd.DataFrame(Column_list)\n",
    "    \n",
    "    return array\n",
    "    "
   ]
  },
  {
   "cell_type": "code",
   "execution_count": 44,
   "metadata": {},
   "outputs": [],
   "source": [
    "def projection_x(Column):\n",
    "    \n",
    "    feat = list_array(Column)\n",
    "    \n",
    "    x_a = np.cos(np.radians(feat[0]))*np.maximum(feat[1],feat[2]) #a,b\n",
    "    x_b = np.cos(np.radians(90-np.abs(feat[0])))*np.minimum(feat[1],feat[2])\n",
    "    \n",
    "    x = np.maximum(x_a,x_b)\n",
    "    \n",
    "    return x\n",
    "    "
   ]
  },
  {
   "cell_type": "code",
   "execution_count": 45,
   "metadata": {},
   "outputs": [],
   "source": [
    "#xy and xz are the coordinates of the defects centers\n",
    "#x_z is the projection on x axis of xz plan\n",
    "\n",
    "def assignement(features_xy,centroids_xy,features_xz,centroids_xz,coef=1): #if xy.size > xz.size\n",
    "    \n",
    "    '''xz plan'''\n",
    "    x_z = projection_x(features_xz)#projection on x axis of xz plan\n",
    "    xz = list_array(centroids_xz)#centers of defects\n",
    "    s_dev_xz = list_array(features_xz)#(44,3)array of ellipse features\n",
    "    \n",
    "    '''xy plan'''\n",
    "    x_y = projection_x(features_xy)\n",
    "    xy = list_array(centroids_xy)\n",
    "    s_dev_xy = list_array(features_xy)\n",
    "    \n",
    "    '''matching indexes'''\n",
    "    coef = coef\n",
    "    index_xyz =[]\n",
    "    \n",
    "    if xy[0].size < xz[0].size :\n",
    "        xy,xz = xz,xy\n",
    "        \n",
    "    for i,x_xy in enumerate(xy[0].values):\n",
    "        for k,x_xz in enumerate(xz[0].values):\n",
    "            if ((x_xy >= (x_xz - coef*x_z[k])) and (x_xy <= (x_xz + coef*x_z[k]))):\n",
    "                index_xyz.append([i,k])\n",
    "    print 'There',len(index_xyz),'matching defects'\n",
    "\n",
    "    index_xyz = np.array(index_xyz)\n",
    "\n",
    "    '''matching coordinates'''\n",
    "    x = np.array(xy[0])\n",
    "    x = x[index_xyz[:,0]]\n",
    "    y = np.array(xy[1])\n",
    "    y = y[index_xyz[:,0]]\n",
    "    z = np.array(xz[1])\n",
    "    z = z[index_xyz[:,1]]\n",
    "    '''matching stand deviations'''\n",
    "    sig_x = np.array(s_dev_xy[1])\n",
    "    sig_x = sig_x[index_xyz[:,0]]\n",
    "    sig_y = np.array(s_dev_xy[2])\n",
    "    sig_y = sig_y[index_xyz[:,0]]\n",
    "    sig_z = np.array(s_dev_xy[1])\n",
    "    sig_z = sig_z[index_xyz[:,1]]\n",
    "    '''matching angles'''\n",
    "    angle_xy = np.array(s_dev_xy[0])\n",
    "    angle_xy = angle_xy[index_xyz[:,0]]\n",
    "    angle_xz = np.array(s_dev_xy[0])\n",
    "    angle_xz = angle_xz [index_xyz[:,1]]\n",
    "\n",
    "    return np.array([np.array([x,y,z]),np.array([sig_x,sig_y,sig_z]),np.array([angle_xy,angle_xz])])"
   ]
  },
  {
   "cell_type": "markdown",
   "metadata": {},
   "source": [
    "coef = 1\n",
    "index_z =[]\n",
    "for i,x_xz in enumerate(xz[0].values):\n",
    "    for k,x_xy in enumerate(xy[0].values):\n",
    "        if ((x_xz >= (x_xy - coef*x_y[k])) and (x_xz <= (x_xy + coef*x_y[k]))):\n",
    "            index_z.append([k,i])\n",
    "    \n",
    "\n",
    "len(index_z)\n",
    "    "
   ]
  },
  {
   "cell_type": "markdown",
   "metadata": {},
   "source": [
    "## xy outputs"
   ]
  },
  {
   "cell_type": "code",
   "execution_count": 46,
   "metadata": {},
   "outputs": [
    {
     "data": {
      "text/plain": [
       "34"
      ]
     },
     "execution_count": 46,
     "metadata": {},
     "output_type": "execute_result"
    }
   ],
   "source": [
    "a.index.size #before segmentation"
   ]
  },
  {
   "cell_type": "code",
   "execution_count": 47,
   "metadata": {},
   "outputs": [
    {
     "data": {
      "text/plain": [
       "42"
      ]
     },
     "execution_count": 47,
     "metadata": {},
     "output_type": "execute_result"
    }
   ],
   "source": [
    "np.sum(a['extrema'])#after segmentation"
   ]
  },
  {
   "cell_type": "code",
   "execution_count": 48,
   "metadata": {
    "scrolled": true
   },
   "outputs": [],
   "source": [
    "features = a['Features']\n",
    "centroids = a['centroids']\n",
    "\n",
    "x_y = projection_x(features)\n",
    "xy = list_array(centroids)\n",
    "s_dev_xy = list_array(features)"
   ]
  },
  {
   "cell_type": "code",
   "execution_count": 49,
   "metadata": {},
   "outputs": [
    {
     "data": {
      "text/plain": [
       "0     [[(-81.7558397155, 3.7221363839826678, 5.10974...\n",
       "1     [[(0.0, 2.6726124191242437, 1.1952286093343936)]]\n",
       "2     [[(-78.2916989846, 2.815414352051397, 4.747331...\n",
       "3     [[(0.0, 1.2909944487358056, 1.2909944487358056)]]\n",
       "4     [[(-88.6505146129, 5.41017884096938, 11.128214...\n",
       "5     [[(90.0, 2.6071796295834764, 3.276475868619675...\n",
       "6     [[(-88.4275601075, 4.466397909309385, 9.772474...\n",
       "7     [[(-84.1616310845, 3.692196619668206, 5.416829...\n",
       "9     [[(-88.2284990702, 5.6510582200985535, 8.72539...\n",
       "10    [[(-4.06633050052, 4.954925690831907, 2.520121...\n",
       "11    [[(0.0, 2.6726124191242437, 1.1952286093343936)]]\n",
       "12    [[(90.0, 1.1952286093343936, 2.672612419124243...\n",
       "13    [[(-88.2519125882, 2.7919999575226853, 7.69681...\n",
       "14      [[(0.0, 2.581988897471611, 2.581988897471611)]]\n",
       "15    [[(90.0, 1.1952286093343936, 2.672612419124243...\n",
       "16    [[(-77.7029240864, 5.488223252572832, 10.13749...\n",
       "18    [[(90.0, 1.7167901505579042, 4.839530207734935)]]\n",
       "20    [[(13.7764057884, 3.672924437514465, 2.2006724...\n",
       "21    [[(-88.6901697261, 3.8752250832983486, 6.94454...\n",
       "22    [[(-89.4492351842, 3.5569802645847033, 6.92231...\n",
       "23                   [[(0.0, 2.0, 1.2247448713915892)]]\n",
       "24    [[(4.39884555015, 8.085717683200528, 5.6651106...\n",
       "25    [[(-77.3540043533, 5.154393986283581, 7.699081...\n",
       "26    [[(-82.5954347675, 2.7274164283527473, 4.94737...\n",
       "27    [[(-24.805534635, 7.029897703250594, 6.1890146...\n",
       "28    [[(-85.9334325, 2.937438664566183, 8.307218076...\n",
       "29    [[(-31.9605906946, 6.470909867491003, 4.096110...\n",
       "30    [[(90.0, 1.1677484162422844, 3.988620176087328...\n",
       "31    [[(20.0504537731, 2.958498244217903, 2.3109943...\n",
       "32    [[(-1.88802249245, 5.86996810141626, 5.4827929...\n",
       "33    [[(-88.9930166091, 4.408469307028855, 5.936579...\n",
       "34    [[(22.0294404386, 5.681432250415413, 4.1440417...\n",
       "35    [[(0.0, 1.2909944487358056, 1.2909944487358056)]]\n",
       "36    [[(-66.4506291145, 5.431536722988106, 6.657174...\n",
       "Name: Features, dtype: object"
      ]
     },
     "execution_count": 49,
     "metadata": {},
     "output_type": "execute_result"
    }
   ],
   "source": [
    "features"
   ]
  },
  {
   "cell_type": "markdown",
   "metadata": {},
   "source": [
    "## xz outputs"
   ]
  },
  {
   "cell_type": "code",
   "execution_count": 50,
   "metadata": {},
   "outputs": [
    {
     "data": {
      "text/plain": [
       "36"
      ]
     },
     "execution_count": 50,
     "metadata": {},
     "output_type": "execute_result"
    }
   ],
   "source": [
    "b.index.size#before segmentation"
   ]
  },
  {
   "cell_type": "code",
   "execution_count": 51,
   "metadata": {},
   "outputs": [
    {
     "data": {
      "text/plain": [
       "38"
      ]
     },
     "execution_count": 51,
     "metadata": {},
     "output_type": "execute_result"
    }
   ],
   "source": [
    "np.sum(b['extrema'])#after segmentation"
   ]
  },
  {
   "cell_type": "code",
   "execution_count": 52,
   "metadata": {},
   "outputs": [],
   "source": [
    "features = b['Features']\n",
    "centroids = b['centroids']\n",
    "\n",
    "x_z = projection_x(features)#projection on x axis of xz plan\n",
    "xz = list_array(centroids)#centers of defects\n",
    "s_dev_xz = list_array(features)#(44,3)array of ellipse features"
   ]
  },
  {
   "cell_type": "markdown",
   "metadata": {},
   "source": [
    "# Assignement according to projection on x"
   ]
  },
  {
   "cell_type": "code",
   "execution_count": 53,
   "metadata": {},
   "outputs": [],
   "source": [
    "features_xz = b['Features']\n",
    "centroids_xz = b['centroids']\n",
    "features_xy = a['Features']\n",
    "centroids_xy = a['centroids']"
   ]
  },
  {
   "cell_type": "code",
   "execution_count": 54,
   "metadata": {},
   "outputs": [
    {
     "name": "stdout",
     "output_type": "stream",
     "text": [
      "Wall time: 0 ns\n",
      "There 40 matching defects\n"
     ]
    }
   ],
   "source": [
    "%time\n",
    "#(x,y.z),(sigx,sigy,sigz),(anglexy,anglexz)\n",
    "Ellipsoid_features = assignement(features_xy,centroids_xy,features_xz,centroids_xz,coef=1.052)"
   ]
  },
  {
   "cell_type": "markdown",
   "metadata": {},
   "source": [
    "## Coordinates (x,y,z)"
   ]
  },
  {
   "cell_type": "code",
   "execution_count": 55,
   "metadata": {},
   "outputs": [],
   "source": [
    "x,y,z = Ellipsoid_features[0]"
   ]
  },
  {
   "cell_type": "code",
   "execution_count": 56,
   "metadata": {},
   "outputs": [
    {
     "data": {
      "text/plain": [
       "array([ 96.5 , 319.28, 403.1 , 402.93, 335.57, 335.57, 335.57,  94.5 ,  95.5 , 336.  , 336.  , 336.  , 314.5 , 131.5 , 131.5 , 329.8 , 329.8 , 358.68, 339.67, 339.67, 339.67, 333.  , 333.  , 333.  , 270.03, 300.56, 330.9 , 330.9 , 327.5 , 327.5 , 357.86, 339.67, 339.67, 339.67, 339.51, 339.51, 339.51, 274.28, 297.99, 297.9 ])"
      ]
     },
     "execution_count": 56,
     "metadata": {},
     "output_type": "execute_result"
    }
   ],
   "source": [
    "x"
   ]
  },
  {
   "cell_type": "code",
   "execution_count": 57,
   "metadata": {},
   "outputs": [
    {
     "data": {
      "text/plain": [
       "array([685.5 , 365.61, 259.9 , 252.87, 210.17, 210.17, 210.17, 193.5 , 184.5 , 179.35, 179.35, 179.35, 182.5 , 176.5 , 176.5 , 164.5 , 164.5 , 148.68, 155.1 , 155.1 , 155.1 , 157.5 , 157.5 , 157.5 , 139.51, 102.25,  93.77,  93.77,  75.5 ,  75.5 ,  70.93,  63.51,  63.51,  63.51,  55.78,  55.78,  55.78,  61.25,  38.92,  48.38])"
      ]
     },
     "execution_count": 57,
     "metadata": {},
     "output_type": "execute_result"
    }
   ],
   "source": [
    "y"
   ]
  },
  {
   "cell_type": "code",
   "execution_count": 58,
   "metadata": {},
   "outputs": [
    {
     "data": {
      "text/plain": [
       "array([588.1 , 645.77, 573.52, 573.52, 645.77, 623.09, 592.97, 588.1 , 588.1 , 645.77, 623.09, 592.97, 645.77, 578.5 , 478.5 , 645.77, 623.09, 587.53, 623.09, 593.5 , 592.97, 645.77, 623.09, 592.97, 584.83, 587.07, 645.77, 623.09, 645.77, 623.09, 587.53, 623.09, 593.5 , 592.97, 623.09, 593.5 , 592.97, 584.83, 587.07, 587.07])"
      ]
     },
     "execution_count": 58,
     "metadata": {},
     "output_type": "execute_result"
    }
   ],
   "source": [
    "z"
   ]
  },
  {
   "cell_type": "markdown",
   "metadata": {},
   "source": [
    "## Standard deviation (x,y,z)"
   ]
  },
  {
   "cell_type": "code",
   "execution_count": 59,
   "metadata": {},
   "outputs": [],
   "source": [
    "sig_x,sig_y,sig_z = Ellipsoid_features[1]"
   ]
  },
  {
   "cell_type": "code",
   "execution_count": 60,
   "metadata": {},
   "outputs": [
    {
     "data": {
      "text/plain": [
       "array([2.67, 5.41, 3.69, 4.32, 5.65, 5.65, 5.65, 2.67, 1.2 , 2.79, 2.79, 2.79, 2.58, 1.2 , 1.2 , 1.72, 1.72, 5.21, 3.56, 3.56, 3.56, 2.  , 2.  , 2.  , 8.09, 2.73, 2.94, 2.94, 1.17, 1.17, 2.96, 5.87, 5.87, 5.87, 5.75, 5.75, 5.75, 4.41, 5.43, 5.67])"
      ]
     },
     "execution_count": 60,
     "metadata": {},
     "output_type": "execute_result"
    }
   ],
   "source": [
    "sig_x"
   ]
  },
  {
   "cell_type": "code",
   "execution_count": 61,
   "metadata": {},
   "outputs": [
    {
     "data": {
      "text/plain": [
       "array([ 1.2 , 11.13,  5.42,  5.39,  8.73,  8.73,  8.73,  1.2 ,  2.67,  7.7 ,  7.7 ,  7.7 ,  2.58,  2.67,  2.67,  4.84,  4.84,  6.79,  6.92,  6.92,  6.92,  1.22,  1.22,  1.22,  5.67,  4.95,  8.31,  8.31,  3.99,  3.99,  2.31,  5.48,  5.48,  5.48,  5.25,  5.25,  5.25,  5.94,  6.66,  6.9 ])"
      ]
     },
     "execution_count": 61,
     "metadata": {},
     "output_type": "execute_result"
    }
   ],
   "source": [
    "sig_y"
   ]
  },
  {
   "cell_type": "code",
   "execution_count": 62,
   "metadata": {},
   "outputs": [
    {
     "data": {
      "text/plain": [
       "array([3.88, 4.47, 6.47, 6.47, 4.47, 1.2 , 3.67, 3.88, 3.88, 4.47, 1.2 , 3.67, 4.47, 2.73, 5.68, 4.47, 1.2 , 2.  , 1.2 , 1.72, 3.67, 4.47, 1.2 , 3.67, 6.78, 3.56, 4.47, 1.2 , 4.47, 1.2 , 2.  , 1.2 , 1.72, 3.67, 1.2 , 1.72, 3.67, 6.78, 3.56, 3.56])"
      ]
     },
     "execution_count": 62,
     "metadata": {},
     "output_type": "execute_result"
    }
   ],
   "source": [
    "sig_z"
   ]
  },
  {
   "cell_type": "markdown",
   "metadata": {},
   "source": [
    "## Angle according to xy anxz plans"
   ]
  },
  {
   "cell_type": "code",
   "execution_count": 63,
   "metadata": {},
   "outputs": [],
   "source": [
    "angle_xy,angle_xz = Ellipsoid_features[2]"
   ]
  },
  {
   "cell_type": "code",
   "execution_count": 64,
   "metadata": {},
   "outputs": [
    {
     "data": {
      "text/plain": [
       "array([  0.  , -88.65, -84.16, -58.72, -88.23, -88.23, -88.23,   0.  ,  90.  , -88.25, -88.25, -88.25,   0.  ,  90.  ,  90.  ,  90.  ,  90.  , -68.79, -89.45, -89.45, -89.45,   0.  ,   0.  ,   0.  ,   4.4 , -82.6 , -85.93, -85.93,  90.  ,  90.  ,  20.05,  -1.89,  -1.89,  -1.89,  29.78,  29.78,  29.78, -88.99, -66.45, -69.28])"
      ]
     },
     "execution_count": 64,
     "metadata": {},
     "output_type": "execute_result"
    }
   ],
   "source": [
    "angle_xy"
   ]
  },
  {
   "cell_type": "code",
   "execution_count": 65,
   "metadata": {},
   "outputs": [
    {
     "data": {
      "text/plain": [
       "array([-88.69, -88.43, -31.96, -31.96, -88.43,  90.  ,  13.78, -88.69, -88.69, -88.43,  90.  ,  13.78, -88.43, -82.6 ,  22.03, -88.43,  90.  ,   0.  ,  90.  ,  90.  ,  13.78, -88.43,  90.  ,  13.78,  39.21, -89.45, -88.43,  90.  , -88.43,  90.  ,   0.  ,  90.  ,  90.  ,  13.78,  90.  ,  90.  ,  13.78,  39.21, -89.45, -89.45])"
      ]
     },
     "execution_count": 65,
     "metadata": {},
     "output_type": "execute_result"
    }
   ],
   "source": [
    "angle_xz"
   ]
  },
  {
   "cell_type": "markdown",
   "metadata": {},
   "source": [
    "## 3D plot"
   ]
  },
  {
   "cell_type": "code",
   "execution_count": 66,
   "metadata": {},
   "outputs": [],
   "source": [
    "# check for xz img_xz.shape[0]\n",
    "def plot_3d_2d(x,y,z):\n",
    "    \n",
    "    #z= img_xz.shape[0]-z\n",
    "    fig = plt.figure(figsize=(10,8))\n",
    "    ax = fig.gca(projection='3d')\n",
    "\n",
    "    ax.plot(x, y, z,'bo', label='3D Centroids',alpha =0.5)\n",
    "    ax.set_title('3D reconstruction of defects position')\n",
    "    \n",
    "    ax.plot(x, z, 'r+', zdir='y', zs=np.max(y)+50, label='2D projection on x,z',alpha =0.5)\n",
    "    ax.plot(x, y, 'g+', zdir='z', zs=np.min(z)-50, label='2D projection on x,y',alpha =0.5)\n",
    "    \n",
    "    ax.set_xlabel('X')\n",
    "    ax.set_ylabel('Y')\n",
    "    ax.set_zlabel('Z')\n",
    "    \n",
    "    ax.set_xlim([np.min(x)-50, np.max(x)+50])\n",
    "    ax.set_ylim([np.min(y)-50, np.max(y)+50])\n",
    "    ax.set_zlim([np.min(z)-50, np.max(z)+50])\n",
    "    ax.legend()\n",
    "    plt.savefig('fig')\n",
    "    \n",
    "    plt.show()\n",
    "    \n",
    "    "
   ]
  },
  {
   "cell_type": "code",
   "execution_count": 67,
   "metadata": {},
   "outputs": [
    {
     "data": {
      "image/png": "[encoded data removed]",
      "text/plain": [
       "<matplotlib.figure.Figure at 0x1590c240>"
      ]
     },
     "metadata": {},
     "output_type": "display_data"
    },
    {
     "name": "stdout",
     "output_type": "stream",
     "text": [
      "Wall time: 343 ms\n"
     ]
    }
   ],
   "source": [
    "%%time\n",
    "plot_3d_2d(x,y,z)"
   ]
  },
  {
   "cell_type": "markdown",
   "metadata": {},
   "source": [
    "## 3D estimated ellipsoids"
   ]
  },
  {
   "cell_type": "code",
   "execution_count": 68,
   "metadata": {},
   "outputs": [],
   "source": [
    "import numpy as np\n",
    "from numpy import linalg\n",
    "from mpl_toolkits.mplot3d import Axes3D\n",
    "import matplotlib.pyplot as plt\n",
    "from matplotlib import cm\n",
    "import matplotlib.colors as colors"
   ]
  },
  {
   "cell_type": "code",
   "execution_count": 69,
   "metadata": {},
   "outputs": [],
   "source": [
    "def one_ellipsoid_3D(ax,Ellipsoid_features,i,scale =40):\n",
    "        \n",
    "        \n",
    "        x0,y0,z0 = Ellipsoid_features[0]\n",
    "        sig_x,sig_y,sig_z = Ellipsoid_features[1]\n",
    "        \n",
    "        coefs = (sig_x[i]**2, sig_y[i]**2, sig_z[i]**2)  # Coefficients in a0/c x**2 + a1/c y**2 + a2/c z**2 = 1 \n",
    "        # Radii corresponding to the coefficients:\n",
    "        rx, ry, rz = scale/np.sqrt(coefs)\n",
    "\n",
    "        # Set of all spherical angles:\n",
    "        u = np.linspace(0, 2 * np.pi, 100)\n",
    "        v = np.linspace(0, np.pi, 100)\n",
    "\n",
    "        # Cartesian coordinates that correspond to the spherical angles:\n",
    "        # (this is the equation of an ellipsoid):\n",
    "        x = rx * np.outer(np.cos(u), np.sin(v))+x0[i]\n",
    "        y = ry * np.outer(np.sin(u), np.sin(v))+y0[i]\n",
    "        z = rz * np.outer(np.ones_like(u), np.cos(v))+z0[i]\n",
    "\n",
    "        # Plot:\n",
    "        ax.plot_surface(x, y, z,rstride=1, cstride=1,cmap='viridis', edgecolor='none',alpha=0.4)\n",
    "\n",
    "        "
   ]
  },
  {
   "cell_type": "code",
   "execution_count": 70,
   "metadata": {},
   "outputs": [],
   "source": [
    "def all_ellipsoids_3D(Ellipsoid_features,scale):\n",
    "        \n",
    "        number_of_defects = Ellipsoid_features[0].shape[1]\n",
    "        \n",
    "        fig = plt.figure(figsize=(8,8))  # Square figure\n",
    "        ax = fig.add_subplot(111, projection='3d')\n",
    "\n",
    "        for i in range(number_of_defects):\n",
    "            one_ellipsoid_3D(ax,Ellipsoid_features,i,scale)\n",
    "            \n",
    "        x,y,z = Ellipsoid_features[0]\n",
    "        \n",
    "        ax.set_xlim([np.min(x)-50, np.max(x)+50])\n",
    "        ax.set_ylim([np.min(y)-50, np.max(y)+50])\n",
    "        ax.set_zlim([np.min(z)-50, np.max(z)+50])\n",
    "        ax.set_title('3D distribution of estimated defects ellipsoids')\n",
    "        \n",
    "        plt.savefig('fig')\n",
    "        plt.show()"
   ]
  },
  {
   "cell_type": "code",
   "execution_count": 71,
   "metadata": {},
   "outputs": [
    {
     "data": {
      "text/plain": [
       "40L"
      ]
     },
     "execution_count": 71,
     "metadata": {},
     "output_type": "execute_result"
    }
   ],
   "source": [
    "Ellipsoid_features[0].shape[1]"
   ]
  },
  {
   "cell_type": "code",
   "execution_count": 72,
   "metadata": {},
   "outputs": [
    {
     "data": {
      "image/png": "[encoded data removed]",
      "text/plain": [
       "<matplotlib.figure.Figure at 0x15886588>"
      ]
     },
     "metadata": {},
     "output_type": "display_data"
    },
    {
     "name": "stdout",
     "output_type": "stream",
     "text": [
      "Wall time: 1min 50s\n"
     ]
    }
   ],
   "source": [
    "%%time\n",
    "all_ellipsoids_3D(Ellipsoid_features,40)#40 for better visualisation of the ellipsoids"
   ]
  },
  {
   "cell_type": "code",
   "execution_count": null,
   "metadata": {},
   "outputs": [],
   "source": []
  },
  {
   "cell_type": "code",
   "execution_count": null,
   "metadata": {},
   "outputs": [],
   "source": []
  },
  {
   "cell_type": "code",
   "execution_count": null,
   "metadata": {},
   "outputs": [],
   "source": []
  }
 ],
 "metadata": {
  "kernelspec": {
   "display_name": "Python 2",
   "language": "python",
   "name": "python2"
  },
  "language_info": {
   "codemirror_mode": {
    "name": "ipython",
    "version": 2
   },
   "file_extension": ".py",
   "mimetype": "text/x-python",
   "name": "python",
   "nbconvert_exporter": "python",
   "pygments_lexer": "ipython2",
   "version": "2.7.14"
  }
 },
 "nbformat": 4,
 "nbformat_minor": 2
}
