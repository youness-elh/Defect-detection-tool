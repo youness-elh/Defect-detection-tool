{
 "cells": [
  {
   "cell_type": "code",
   "execution_count": 1,
   "metadata": {},
   "outputs": [],
   "source": [
    "import math\n",
    "import time\n",
    "import numpy as np\n",
    "from numba import vectorize, float64,guvectorize"
   ]
  },
  {
   "cell_type": "code",
   "execution_count": 2,
   "metadata": {},
   "outputs": [],
   "source": [
    "def elapsed_time(function):\n",
    "    # get starting time\n",
    "    start = time.time()\n",
    "\n",
    "    print(function)\n",
    "\n",
    "    # get time taken to run the for loop code \n",
    "    elapsed_time = (time.time() - start)\n",
    "    \n",
    "    return elapsed_time"
   ]
  },
  {
   "cell_type": "markdown",
   "metadata": {},
   "source": [
    "# function 1"
   ]
  },
  {
   "cell_type": "code",
   "execution_count": 3,
   "metadata": {},
   "outputs": [],
   "source": [
    "def vectorize(coord):\n",
    "\n",
    "    t = np.array([[math.cos(coord[0])*math.sin(coord[1]), math.sin(coord[0])*math.sin(coord[1]), math.cos(coord[1])],\\\n",
    "    [-math.sin(coord[0]), math.cos(coord[0]),0],\\\n",
    "    [-math.cos(coord[0])*math.cos(coord[1]), -math.sin(coord[0])*math.cos(coord[1]),math.sin(coord[1])]])\n",
    "    #\n",
    "    #\n",
    "    B = np.array([[t[0,0]*t[0,0], t[0][1]*t[0,1], t[0,2]*t[0,2], 2*t[0,0]*t[0,1], 2*t[0,0]*t[0,2], 2*t[0,2]*t[0,1]],\\\n",
    "    [t[1,0]*t[1,0], t[1,1]*t[1,1], t[1,2]*t[1,2], 2*t[1,0]*t[1,1], 2*t[1,0]*t[1,2], 2*t[1,2]*t[1,1]],\\\n",
    "    [t[2,0]*t[2,0], t[2,1]*t[2,1], t[2,2]*t[2,2], 2*t[2,0]*t[2,1], 2*t[2,0]*t[2,2], 2*t[2,2]*t[2,1]],\\\n",
    "    [t[0,0]*t[1,0], t[0,1]*t[1,1], t[0,2]*t[1,2], t[0,0]*t[1,1]+t[0,1]*t[1,0], t[0,2]*t[1,0]+t[0,0]*t[1,2], t[0,1]*t[1,2]+t[0,2]*t[1,1]],\\\n",
    "    [t[0,0]*t[2,0], t[0,1]*t[2,1], t[0,2]*t[2,2], t[0,0]*t[2,1]+t[0,1]*t[2,0], t[0,2]*t[2,0]+t[0,0]*t[2,2], t[0,2]*t[2,1]+t[0,1]*t[2,2]],\\\n",
    "    [t[1,0]*t[2,0], t[1,1]*t[2,1], t[1,2]*t[2,2], t[1,0]*t[2,1]+t[1,1]*t[2,0], t[1,2]*t[2,0]+t[1,0]*t[2,2], t[1,1]*t[2,2]+t[1,2]*t[2,1]]])\n",
    "\n",
    "    return B\n",
    "def TransformField(C, alpha, beta, flag):\n",
    "    \n",
    "    B = np.apply_along_axis(vectorize, 1, zip(alpha,beta))\n",
    "    #\n",
    "    #\n",
    "\n",
    "    A = np.zeros((len(alpha),C.shape[0],6))\n",
    "    G = np.zeros_like(C)\n",
    "    #\n",
    "    #        \n",
    "    G[:,0:3] = C[:,0:3] ###\n",
    "\n",
    "    if np.array(flag) == np.array('strain'):\n",
    "        G[:,3:6] = C[:,3:6]/2.0 ####\n",
    "    else:\n",
    "        G[:,3:6] = C[:,3:6] ####\n",
    "\n",
    "    A = np.dot(B,G.T) #####\n",
    "\n",
    "    #\n",
    "    if np.array(flag) == np.array('strain'):\n",
    "        A[:,3:6] = A[:,3:6]*2.0 #####\n",
    "\n",
    "    return A[:,:,:]"
   ]
  },
  {
   "cell_type": "code",
   "execution_count": 4,
   "metadata": {},
   "outputs": [],
   "source": [
    "#v_TransformField = np.vectorize(TransformField)"
   ]
  },
  {
   "cell_type": "code",
   "execution_count": 5,
   "metadata": {},
   "outputs": [],
   "source": [
    "C=np.array([[1,2,3,4,5,6],[0,1,0,0,0,0]])\n",
    "alpha =  np.arange(0,185,5)\n",
    "beta = np.arange(0,185,5)\n",
    "flag ='strain'"
   ]
  },
  {
   "cell_type": "code",
   "execution_count": 6,
   "metadata": {},
   "outputs": [
    {
     "data": {
      "text/plain": [
       "<function __main__.vectorize>"
      ]
     },
     "execution_count": 6,
     "metadata": {},
     "output_type": "execute_result"
    }
   ],
   "source": [
    "vectorize"
   ]
  },
  {
   "cell_type": "code",
   "execution_count": 7,
   "metadata": {},
   "outputs": [],
   "source": [
    "oldStress_Table = np.array([])###\n",
    "oldStrain_Table = np.array([])###\n",
    "for frame in range(10):\n",
    "    stressN = 10\n",
    "    strainN = 10\n",
    "\n",
    "    stressTemp = np.zeros(6) ###\n",
    "    strainTemp = np.zeros(6) ###\n",
    "\n",
    "    stressN_data = np.array([1,2,3,4,5,6])\n",
    "    strainN_data = np.array([0,1,0,0,0,0])\n",
    "\n",
    "    stressTemp[:] = stressN_data[:]\n",
    "    strainTemp[:] = strainN_data[:]\n",
    "\n",
    "    oldStress_Table = np.append(oldStress_Table,stressTemp)###\n",
    "    oldStrain_Table = np.append(oldStrain_Table,strainTemp)###\n",
    "\n",
    "###C\n",
    "oldStress_Table = oldStress_Table.reshape(10,6)###\n",
    "oldStrain_Table = oldStrain_Table.reshape(10,6)###\n"
   ]
  },
  {
   "cell_type": "code",
   "execution_count": 8,
   "metadata": {},
   "outputs": [],
   "source": [
    "C = oldStrain_Table\n",
    "oldStrain_Table\n",
    "C[0,0]=10"
   ]
  },
  {
   "cell_type": "code",
   "execution_count": 9,
   "metadata": {},
   "outputs": [
    {
     "data": {
      "text/plain": [
       "array([[1000.,    1.,    0.,    0.,    0.,    0.],\n",
       "       [   0.,    1.,    0.,    0.,    0.,    0.],\n",
       "       [   0.,    1.,    0.,    0.,    0.,    0.],\n",
       "       [   0.,    1.,    0.,    0.,    0.,    0.],\n",
       "       [   0.,    1.,    0.,    0.,    0.,    0.],\n",
       "       [   0.,    1.,    0.,    0.,    0.,    0.],\n",
       "       [   0.,    1.,    0.,    0.,    0.,    0.],\n",
       "       [   0.,    1.,    0.,    0.,    0.,    0.],\n",
       "       [   0.,    1.,    0.,    0.,    0.,    0.],\n",
       "       [   0.,    1.,    0.,    0.,    0.,    0.]])"
      ]
     },
     "execution_count": 9,
     "metadata": {},
     "output_type": "execute_result"
    }
   ],
   "source": [
    "C[np.where(C == np.max(C))]=1000\n",
    "C"
   ]
  },
  {
   "cell_type": "code",
   "execution_count": 30,
   "metadata": {},
   "outputs": [
    {
     "name": "stdout",
     "output_type": "stream",
     "text": [
      "int32\n"
     ]
    }
   ],
   "source": [
    "np.max(C,axis=1)\n",
    "o = np.array([],dtype=np.int)\n",
    "print o.dtype"
   ]
  },
  {
   "cell_type": "code",
   "execution_count": 11,
   "metadata": {},
   "outputs": [
    {
     "data": {
      "text/plain": [
       "(array([  0,   0,   0, ..., 180, 180, 180]),\n",
       " array([  0,   5,  10, ..., 170, 175, 180]))"
      ]
     },
     "execution_count": 11,
     "metadata": {},
     "output_type": "execute_result"
    }
   ],
   "source": [
    "ALPHA = np.arange(0,185,5)\n",
    "#BETA = [0, 10, 20, 30, 40, 50,60, 70,80,90,100,110,120,130,140,150,160,170]\n",
    "BETA = np.arange(0,185,5)\n",
    "#\n",
    "xx, yy = np.meshgrid(ALPHA, BETA)\n",
    "ALPHA = yy.ravel() # 1d array of all combinations\n",
    "BETA = xx.ravel() # 1d array of all combinations\n",
    "ALPHA,BETA"
   ]
  },
  {
   "cell_type": "code",
   "execution_count": 13,
   "metadata": {},
   "outputs": [],
   "source": [
    "coord = np.zeros((len(ALPHA),2))\n",
    "coord[:,0] = ALPHA[:]\n",
    "coord[:,1] = BETA[:]"
   ]
  },
  {
   "cell_type": "code",
   "execution_count": 14,
   "metadata": {},
   "outputs": [
    {
     "data": {
      "text/plain": [
       "array([[  0.,   0.],\n",
       "       [  0.,   5.],\n",
       "       [  0.,  10.],\n",
       "       ...,\n",
       "       [180., 170.],\n",
       "       [180., 175.],\n",
       "       [180., 180.]])"
      ]
     },
     "execution_count": 14,
     "metadata": {},
     "output_type": "execute_result"
    }
   ],
   "source": [
    "\n",
    "coord"
   ]
  },
  {
   "cell_type": "code",
   "execution_count": 15,
   "metadata": {},
   "outputs": [
    {
     "name": "stdout",
     "output_type": "stream",
     "text": [
      "((0L,), 1)\n",
      "((1L,), 2)\n"
     ]
    },
    {
     "ename": "TypeError",
     "evalue": "list indices must be integers, not tuple",
     "output_type": "error",
     "traceback": [
      "\u001b[1;31m\u001b[0m",
      "\u001b[1;31mTypeError\u001b[0mTraceback (most recent call last)",
      "\u001b[1;32m<ipython-input-15-9ff16c2341f2>\u001b[0m in \u001b[0;36m<module>\u001b[1;34m()\u001b[0m\n\u001b[0;32m      2\u001b[0m \u001b[1;32mfor\u001b[0m \u001b[0mindex\u001b[0m\u001b[1;33m,\u001b[0m \u001b[0mx\u001b[0m \u001b[1;32min\u001b[0m \u001b[0mnp\u001b[0m\u001b[1;33m.\u001b[0m\u001b[0mndenumerate\u001b[0m\u001b[1;33m(\u001b[0m\u001b[0ma\u001b[0m\u001b[1;33m)\u001b[0m\u001b[1;33m:\u001b[0m\u001b[1;33m\u001b[0m\u001b[0m\n\u001b[0;32m      3\u001b[0m     \u001b[1;32mprint\u001b[0m\u001b[1;33m(\u001b[0m\u001b[0mindex\u001b[0m\u001b[1;33m,\u001b[0m \u001b[0mx\u001b[0m\u001b[1;33m)\u001b[0m\u001b[1;33m\u001b[0m\u001b[0m\n\u001b[1;32m----> 4\u001b[1;33m \u001b[0ma\u001b[0m\u001b[1;33m[\u001b[0m\u001b[0mindex\u001b[0m\u001b[1;33m]\u001b[0m\u001b[1;33m\u001b[0m\u001b[0m\n\u001b[0m",
      "\u001b[1;31mTypeError\u001b[0m: list indices must be integers, not tuple"
     ]
    }
   ],
   "source": [
    "a = [1, 2]\n",
    "for index, x in np.ndenumerate(a):\n",
    "    print(index, x)\n",
    "a[index]"
   ]
  },
  {
   "cell_type": "code",
   "execution_count": null,
   "metadata": {},
   "outputs": [],
   "source": []
  },
  {
   "cell_type": "code",
   "execution_count": 73,
   "metadata": {},
   "outputs": [],
   "source": [
    "a = np.arange(6)\n",
    "b = np.array([0,3,6,4,20,7])\n",
    "np.isin(b, a)\n",
    "node_list = np.zeros(12,dtype=np.int)"
   ]
  },
  {
   "cell_type": "code",
   "execution_count": 74,
   "metadata": {},
   "outputs": [
    {
     "data": {
      "text/plain": [
       "(array([0], dtype=int64), array([2], dtype=int64))"
      ]
     },
     "execution_count": 74,
     "metadata": {},
     "output_type": "execute_result"
    }
   ],
   "source": [
    "a = np.where([a==2*np.ones(6)])\n",
    "a"
   ]
  },
  {
   "cell_type": "code",
   "execution_count": 75,
   "metadata": {},
   "outputs": [
    {
     "data": {
      "text/plain": [
       "(array([], dtype=int64), array([], dtype=int64))"
      ]
     },
     "execution_count": 75,
     "metadata": {},
     "output_type": "execute_result"
    }
   ],
   "source": [
    "c =np.where(a == True*np.ones(6))\n",
    "c"
   ]
  },
  {
   "cell_type": "code",
   "execution_count": 50,
   "metadata": {},
   "outputs": [
    {
     "data": {
      "text/plain": [
       "array([False, False, False, False, False, False])"
      ]
     },
     "execution_count": 50,
     "metadata": {},
     "output_type": "execute_result"
    }
   ],
   "source": [
    "mask = np.array([i in [0] for item in b])\n",
    "mask"
   ]
  },
  {
   "cell_type": "code",
   "execution_count": 51,
   "metadata": {},
   "outputs": [
    {
     "data": {
      "text/plain": [
       "array([ True])"
      ]
     },
     "execution_count": 51,
     "metadata": {},
     "output_type": "execute_result"
    }
   ],
   "source": [
    "mask =np.array([item in b for item in a])\n",
    "mask"
   ]
  },
  {
   "cell_type": "code",
   "execution_count": 52,
   "metadata": {},
   "outputs": [
    {
     "data": {
      "text/plain": [
       "(array([0], dtype=int64),)"
      ]
     },
     "execution_count": 52,
     "metadata": {},
     "output_type": "execute_result"
    }
   ],
   "source": [
    "node_id =np.where(mask == True)\n",
    "node_id"
   ]
  },
  {
   "cell_type": "code",
   "execution_count": 37,
   "metadata": {},
   "outputs": [
    {
     "data": {
      "text/plain": [
       "array([1, 2, 3, 2, 2])"
      ]
     },
     "execution_count": 37,
     "metadata": {},
     "output_type": "execute_result"
    }
   ],
   "source": [
    "a = np.arange(4)\n",
    "c = np.where(2== a)\n",
    "d = np.where(a ==2)\n",
    "a = np.array([1,2,3,0,0,2,0,2])\n",
    "a[np.nonzero(a)]"
   ]
  },
  {
   "cell_type": "code",
   "execution_count": 33,
   "metadata": {},
   "outputs": [
    {
     "name": "stdout",
     "output_type": "stream",
     "text": [
      "Node\t1 has internal id\t0\n",
      "Node\t3 has internal id\t1\n",
      "Node\t6 has internal id\t2\n",
      "Node\t4 has internal id\t3\n",
      "Node\t20 has internal id\t4\n",
      "Node\t7 has internal id\t5\n"
     ]
    }
   ],
   "source": [
    "for (i,j) in zip(a,b):\n",
    "    print('Node\t'+str(j)+' has internal id\t'+str(i))"
   ]
  },
  {
   "cell_type": "code",
   "execution_count": 25,
   "metadata": {},
   "outputs": [],
   "source": [
    "g =TransformField(C, alpha, beta, flag)"
   ]
  },
  {
   "cell_type": "code",
   "execution_count": 198,
   "metadata": {},
   "outputs": [],
   "source": [
    "sx =A[:,:,0] \n",
    "j = np.max(sx,axis=1)\n",
    "k = np.arange(3)\n"
   ]
  },
  {
   "cell_type": "code",
   "execution_count": 202,
   "metadata": {},
   "outputs": [],
   "source": [
    "j[np.where(k>1)] = k[np.where(k>1)]\n",
    "(k+j)[np.where(k+j) >= 0]=0"
   ]
  },
  {
   "cell_type": "code",
   "execution_count": 204,
   "metadata": {},
   "outputs": [
    {
     "data": {
      "text/plain": [
       "(array([0, 1, 2]), array([3.49018843, 5.48677006, 2.        ]))"
      ]
     },
     "execution_count": 204,
     "metadata": {},
     "output_type": "execute_result"
    }
   ],
   "source": [
    "k,j"
   ]
  },
  {
   "cell_type": "code",
   "execution_count": 203,
   "metadata": {},
   "outputs": [
    {
     "data": {
      "text/plain": [
       "array([3.49018843, 6.48677006, 4.        ])"
      ]
     },
     "execution_count": 203,
     "metadata": {},
     "output_type": "execute_result"
    }
   ],
   "source": [
    "k+j"
   ]
  },
  {
   "cell_type": "code",
   "execution_count": 178,
   "metadata": {},
   "outputs": [],
   "source": [
    "\n",
    "o=np.max(sx,axis=1)"
   ]
  },
  {
   "cell_type": "code",
   "execution_count": null,
   "metadata": {},
   "outputs": [],
   "source": []
  },
  {
   "cell_type": "code",
   "execution_count": 41,
   "metadata": {},
   "outputs": [
    {
     "ename": "NameError",
     "evalue": "name 'o' is not defined",
     "output_type": "error",
     "traceback": [
      "\u001b[1;31m\u001b[0m",
      "\u001b[1;31mNameError\u001b[0mTraceback (most recent call last)",
      "\u001b[1;32m<ipython-input-41-6fc81ee4b5fd>\u001b[0m in \u001b[0;36m<module>\u001b[1;34m()\u001b[0m\n\u001b[1;32m----> 1\u001b[1;33m \u001b[0mk\u001b[0m\u001b[1;33m=\u001b[0m\u001b[0mnp\u001b[0m\u001b[1;33m.\u001b[0m\u001b[0mwhere\u001b[0m\u001b[1;33m(\u001b[0m\u001b[0mo\u001b[0m\u001b[1;33m>\u001b[0m\u001b[1;36m3\u001b[0m\u001b[1;33m)\u001b[0m\u001b[1;33m\u001b[0m\u001b[0m\n\u001b[0m\u001b[0;32m      2\u001b[0m \u001b[0mo\u001b[0m\u001b[1;33m[\u001b[0m\u001b[0mk\u001b[0m\u001b[1;33m]\u001b[0m\u001b[1;33m=\u001b[0m \u001b[0mo\u001b[0m\u001b[1;33m[\u001b[0m\u001b[0mk\u001b[0m\u001b[1;33m]\u001b[0m\u001b[1;33m/\u001b[0m\u001b[1;36m100.\u001b[0m\u001b[1;33m\u001b[0m\u001b[0m\n\u001b[0;32m      3\u001b[0m \u001b[0mo\u001b[0m\u001b[1;33m\u001b[0m\u001b[0m\n",
      "\u001b[1;31mNameError\u001b[0m: name 'o' is not defined"
     ]
    }
   ],
   "source": [
    "k=np.where(o>3)\n",
    "o[k]= o[k]/100.\n",
    "o"
   ]
  },
  {
   "cell_type": "code",
   "execution_count": 250,
   "metadata": {},
   "outputs": [],
   "source": [
    "coord  =np.array([[1,10],[1,6],[2,3]])\n",
    "t_vect = np.zeros((3,3,3),dtype=np.float)\n",
    "for i in range(3):\n",
    "\t\tt_vect[i,:,:] = np.array([[math.cos(coord[i,0])*math.sin(coord[i,1]), math.sin(coord[i,0])*math.sin(coord[i,1]), math.cos(coord[i,1])],\\\n",
    "\t\t[-math.sin(coord[i,0]), math.cos(coord[i,0]),0],\\\n",
    "\t\t[-math.cos(coord[i,0])*math.cos(coord[i,1]), -math.sin(coord[i,0])*math.cos(coord[i,1]),math.sin(coord[i,1])]])"
   ]
  },
  {
   "cell_type": "code",
   "execution_count": 252,
   "metadata": {},
   "outputs": [
    {
     "data": {
      "text/plain": [
       "array([[[-0.29393586, -0.45777798, -0.83907153],\n",
       "        [-0.84147098,  0.54030231,  0.        ],\n",
       "        [ 0.45335228,  0.70605435, -0.54402111]],\n",
       "\n",
       "       [[-0.15096884, -0.23512003,  0.96017029],\n",
       "        [-0.84147098,  0.54030231,  0.        ],\n",
       "        [-0.51878222, -0.80795544, -0.2794155 ]],\n",
       "\n",
       "       [[-0.05872664,  0.12832006, -0.9899925 ],\n",
       "        [-0.90929743, -0.41614684,  0.        ],\n",
       "        [-0.41198225,  0.90019763,  0.14112001]]])"
      ]
     },
     "execution_count": 252,
     "metadata": {},
     "output_type": "execute_result"
    }
   ],
   "source": [
    "t_vect"
   ]
  },
  {
   "cell_type": "code",
   "execution_count": 248,
   "metadata": {},
   "outputs": [
    {
     "data": {
      "text/plain": [
       "array([[[ 0.54030231,  0.54030231],\n",
       "        [10.        , 10.        ]],\n",
       "\n",
       "       [[ 0.54030231,  0.54030231],\n",
       "        [ 6.        ,  6.        ]]])"
      ]
     },
     "execution_count": 248,
     "metadata": {},
     "output_type": "execute_result"
    }
   ],
   "source": [
    "a=np.array([1,10])\n",
    "b=np.array([[1,10],[1,6]])\n",
    "def ok(k):\n",
    "    \n",
    "    t=np.array([[np.cos(k[:,0]),k[:,1]],[np.cos(k[:,0]),k[:,1]]])\n",
    "\n",
    "    return t\n",
    "    \n",
    "#=np.array([[t[0],t[0]],[t[1],t[1]]])\n",
    "#t = np.zeros((2,2,2,2))\n",
    "#at[:,:,:,:]=np.array([[t[0],t[0]],[t[1],t[1]]])\n",
    "#at\n",
    "\n",
    "ok(b).T\n"
   ]
  },
  {
   "cell_type": "code",
   "execution_count": 260,
   "metadata": {},
   "outputs": [
    {
     "data": {
      "text/plain": [
       "array([0, 1, 2, 0, 1, 2])"
      ]
     },
     "execution_count": 260,
     "metadata": {},
     "output_type": "execute_result"
    }
   ],
   "source": [
    "a = np.arange(3)\n",
    "b=np.arange(3)\n",
    "c = np.concatenate((a,b))\n",
    "c"
   ]
  },
  {
   "cell_type": "code",
   "execution_count": 98,
   "metadata": {},
   "outputs": [
    {
     "data": {
      "text/plain": [
       "array([[ 0.54030231,  0.54030231],\n",
       "       [60.        , 60.        ]])"
      ]
     },
     "execution_count": 98,
     "metadata": {},
     "output_type": "execute_result"
    }
   ],
   "source": [
    "l = np.apply_along_axis(ok, 1, k)\n",
    "l[1,:,:]"
   ]
  },
  {
   "cell_type": "code",
   "execution_count": 77,
   "metadata": {},
   "outputs": [
    {
     "name": "stdout",
     "output_type": "stream",
     "text": [
      "The slowest run took 7.23 times longer than the fastest. This could mean that an intermediate result is being cached.\n",
      "1000000 loops, best of 3: 1.11 µs per loop\n"
     ]
    }
   ],
   "source": [
    "%%timeit\n",
    "zip(a,b)"
   ]
  },
  {
   "cell_type": "code",
   "execution_count": 261,
   "metadata": {},
   "outputs": [
    {
     "data": {
      "text/plain": [
       "array([1, 2])"
      ]
     },
     "execution_count": 261,
     "metadata": {},
     "output_type": "execute_result"
    }
   ],
   "source": [
    "a=np.array([1.0,2.0]).astype(int)\n",
    "a"
   ]
  },
  {
   "cell_type": "code",
   "execution_count": 16,
   "metadata": {},
   "outputs": [
    {
     "ename": "IndexError",
     "evalue": "invalid index to scalar variable.",
     "output_type": "error",
     "traceback": [
      "\u001b[1;31m\u001b[0m",
      "\u001b[1;31mIndexError\u001b[0mTraceback (most recent call last)",
      "\u001b[1;32m<ipython-input-16-7bf2c2e0bcb1>\u001b[0m in \u001b[0;36m<module>\u001b[1;34m()\u001b[0m\n\u001b[1;32m----> 1\u001b[1;33m \u001b[0melapsed_time\u001b[0m\u001b[1;33m(\u001b[0m\u001b[0mv_TransformField\u001b[0m\u001b[1;33m(\u001b[0m\u001b[0mC\u001b[0m\u001b[1;33m,\u001b[0m \u001b[0malpha\u001b[0m\u001b[1;33m,\u001b[0m \u001b[0mbeta\u001b[0m\u001b[1;33m,\u001b[0m \u001b[0mflag\u001b[0m\u001b[1;33m)\u001b[0m\u001b[1;33m)\u001b[0m\u001b[1;33m\u001b[0m\u001b[0m\n\u001b[0m",
      "\u001b[1;32mC:\\Anaconda\\lib\\site-packages\\numpy\\lib\\function_base.pyc\u001b[0m in \u001b[0;36m__call__\u001b[1;34m(self, *args, **kwargs)\u001b[0m\n\u001b[0;32m   2753\u001b[0m             \u001b[0mvargs\u001b[0m\u001b[1;33m.\u001b[0m\u001b[0mextend\u001b[0m\u001b[1;33m(\u001b[0m\u001b[1;33m[\u001b[0m\u001b[0mkwargs\u001b[0m\u001b[1;33m[\u001b[0m\u001b[0m_n\u001b[0m\u001b[1;33m]\u001b[0m \u001b[1;32mfor\u001b[0m \u001b[0m_n\u001b[0m \u001b[1;32min\u001b[0m \u001b[0mnames\u001b[0m\u001b[1;33m]\u001b[0m\u001b[1;33m)\u001b[0m\u001b[1;33m\u001b[0m\u001b[0m\n\u001b[0;32m   2754\u001b[0m \u001b[1;33m\u001b[0m\u001b[0m\n\u001b[1;32m-> 2755\u001b[1;33m         \u001b[1;32mreturn\u001b[0m \u001b[0mself\u001b[0m\u001b[1;33m.\u001b[0m\u001b[0m_vectorize_call\u001b[0m\u001b[1;33m(\u001b[0m\u001b[0mfunc\u001b[0m\u001b[1;33m=\u001b[0m\u001b[0mfunc\u001b[0m\u001b[1;33m,\u001b[0m \u001b[0margs\u001b[0m\u001b[1;33m=\u001b[0m\u001b[0mvargs\u001b[0m\u001b[1;33m)\u001b[0m\u001b[1;33m\u001b[0m\u001b[0m\n\u001b[0m\u001b[0;32m   2756\u001b[0m \u001b[1;33m\u001b[0m\u001b[0m\n\u001b[0;32m   2757\u001b[0m     \u001b[1;32mdef\u001b[0m \u001b[0m_get_ufunc_and_otypes\u001b[0m\u001b[1;33m(\u001b[0m\u001b[0mself\u001b[0m\u001b[1;33m,\u001b[0m \u001b[0mfunc\u001b[0m\u001b[1;33m,\u001b[0m \u001b[0margs\u001b[0m\u001b[1;33m)\u001b[0m\u001b[1;33m:\u001b[0m\u001b[1;33m\u001b[0m\u001b[0m\n",
      "\u001b[1;32mC:\\Anaconda\\lib\\site-packages\\numpy\\lib\\function_base.pyc\u001b[0m in \u001b[0;36m_vectorize_call\u001b[1;34m(self, func, args)\u001b[0m\n\u001b[0;32m   2823\u001b[0m             \u001b[0mres\u001b[0m \u001b[1;33m=\u001b[0m \u001b[0mfunc\u001b[0m\u001b[1;33m(\u001b[0m\u001b[1;33m)\u001b[0m\u001b[1;33m\u001b[0m\u001b[0m\n\u001b[0;32m   2824\u001b[0m         \u001b[1;32melse\u001b[0m\u001b[1;33m:\u001b[0m\u001b[1;33m\u001b[0m\u001b[0m\n\u001b[1;32m-> 2825\u001b[1;33m             \u001b[0mufunc\u001b[0m\u001b[1;33m,\u001b[0m \u001b[0motypes\u001b[0m \u001b[1;33m=\u001b[0m \u001b[0mself\u001b[0m\u001b[1;33m.\u001b[0m\u001b[0m_get_ufunc_and_otypes\u001b[0m\u001b[1;33m(\u001b[0m\u001b[0mfunc\u001b[0m\u001b[1;33m=\u001b[0m\u001b[0mfunc\u001b[0m\u001b[1;33m,\u001b[0m \u001b[0margs\u001b[0m\u001b[1;33m=\u001b[0m\u001b[0margs\u001b[0m\u001b[1;33m)\u001b[0m\u001b[1;33m\u001b[0m\u001b[0m\n\u001b[0m\u001b[0;32m   2826\u001b[0m \u001b[1;33m\u001b[0m\u001b[0m\n\u001b[0;32m   2827\u001b[0m             \u001b[1;31m# Convert args to object arrays first\u001b[0m\u001b[1;33m\u001b[0m\u001b[1;33m\u001b[0m\u001b[0m\n",
      "\u001b[1;32mC:\\Anaconda\\lib\\site-packages\\numpy\\lib\\function_base.pyc\u001b[0m in \u001b[0;36m_get_ufunc_and_otypes\u001b[1;34m(self, func, args)\u001b[0m\n\u001b[0;32m   2783\u001b[0m \u001b[1;33m\u001b[0m\u001b[0m\n\u001b[0;32m   2784\u001b[0m             \u001b[0minputs\u001b[0m \u001b[1;33m=\u001b[0m \u001b[1;33m[\u001b[0m\u001b[0marg\u001b[0m\u001b[1;33m.\u001b[0m\u001b[0mflat\u001b[0m\u001b[1;33m[\u001b[0m\u001b[1;36m0\u001b[0m\u001b[1;33m]\u001b[0m \u001b[1;32mfor\u001b[0m \u001b[0marg\u001b[0m \u001b[1;32min\u001b[0m \u001b[0margs\u001b[0m\u001b[1;33m]\u001b[0m\u001b[1;33m\u001b[0m\u001b[0m\n\u001b[1;32m-> 2785\u001b[1;33m             \u001b[0moutputs\u001b[0m \u001b[1;33m=\u001b[0m \u001b[0mfunc\u001b[0m\u001b[1;33m(\u001b[0m\u001b[1;33m*\u001b[0m\u001b[0minputs\u001b[0m\u001b[1;33m)\u001b[0m\u001b[1;33m\u001b[0m\u001b[0m\n\u001b[0m\u001b[0;32m   2786\u001b[0m \u001b[1;33m\u001b[0m\u001b[0m\n\u001b[0;32m   2787\u001b[0m             \u001b[1;31m# Performance note: profiling indicates that -- for simple\u001b[0m\u001b[1;33m\u001b[0m\u001b[1;33m\u001b[0m\u001b[0m\n",
      "\u001b[1;32m<ipython-input-13-6e3060361981>\u001b[0m in \u001b[0;36mTransformField\u001b[1;34m(C, alpha, beta, flag)\u001b[0m\n\u001b[0;32m     13\u001b[0m     \u001b[1;31m#\u001b[0m\u001b[1;33m\u001b[0m\u001b[1;33m\u001b[0m\u001b[0m\n\u001b[0;32m     14\u001b[0m     \u001b[1;31m#\u001b[0m\u001b[1;33m\u001b[0m\u001b[1;33m\u001b[0m\u001b[0m\n\u001b[1;32m---> 15\u001b[1;33m     \u001b[0mG\u001b[0m\u001b[1;33m[\u001b[0m\u001b[1;33m:\u001b[0m\u001b[1;33m,\u001b[0m\u001b[1;36m0\u001b[0m\u001b[1;33m:\u001b[0m\u001b[1;36m3\u001b[0m\u001b[1;33m]\u001b[0m \u001b[1;33m=\u001b[0m \u001b[0mC\u001b[0m\u001b[1;33m[\u001b[0m\u001b[1;33m:\u001b[0m\u001b[1;33m,\u001b[0m\u001b[1;36m0\u001b[0m\u001b[1;33m:\u001b[0m\u001b[1;36m3\u001b[0m\u001b[1;33m]\u001b[0m \u001b[1;31m###\u001b[0m\u001b[1;33m\u001b[0m\u001b[0m\n\u001b[0m\u001b[0;32m     16\u001b[0m \u001b[1;33m\u001b[0m\u001b[0m\n\u001b[0;32m     17\u001b[0m     \u001b[1;32mif\u001b[0m \u001b[0mnp\u001b[0m\u001b[1;33m.\u001b[0m\u001b[0marray\u001b[0m\u001b[1;33m(\u001b[0m\u001b[0mflag\u001b[0m\u001b[1;33m)\u001b[0m \u001b[1;33m==\u001b[0m \u001b[0mnp\u001b[0m\u001b[1;33m.\u001b[0m\u001b[0marray\u001b[0m\u001b[1;33m(\u001b[0m\u001b[1;34m'strain'\u001b[0m\u001b[1;33m)\u001b[0m\u001b[1;33m:\u001b[0m\u001b[1;33m\u001b[0m\u001b[0m\n",
      "\u001b[1;31mIndexError\u001b[0m: invalid index to scalar variable."
     ]
    }
   ],
   "source": [
    "elapsed_time(v_TransformField(C, alpha, beta, flag))"
   ]
  },
  {
   "cell_type": "code",
   "execution_count": 110,
   "metadata": {},
   "outputs": [
    {
     "data": {
      "text/plain": [
       "array([1, 0])"
      ]
     },
     "execution_count": 110,
     "metadata": {},
     "output_type": "execute_result"
    }
   ],
   "source": [
    " Sx = np.array([])\n",
    "\n",
    "Sx = C[:,0]\n",
    "Sx"
   ]
  },
  {
   "cell_type": "code",
   "execution_count": 113,
   "metadata": {},
   "outputs": [
    {
     "data": {
      "text/plain": [
       "8"
      ]
     },
     "execution_count": 113,
     "metadata": {},
     "output_type": "execute_result"
    }
   ],
   "source": [
    "test=[[1,2,3],[8,2]]\n",
    "test[1][0]"
   ]
  },
  {
   "cell_type": "markdown",
   "metadata": {},
   "source": [
    "# function 2"
   ]
  },
  {
   "cell_type": "code",
   "execution_count": null,
   "metadata": {},
   "outputs": [],
   "source": [
    "def FindCycle(startTime,endTime,Step):\n",
    "    frames_of_Cycle = []\n",
    "    #frame_range = range(0,len(Step.frames))\n",
    "    for frame in Step.frames:\n",
    "        if (frame.frameValue >= startTime) and (frame.frameValue <= endTime):\n",
    "           frames_of_Cycle.append(frame)\n",
    "        elif (frame.frameValue > endTime):\n",
    "             break\n",
    "    \n",
    "    return frames_of_Cycle"
   ]
  },
  {
   "cell_type": "markdown",
   "metadata": {},
   "source": [
    "# function 3"
   ]
  },
  {
   "cell_type": "code",
   "execution_count": null,
   "metadata": {},
   "outputs": [],
   "source": [
    "def FindCycle2(frames, Step):\n",
    "    frames_of_Cycle = []\n",
    "    #frame_range = range(0,len(Step.frames))\n",
    "    for i in frames:\n",
    "        frames_of_Cycle.append(Step.frames[i])\n",
    "    #end for  \n",
    "    return frames_of_Cycle"
   ]
  },
  {
   "cell_type": "markdown",
   "metadata": {},
   "source": [
    "# function 4"
   ]
  },
  {
   "cell_type": "code",
   "execution_count": 115,
   "metadata": {},
   "outputs": [],
   "source": [
    "def newSWT(ALPHA,BETA,frames,E_Modul):\n",
    "    aM = 0.35e-3\n",
    "    bM = -0.1\n",
    "    SWT_Table = np.array([])\n",
    "    EL_RANGE = np.array(i_element_id)\n",
    "    for element_id in EL_RANGE:\n",
    "        oldStress_Table = np.array([])###\n",
    "        oldStrain_Table = np.array([])###\n",
    "        for frame in frames:\n",
    "            stressN = frame.fieldOutputs['S'].getSubset(position=CENTROID).values[element_id]\n",
    "            strainN = frame.fieldOutputs[strain_label].getSubset(position=CENTROID).values[element_id]\n",
    "\n",
    "            stressTemp = np.zeros(6) ###\n",
    "            strainTemp = np.zeros(6) ###\n",
    "\n",
    "            stressN_data = np.array(stressN.data)\n",
    "\n",
    "            '''test'''\n",
    "            print(stressN_data.shape)\n",
    "\n",
    "            stressTemp[:] = stressN_data[:]\n",
    "            strainTemp[:] = strainN_data[:]\n",
    "\n",
    "            oldStress_Table = np.append(oldStress_Table,stressTemp)###\n",
    "            oldStrain_Table = np.append(oldStrain_Table,strainTemp)###\n",
    "\n",
    "        oldStress_Table = oldStress_Table.reshape(len(frames),6)###\n",
    "        oldStrain_Table = oldStrain_Table.reshape(len(frames),6)###\n",
    "\n",
    "        for beta in BETA:\n",
    "            for alpha in ALPHA:############\n",
    "                newStress_Table = np.array([])\n",
    "                newStrain_Table = np.array([])\n",
    "\n",
    "                newStress_Table =  TransformField(oldStress_Table,abaqus.degreeToRadian(alpha),abaqus.degreeToRadian(beta),'')\n",
    "                newStrain_Table =  TransformField(oldStrain_Table,abaqus.degreeToRadian(alpha),abaqus.degreeToRadian(beta),'strain')\n",
    "\n",
    "                # Poisk max Sx, Ex i min Ex\n",
    "                Sx = np.array([])\n",
    "                Ex = np.array([])\n",
    "\n",
    "                Sx = newStress_Table[:,0]### ??? -->0 use frame 0\n",
    "                Ex = newStrain_Table[:,0]###\n",
    "\n",
    "                Smax = np.max(Sx)\n",
    "                Smin = np.min(Sx)\n",
    "                Sm = 0.5*(Smax+Smin)\n",
    "                Sa = 0.5*(Smax-Smin)\n",
    "\n",
    "                Emax = np.max(Ex)\n",
    "                Emin = np.min(Ex)\n",
    "                Msig = aM * Rm + bM\n",
    "                if Sm >= 0:\n",
    "                   Km = Msig * (2.+Msig)\n",
    "                else:\n",
    "                   Km = Msig/3. * (2.+Msig/3.)\n",
    "                if ((Sa+Km*Sm) >= 0):\n",
    "                   SWT = (Sa+Km*Sm)*(Emax-Emin)/2.0*E_Modul\n",
    "                else:\n",
    "                   SWT = 0.0\n",
    "                # frame.fieldOutputs['S'].values[element_id].integrationPoint,\n",
    "\n",
    "                SWT_Table =np.append(SWT_Table,np.array([frame.fieldOutputs['S'].getSubset(position=CENTROID).values[element_id].elementLabel,alpha,beta,SWT]))\n",
    "\n",
    "\n",
    "        print(float(EL_RANGE.index(element_id))/len(EL_RANGE)*100.0)\n",
    "    SWT_Table = SWT_Table.reshape(len(BETA)*len(ALPHA)*len(EL_RANGE),4)###\n",
    "\n",
    "    return SWT_Table"
   ]
  },
  {
   "cell_type": "markdown",
   "metadata": {},
   "source": [
    "## test"
   ]
  },
  {
   "cell_type": "code",
   "execution_count": 146,
   "metadata": {},
   "outputs": [],
   "source": [
    "def newSWT(ALPHA,BETA,E_Modul):\n",
    "    aM = 0.35e-3\n",
    "    bM = -0.1\n",
    "    SWT_Table = np.array([])\n",
    "    EL_RANGE = np.arange(3)\n",
    "    for element_id in EL_RANGE:\n",
    "        oldStress_Table = np.ones(24)*element_id###\n",
    "        oldStrain_Table = np.ones(24)*element_id###\n",
    "\n",
    "        oldStress_Table = oldStress_Table.reshape(4,6)###\n",
    "        oldStrain_Table = oldStrain_Table.reshape(4,6)###\n",
    "\n",
    "        for beta in BETA:\n",
    "            for alpha in ALPHA:############\n",
    "                newStress_Table = np.array([])\n",
    "                newStrain_Table = np.array([])\n",
    "\n",
    "                newStress_Table =  TransformField(oldStress_Table,alpha,beta,'')\n",
    "                newStrain_Table =  TransformField(oldStrain_Table,alpha,beta,'strain')\n",
    "\n",
    "                # Poisk max Sx, Ex i min Ex\n",
    "                Sx = np.array([])\n",
    "                Ex = np.array([])\n",
    "\n",
    "                Sx = newStress_Table[:,0]### ??? -->0 use frame 0\n",
    "                Ex = newStrain_Table[:,0]###\n",
    "\n",
    "                Smax = np.max(Sx)\n",
    "                Smin = np.min(Sx)\n",
    "                Sm = 0.5*(Smax+Smin)\n",
    "                Sa = 0.5*(Smax-Smin)\n",
    "\n",
    "                Emax = np.max(Ex)\n",
    "                Emin = np.min(Ex)\n",
    "                Msig = aM * Rm + bM\n",
    "                if Sm >= 0:\n",
    "                   Km = Msig * (2.+Msig)\n",
    "                else:\n",
    "                   Km = Msig/3. * (2.+Msig/3.)\n",
    "                if ((Sa+Km*Sm) >= 0):\n",
    "                   SWT = (Sa+Km*Sm)*(Emax-Emin)/2.0*E_Modul\n",
    "                else:\n",
    "                   SWT = 0.0\n",
    "                # frame.fieldOutputs['S'].values[element_id].integrationPoint,\n",
    "\n",
    "                SWT_Table = np.append(SWT_Table,np.array([alpha,beta,SWT]))\n",
    "    SWT_Table = SWT_Table.reshape((len(BETA)*len(ALPHA)*3,3))###\n",
    "    print('ok')\n",
    "\n",
    "    return SWT_Table"
   ]
  },
  {
   "cell_type": "code",
   "execution_count": 147,
   "metadata": {},
   "outputs": [],
   "source": [
    "ALPHA = np.array([10,20])\n",
    "BETA = np.array([10,20])+12\n",
    "\n",
    "E_Modul = 2.0e5\n",
    "k = 0.4\n",
    "Syield = 885.88 #[MPa]\n",
    "Rm = 1046.23 #[MPa]\n",
    "\n"
   ]
  },
  {
   "cell_type": "code",
   "execution_count": 149,
   "metadata": {},
   "outputs": [
    {
     "name": "stdout",
     "output_type": "stream",
     "text": [
      "ok\n",
      "Wall time: 0 ns\n"
     ]
    },
    {
     "data": {
      "text/plain": [
       "array([[10., 22.,  0.],\n",
       "       [20., 22.,  0.],\n",
       "       [10., 32.,  0.],\n",
       "       [20., 32.,  0.],\n",
       "       [10., 22.,  0.],\n",
       "       [20., 22.,  0.],\n",
       "       [10., 32.,  0.],\n",
       "       [20., 32.,  0.],\n",
       "       [10., 22.,  0.],\n",
       "       [20., 22.,  0.],\n",
       "       [10., 32.,  0.],\n",
       "       [20., 32.,  0.]])"
      ]
     },
     "execution_count": 149,
     "metadata": {},
     "output_type": "execute_result"
    }
   ],
   "source": [
    "%%time\n",
    "newSWT(ALPHA,BETA,E_Modul)#.reshape(:,3)"
   ]
  },
  {
   "cell_type": "code",
   "execution_count": 133,
   "metadata": {},
   "outputs": [
    {
     "ename": "NameError",
     "evalue": "name 'frames' is not defined",
     "output_type": "error",
     "traceback": [
      "\u001b[1;31m\u001b[0m",
      "\u001b[1;31mNameError\u001b[0mTraceback (most recent call last)",
      "\u001b[1;32m<ipython-input-133-f18516fe25c2>\u001b[0m in \u001b[0;36m<module>\u001b[1;34m()\u001b[0m\n\u001b[1;32m----> 1\u001b[1;33m \u001b[0mnewSWT\u001b[0m\u001b[1;33m(\u001b[0m\u001b[0mALPHA\u001b[0m\u001b[1;33m,\u001b[0m\u001b[0mBETA\u001b[0m\u001b[1;33m,\u001b[0m\u001b[0mframes\u001b[0m\u001b[1;33m,\u001b[0m\u001b[0mE_Modul\u001b[0m\u001b[1;33m)\u001b[0m\u001b[1;33m\u001b[0m\u001b[0m\n\u001b[0m\u001b[0;32m      2\u001b[0m \u001b[1;31m#ALPHA = [0, 10, 20, 30, 40, 45, 50,60, 70,80,90,100,110,120,130, 135, 140,150,160,170]\u001b[0m\u001b[1;33m\u001b[0m\u001b[1;33m\u001b[0m\u001b[0m\n\u001b[0;32m      3\u001b[0m \u001b[0mALPHA\u001b[0m \u001b[1;33m=\u001b[0m \u001b[0mnp\u001b[0m\u001b[1;33m.\u001b[0m\u001b[0marange\u001b[0m\u001b[1;33m(\u001b[0m\u001b[1;36m0\u001b[0m\u001b[1;33m,\u001b[0m\u001b[1;36m185\u001b[0m\u001b[1;33m,\u001b[0m\u001b[1;36m5\u001b[0m\u001b[1;33m)\u001b[0m\u001b[1;33m\u001b[0m\u001b[0m\n\u001b[0;32m      4\u001b[0m \u001b[1;31m#BETA = [0, 10, 20, 30, 40, 50,60, 70,80,90,100,110,120,130,140,150,160,170]\u001b[0m\u001b[1;33m\u001b[0m\u001b[1;33m\u001b[0m\u001b[0m\n\u001b[0;32m      5\u001b[0m \u001b[0mBETA\u001b[0m \u001b[1;33m=\u001b[0m \u001b[0mnp\u001b[0m\u001b[1;33m.\u001b[0m\u001b[0marange\u001b[0m\u001b[1;33m(\u001b[0m\u001b[1;36m0\u001b[0m\u001b[1;33m,\u001b[0m\u001b[1;36m185\u001b[0m\u001b[1;33m,\u001b[0m\u001b[1;36m5\u001b[0m\u001b[1;33m)\u001b[0m\u001b[1;33m\u001b[0m\u001b[0m\n",
      "\u001b[1;31mNameError\u001b[0m: name 'frames' is not defined"
     ]
    }
   ],
   "source": [
    "newSWT(ALPHA,BETA,frames,E_Modul)\n",
    "#ALPHA = [0, 10, 20, 30, 40, 45, 50,60, 70,80,90,100,110,120,130, 135, 140,150,160,170]\n",
    "ALPHA = np.arange(0,185,5)\n",
    "#BETA = [0, 10, 20, 30, 40, 50,60, 70,80,90,100,110,120,130,140,150,160,170]\n",
    "BETA = np.arange(0,185,5)"
   ]
  },
  {
   "cell_type": "code",
   "execution_count": null,
   "metadata": {},
   "outputs": [],
   "source": []
  },
  {
   "cell_type": "code",
   "execution_count": 30,
   "metadata": {},
   "outputs": [
    {
     "data": {
      "text/plain": [
       "array([0., 0., 0., 0., 0., 0.])"
      ]
     },
     "execution_count": 30,
     "metadata": {},
     "output_type": "execute_result"
    }
   ],
   "source": [
    "a = np.zeros(6)\n",
    "c=np.array([])\n",
    "c =np.append(c,a)\n",
    "c "
   ]
  },
  {
   "cell_type": "code",
   "execution_count": 31,
   "metadata": {},
   "outputs": [
    {
     "data": {
      "text/plain": [
       "array([0., 0., 0., 0., 0., 0., 0., 0., 0., 0., 0., 0.])"
      ]
     },
     "execution_count": 31,
     "metadata": {},
     "output_type": "execute_result"
    }
   ],
   "source": [
    "c =np.append(c,a)\n",
    "c"
   ]
  },
  {
   "cell_type": "code",
   "execution_count": 32,
   "metadata": {},
   "outputs": [
    {
     "data": {
      "text/plain": [
       "array([[0., 0., 0., 0., 0., 0.],\n",
       "       [0., 0., 0., 0., 0., 0.]])"
      ]
     },
     "execution_count": 32,
     "metadata": {},
     "output_type": "execute_result"
    }
   ],
   "source": [
    "c.reshape(2,6)"
   ]
  },
  {
   "cell_type": "code",
   "execution_count": 43,
   "metadata": {},
   "outputs": [],
   "source": [
    "def vect(a,c):\n",
    "    k=a*c\n",
    "    return k"
   ]
  },
  {
   "cell_type": "code",
   "execution_count": 45,
   "metadata": {},
   "outputs": [
    {
     "data": {
      "text/plain": [
       "array([2., 2., 2., 2., 2., 2.])"
      ]
     },
     "execution_count": 45,
     "metadata": {},
     "output_type": "execute_result"
    }
   ],
   "source": [
    "vect(a+2,a+1)"
   ]
  },
  {
   "cell_type": "code",
   "execution_count": 40,
   "metadata": {},
   "outputs": [
    {
     "data": {
      "text/plain": [
       "array([0., 0., 0., 0., 0., 0.])"
      ]
     },
     "execution_count": 40,
     "metadata": {},
     "output_type": "execute_result"
    }
   ],
   "source": [
    "a"
   ]
  },
  {
   "cell_type": "code",
   "execution_count": 49,
   "metadata": {},
   "outputs": [
    {
     "data": {
      "text/plain": [
       "[0, 1, 2, 3, 4, 5, 6, 7, 8, 9]"
      ]
     },
     "execution_count": 49,
     "metadata": {},
     "output_type": "execute_result"
    }
   ],
   "source": [
    "np.array(a)\n",
    "range(10)"
   ]
  },
  {
   "cell_type": "code",
   "execution_count": 59,
   "metadata": {},
   "outputs": [],
   "source": [
    "a = a+1\n",
    "c =c.reshape(2,6)+2"
   ]
  },
  {
   "cell_type": "code",
   "execution_count": 82,
   "metadata": {},
   "outputs": [],
   "source": [
    "#o = np.dot(c,a.T)\n",
    "a = []\n"
   ]
  },
  {
   "cell_type": "code",
   "execution_count": 89,
   "metadata": {},
   "outputs": [
    {
     "name": "stdout",
     "output_type": "stream",
     "text": [
      "[1, 2, 2, [1], [1, 2], [1, 2], [1, 2, 6]]\n"
     ]
    }
   ],
   "source": [
    "c=[1,2]*2\n",
    "a.append([1,2,6])\n",
    "print(a)"
   ]
  },
  {
   "cell_type": "code",
   "execution_count": 100,
   "metadata": {},
   "outputs": [
    {
     "data": {
      "text/plain": [
       "2"
      ]
     },
     "execution_count": 100,
     "metadata": {},
     "output_type": "execute_result"
    }
   ],
   "source": [
    "c\n",
    "c =np.sort(c)\n",
    "np.max(c)\n"
   ]
  },
  {
   "cell_type": "code",
   "execution_count": 104,
   "metadata": {},
   "outputs": [
    {
     "name": "stdout",
     "output_type": "stream",
     "text": [
      "50.0\n"
     ]
    }
   ],
   "source": [
    "print(float(1)/2*100.0)"
   ]
  },
  {
   "cell_type": "code",
   "execution_count": 166,
   "metadata": {},
   "outputs": [
    {
     "data": {
      "text/plain": [
       "array([  0,   5,  10,  15,  20,  25,  30,  35,  40,  45,  50,  55,  60,\n",
       "        65,  70,  75,  80,  85,  90,  95, 100, 105, 110, 115, 120, 125,\n",
       "       130, 135, 140, 145, 150, 155, 160, 165, 170, 175, 180])"
      ]
     },
     "execution_count": 166,
     "metadata": {},
     "output_type": "execute_result"
    }
   ],
   "source": [
    "alpha=beta = np.arange(0,185,5)\n",
    "alpha"
   ]
  },
  {
   "cell_type": "code",
   "execution_count": 171,
   "metadata": {},
   "outputs": [
    {
     "data": {
      "text/plain": [
       "(array([  0,   5,  10, ..., 170, 175, 180]),\n",
       " array([  0,   0,   0, ..., 180, 180, 180]))"
      ]
     },
     "execution_count": 171,
     "metadata": {},
     "output_type": "execute_result"
    }
   ],
   "source": [
    "xx, yy = np.meshgrid(beta, alpha)\n",
    "a =yy.ravel()\n",
    "b=xx.ravel()\n",
    "b,a"
   ]
  },
  {
   "cell_type": "code",
   "execution_count": null,
   "metadata": {},
   "outputs": [],
   "source": []
  },
  {
   "cell_type": "markdown",
   "metadata": {},
   "source": [
    "# function 5"
   ]
  },
  {
   "cell_type": "code",
   "execution_count": null,
   "metadata": {},
   "outputs": [],
   "source": [
    "def export_results(data, fileName='SWT_results.tab'):\n",
    "    file = open(''+fileName,'w+')\n",
    "    for line in range(0,len(data)):\n",
    "        file.write(str(data[line][0])+', '+str(data[line][1])+', '+str(data[line][2])+', '+str(data[line][3])+', '+format(data[line][4], '1.6f')+chr(10))\n",
    "    \n",
    "    file.close()\n",
    "    return"
   ]
  },
  {
   "cell_type": "code",
   "execution_count": null,
   "metadata": {},
   "outputs": [],
   "source": []
  },
  {
   "cell_type": "markdown",
   "metadata": {},
   "source": [
    "# function 6"
   ]
  },
  {
   "cell_type": "code",
   "execution_count": null,
   "metadata": {},
   "outputs": [],
   "source": [
    "def FatemiSocie(ALPHA,BETA,frames,k,Syield):\n",
    "\n",
    "\tFS_Table = np.array([])\n",
    "\tEL_RANGE = i_element_id\n",
    "\tfor element_id in EL_RANGE:\n",
    "\t\toldStress_Table = np.array([])\n",
    "\t\toldStrain_Table = np.array([])\n",
    "\t\tfor frame in frames:\n",
    "\t\t\tstressN = frame.fieldOutputs['S'].getSubset(position=CENTROID).values[element_id]\n",
    "\t\t\tstrainN = frame.fieldOutputs[strain_label].getSubset(position=CENTROID).values[element_id]\n",
    "\t\t\t\n",
    "\t\t\tstressTemp = np.zeros(6) ###\n",
    "\t\t\tstrainTemp = np.zeros(6) ###\n",
    "\t\t\t\n",
    "\t\t\tstressN_data = np.array(stressN.data)\n",
    "\t\t\tstrainN_data = np.array(strainN.data)\n",
    "\n",
    "\t\t\tstressTemp[:] = stressN_data[:]\n",
    "\t\t\tstrainTemp[:] = strainN_data[:]\n",
    "\n",
    "\t\t\toldStress_Table = np.append(oldStress_Table,stressTemp)###\n",
    "\t\t\toldStrain_Table = np.append(oldStrain_Table,strainTemp)###\n",
    "\n",
    "\t\toldStress_Table = oldStress_Table.reshape(len(frames),6)###\n",
    "\t\toldStrain_Table = oldStrain_Table.reshape(len(frames),6)###\n",
    "\n",
    "\t\t#FS_Table = []\n",
    "\t\tfor alpha,beta in zip(ALPHA,BETA):\n",
    "\n",
    "\t\t\tnewStress_Table = np.array([])\n",
    "\t\t\tnewStrain_Table = np.array([])\n",
    "\t\t\t\n",
    "\t\t\tnewStress_Table =  TransformField(oldStress_Table,abaqus.degreeToRadian(alpha),abaqus.degreeToRadian(beta),'')\n",
    "\t\t\tnewStrain_Table =  TransformField(oldStrain_Table,abaqus.degreeToRadian(alpha),abaqus.degreeToRadian(beta),'strain')\n",
    "\t\t\t\n",
    "\t\t\t# Poisk max Sx, Ex i min Ex\n",
    "\t\t\tSx = np.array([])\n",
    "\t\t\tExy = np.array([])\n",
    "\t\t\tEzx = np.array([])\n",
    "\t\t\n",
    "\t\t\tSx = newStress_Table[:,0]\n",
    "\t\t\tExy = newStrain_Table[:,3]\n",
    "\t\t\tEzx = newStrain_Table[:,5]\n",
    "\n",
    "\t\t\tSmax = np.max(Sx)\n",
    "\t\t\tEmax = np.max(Exy)\n",
    "\t\t\tEmin = np.min(Exy)\n",
    "\t\t\tE2max = np.max(Ezx)\n",
    "\t\t\tE2min = np.min(Ezx)\n",
    "\t\t\t\n",
    "\t\t\tif ((E2max-E2min)>(Emax-Emin)):\n",
    "\t\t\t   Emax = E2max\n",
    "\t\t\t   Emin = E2min\n",
    "\t\t\t\n",
    "\t\t\tFS = 0.5*(Emax - Emin)*(1 + k*Smax/Syield)\n",
    "\n",
    "\t\t\tFS_Table =np.append(FS_Table,np.array([frame.fieldOutputs['S'].getSubset(position=CENTROID).values[element_id].elementLabel,alpha,beta,FS]))\n",
    "\n",
    "\t\tprint(float(EL_RANGE.index(element_id))/len(EL_RANGE)*100.0)\n",
    "\tFS_Table = FS_Table.reshape(len(BETA)*len(EL_RANGE),4)\n",
    "\n",
    "\treturn FS_Table"
   ]
  },
  {
   "cell_type": "markdown",
   "metadata": {},
   "source": [
    "# function 7"
   ]
  },
  {
   "cell_type": "code",
   "execution_count": null,
   "metadata": {},
   "outputs": [],
   "source": []
  },
  {
   "cell_type": "markdown",
   "metadata": {},
   "source": [
    "# function 8"
   ]
  },
  {
   "cell_type": "code",
   "execution_count": null,
   "metadata": {},
   "outputs": [],
   "source": []
  },
  {
   "cell_type": "markdown",
   "metadata": {},
   "source": [
    "# function 9"
   ]
  },
  {
   "cell_type": "code",
   "execution_count": null,
   "metadata": {},
   "outputs": [],
   "source": []
  },
  {
   "cell_type": "markdown",
   "metadata": {},
   "source": [
    "# function 10"
   ]
  },
  {
   "cell_type": "code",
   "execution_count": null,
   "metadata": {},
   "outputs": [],
   "source": []
  }
 ],
 "metadata": {
  "kernelspec": {
   "display_name": "Python 2",
   "language": "python",
   "name": "python2"
  },
  "language_info": {
   "codemirror_mode": {
    "name": "ipython",
    "version": 2
   },
   "file_extension": ".py",
   "mimetype": "text/x-python",
   "name": "python",
   "nbconvert_exporter": "python",
   "pygments_lexer": "ipython2",
   "version": "2.7.14"
  }
 },
 "nbformat": 4,
 "nbformat_minor": 2
}
