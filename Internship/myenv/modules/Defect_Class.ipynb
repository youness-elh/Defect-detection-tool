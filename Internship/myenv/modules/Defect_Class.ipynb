{
 "cells": [
  {
   "cell_type": "code",
   "execution_count": 1,
   "metadata": {},
   "outputs": [],
   "source": [
    "import os\n",
    "import pandas as pd\n",
    "from pandas import ExcelWriter\n",
    "from pandas import ExcelFile\n",
    "import sys\n",
    "import numpy as np\n",
    "import matplotlib.pyplot as plt\n",
    "import matplotlib.path as pth\n",
    "from PIL.Image import *\n",
    "from matplotlib import cm\n",
    "from PIL import Image\n",
    "import cv2\n",
    "from PIL import Image\n",
    "import scipy\n",
    "from scipy import signal as sg\n",
    "from scipy import ndimage\n",
    "\n",
    "np.set_printoptions(precision=2,linewidth=500,suppress=True)"
   ]
  },
  {
   "cell_type": "code",
   "execution_count": 2,
   "metadata": {},
   "outputs": [
    {
     "name": "stdout",
     "output_type": "stream",
     "text": [
      "C:\\Anaconda\n"
     ]
    }
   ],
   "source": [
    "import sys\n",
    "import os\n",
    "print(os.path.dirname(sys.executable))"
   ]
  },
  {
   "cell_type": "markdown",
   "metadata": {},
   "source": [
    "# Image"
   ]
  },
  {
   "cell_type": "code",
   "execution_count": 3,
   "metadata": {},
   "outputs": [],
   "source": [
    "def multiple_imshow(rows,cols,images ,titles):\n",
    "\n",
    "    plt.figure(len(images), figsize=(12, 12))\n",
    "    for i in range(len(images)):\n",
    "        plt.subplot(rows,cols,i+1)\n",
    "        plt.imshow(images[i],'gray')\n",
    "        plt.title(titles[i])\n",
    "        #plt.xticks([]),plt.yticks([]) \n",
    "    plt.show()\n",
    "\n",
    "def defect_detection(path,lower_bound,upper_bound,lower_bound_1 = [0,0,0],upper_bound_1 =[0,0,0]):\n",
    "    \n",
    "    img = cv2.imread(path,1)  # BGR color image reading and 0 flag for gray\n",
    "    \n",
    "    #blur = cv2.GaussianBlur(img,(5,5),0) #not good results\n",
    "    #kernel = np.ones((5,5),np.float32)/25 #averaging is not satisfying as well\n",
    "    #dst = cv2.filter2D(img,-1,kernel)\n",
    "    #median = cv2.medianBlur(img,5)#median as well\n",
    "    \n",
    "    # converting it into Hue, saturation, value (HSV)\n",
    "    hsv = cv2.cvtColor(img, cv2.COLOR_BGR2HSV)\n",
    "   \n",
    "    '''Threshold'''\n",
    "    \n",
    "    # define range of red color in HSV\n",
    "    lower = np.array(lower_bound)\n",
    "    upper = np.array(upper_bound)\n",
    "    \n",
    "    # Threshold the HSV image to get only red colors\n",
    "    mask_0 = cv2.inRange(hsv, lower, upper)\n",
    "    mask_1 = cv2.inRange(hsv,np.array(lower_bound_1),np.array(upper_bound_1))\n",
    "    mask =mask_0 + mask_1\n",
    "    \n",
    "    # Bitwise-AND mask and original image\n",
    "    res = cv2.bitwise_and(img,img, mask = mask)\n",
    "    \n",
    "    return res\n",
    "\n",
    "\n",
    "def pre_shaping(image,resol = [284,348]):\n",
    "    \n",
    "    #width = resol[1]\n",
    "    #height = resol[0]\n",
    "    #dim = (width, height) \n",
    "    \n",
    "    # resize image\n",
    "    #resized = cv2.resize(image, dim, interpolation = cv2.INTER_AREA)#INTER_LINEAR_EXACT) \n",
    "    \n",
    "    img = image\n",
    "    rows,cols = img.shape\n",
    "    \n",
    "    frame = [[0,0],[cols,0],[0,rows],[cols,rows]]\n",
    "    dimension = [[0,0],[resol[1],0],[0,resol[0]],[resol[1],resol[0]]]\n",
    "\n",
    "    pts1 = np.float32(frame)\n",
    "    pts2 = np.float32(dimension)\n",
    "\n",
    "    M = cv2.getPerspectiveTransform(pts1,pts2)\n",
    "    resized = cv2.warpPerspective(img,M,(resol[1],resol[0]))\n",
    "    \n",
    "    return resized\n",
    "\n",
    "def real_shaping(normalized_image,rows_dim,cols_dim,i = 8,j = 17):\n",
    "    \n",
    "    img = normalized_image\n",
    "    rows,cols = img.shape\n",
    "    \n",
    "    frame = [[i,j],[rows,j],[i,cols],[rows,cols]]\n",
    "    dimension = [[0,0],[cols_dim,0],[0,rows_dim],[cols_dim,rows_dim]]\n",
    "\n",
    "    pts1 = np.float32(frame)\n",
    "    pts2 = np.float32(dimension)\n",
    "\n",
    "    M = cv2.getPerspectiveTransform(pts1,pts2)\n",
    "\n",
    "    real_shape = cv2.warpPerspective(img,M,(cols_dim,rows_dim))\n",
    "    \n",
    "    return real_shape"
   ]
  },
  {
   "cell_type": "code",
   "execution_count": 10,
   "metadata": {},
   "outputs": [
    {
     "data": {
      "image/png": "[encoded data removed]",
      "text/plain": [
       "<matplotlib.figure.Figure at 0xbde9898>"
      ]
     },
     "metadata": {},
     "output_type": "display_data"
    }
   ],
   "source": [
    "'''Functions call'''\n",
    "\n",
    "path = \"C:/Users/elh/Desktop/xy.png\"\n",
    "\n",
    "''' Big defects : red_yellow'''\n",
    "\n",
    "lower_bound = [0,0,0]\n",
    "upper_bound = [55,255,255] # for more defects the upper bound can go till ~105\n",
    "\n",
    "res = defect_detection(path,lower_bound,upper_bound,[155,0,0],[179,255,255])\n",
    "\n",
    "\"\"\"Binary image to detect the center\"\"\"\n",
    "imgray = cv2.cvtColor(res,cv2.COLOR_BGR2GRAY) #convert to gray\n",
    "\n",
    "#binary thresholding \n",
    "ret,thresh = cv2.threshold(imgray,0,1,cv2.THRESH_BINARY)\n",
    "#th2 = cv2.adaptiveThreshold(imgray,255,cv2.ADAPTIVE_THRESH_GAUSSIAN_C,\\\n",
    "            #cv2.THRESH_BINARY,11,2) #consider some defects as noise\n",
    "\n",
    "\n",
    "title = 'Global Thresholding (big defects)'\n",
    "\n",
    "'''shaping'''\n",
    "#gray image\n",
    "\n",
    "#img = pre_shaping(img,resol = [350,285])\n",
    "images = [255-thresh,255-imgray]#255-img]#i,j --> y,x\n",
    "titles = ['binary image','pre_shaped gray image']\n",
    "\n",
    "multiple_imshow(1,2,images ,titles)\n"
   ]
  },
  {
   "cell_type": "code",
   "execution_count": 11,
   "metadata": {},
   "outputs": [],
   "source": [
    "pre_processed_img = imgray # pre_shaped gray image"
   ]
  },
  {
   "cell_type": "markdown",
   "metadata": {},
   "source": [
    "## One defect"
   ]
  },
  {
   "cell_type": "code",
   "execution_count": 12,
   "metadata": {},
   "outputs": [],
   "source": [
    "def add_neighbours_in_stack(image, a, b, stack, i, j, inComponent):\n",
    "\n",
    "    inComponent[i, j] = True\n",
    "    neighbours = [(i+1,j),(i-1,j),(i,j-1),(i,j+1)]\n",
    "    #neighbours = [(i-1,j-1),(i+1,j-1),(i+1,j),(i-1,j),(i,j-1),(i,j+1),(i-1,j+1),(i+1,j+1)]\n",
    "    for (k,l) in neighbours:\n",
    "        if 0<=k<image.shape[0] and 0<=l<image.shape[1]:\n",
    "            if (image[k,l]>a and image[k,l]<b) and not inComponent[k, l]:\n",
    "                inComponent[k, l] = True\n",
    "                stack.append((k,l))\n",
    "    return \n",
    "\n",
    "def connected_component_nb(image, seuil, i0,j0, inComponent):\n",
    "    stack = [(i0,j0)]\n",
    "    defect = []\n",
    "    nb=1\n",
    "    barycentre = [i0,j0]\n",
    "    while len(stack)>0:\n",
    "        (i,j) = stack.pop()\n",
    "        nb+=1  \n",
    "        add_neighbours_in_stack(image, seuil, 260, stack, i, j, inComponent)\n",
    "        \n",
    "        defect.append((i,j))\n",
    "        barycentre[0] += i\n",
    "        barycentre[1] += j\n",
    "            \n",
    "    barycentre[0] /= nb\n",
    "    barycentre[1] /= nb\n",
    "    \n",
    "    return nb-1, barycentre,defect\n",
    "\n",
    "\n",
    "def all_connected_components(image, seuil):\n",
    "\n",
    "    inComponent = np.empty(image.shape, dtype=np.bool)\n",
    "    inComponent[:, :] = False # stoping test\n",
    "\n",
    "    baryAndSizes = []\n",
    "    for i in range(image.shape[0]):\n",
    "        for j in range(image.shape[1]):\n",
    "            if image[i,j]>seuil and not inComponent[i,j]:\n",
    "                baryAndSizes.append(connected_component_nb(image,seuil,i,j,inComponent))\n",
    "                \n",
    "    return baryAndSizes\n",
    "\n",
    "\n",
    "def step2(image,defect_nb,thresh):\n",
    "    \n",
    "    imageR = image\n",
    "    imageB = image\n",
    "\n",
    "    baryAndSizesR = all_connected_components(imageR, thresh)\n",
    "    baryAndSizesB = all_connected_components(imageB, thresh)\n",
    "    \n",
    "    xR, xB = np.array([],dtype=int), np.array([],dtype=int)\n",
    "    yR, yB = np.array([],dtype=int), np.array([],dtype=int)\n",
    "    sizeR, sizeB = np.array([]), np.array([]) \n",
    "    \n",
    "    for i in range(len(baryAndSizesR)):\n",
    "        xR = np.append(xR, baryAndSizesR[i][1][0])\n",
    "        yR = np.append(yR, baryAndSizesR[i][1][1])\n",
    "        sizeR = np.append(sizeR, baryAndSizesR[i][0])\n",
    "    \n",
    "    for i in range(len(baryAndSizesB)):\n",
    "        xB = np.append(xB, baryAndSizesB[i][1][0])\n",
    "        yB = np.append(yB, baryAndSizesB[i][1][1])\n",
    "        sizeB = np.append(sizeB, baryAndSizesB[i][0])\n",
    "    \n",
    "    '''plot'''\n",
    "    fig, ax = plt.subplots(1,3, figsize = (22,12))\n",
    "    fig.suptitle('Results', fontsize=16)\n",
    "    ax[0].set_xlim(0,imageR.shape[1])\n",
    "    ax[1].set_xlim(0,imageB.shape[1])\n",
    "    ax[2].set_xlim(0,imageB.shape[1])\n",
    "    \n",
    "    title = ['Detected defects centers','Detected defects as discs']\n",
    "    ax[0].imshow(255-imageR, cmap='gray', vmin = 0, vmax = 255,)\n",
    "    ax[0].scatter(yR, xR, marker='+', s=sizeR, c = 'r', alpha = 0.5)\n",
    "    ax[0].set_title(title[0])\n",
    "    \n",
    "    ax[0].set_xlabel('x')\n",
    "    ax[0].set_ylabel('y')\n",
    "\n",
    "    ax[1].imshow(255-imageB, cmap='gray', vmin = 0, vmax = 255,)\n",
    "    ax[1].scatter(yB, xB, marker='o', s=sizeB, c = 'b', alpha = 0.5)\n",
    "    ax[1].set_title(title[1])\n",
    "    \n",
    "    ax[1].set_xlabel('x')\n",
    "    ax[1].set_ylabel('y')\n",
    "    \n",
    "    '''defects list''' \n",
    "    #print(baryAndSizesB[0][2])#exemple of defect 0\n",
    "    test = np.array([],dtype=int)\n",
    "    test = baryAndSizesB[defect_nb][2] #i.e defect number 10\n",
    "    test_x = np.ndarray(len(test))\n",
    "    test_y = np.ndarray(len(test))\n",
    "    for i in range(len(test)):\n",
    "        test_x[i] = test[i][1] #x axis\n",
    "        test_y[i] = test[i][0] #y axis\n",
    "    \n",
    "    ax[2].imshow((255-imageR), cmap='gray', vmin = 0, vmax = 255,)\n",
    "    ax[2].scatter(test_x, test_y, marker='o', s=1, c = 'b', alpha = 0.5)\n",
    "\n",
    "    test = np.stack((test_x, image.shape[0]-test_y), axis=1)\n",
    "    \n",
    "    plt.show()\n",
    "    \n",
    "    return yR, image.shape[0]-xR, sizeR,test"
   ]
  },
  {
   "cell_type": "code",
   "execution_count": 13,
   "metadata": {},
   "outputs": [
    {
     "data": {
      "image/png": "[encoded data removed]",
      "text/plain": [
       "<matplotlib.figure.Figure at 0x100fe2e8>"
      ]
     },
     "metadata": {},
     "output_type": "display_data"
    },
    {
     "name": "stdout",
     "output_type": "stream",
     "text": [
      "37\n"
     ]
    }
   ],
   "source": [
    "'''Call function'''\n",
    "image = pre_processed_img\n",
    "#image = cv2.GaussianBlur(imgray,(3,3),0)\n",
    "\n",
    "x, y,area ,test= step2(image,27,0)#34 no bluring #27 for 50 thresh\n",
    "xy = np.stack((x, y), axis=1)\n",
    "print(len(x))"
   ]
  },
  {
   "cell_type": "code",
   "execution_count": 8,
   "metadata": {},
   "outputs": [],
   "source": [
    "def get_defect_intensity(img,defect): #pixel should np.array (x,y)\n",
    "    \n",
    "    defect = np.array(defect,dtype=np.uint64)\n",
    "    intensity = img[img.shape[0]-defect[:,1],defect[:,0]]\n",
    "    \n",
    "    return intensity"
   ]
  },
  {
   "cell_type": "code",
   "execution_count": 9,
   "metadata": {},
   "outputs": [],
   "source": [
    "defect = np.array(test,dtype=np.uint64)"
   ]
  },
  {
   "cell_type": "code",
   "execution_count": 10,
   "metadata": {},
   "outputs": [
    {
     "data": {
      "text/plain": [
       "244"
      ]
     },
     "execution_count": 10,
     "metadata": {},
     "output_type": "execute_result"
    }
   ],
   "source": [
    "get_defect_intensity(imgray,defect).size"
   ]
  },
  {
   "cell_type": "code",
   "execution_count": 11,
   "metadata": {},
   "outputs": [
    {
     "data": {
      "text/plain": [
       "((244L, 2L), (803L, 650L))"
      ]
     },
     "execution_count": 11,
     "metadata": {},
     "output_type": "execute_result"
    }
   ],
   "source": [
    "img = image\n",
    "#img = cv2.GaussianBlur(imgray,(3,3),0)\n",
    "test.shape,img.shape"
   ]
  },
  {
   "cell_type": "code",
   "execution_count": 12,
   "metadata": {},
   "outputs": [
    {
     "data": {
      "text/plain": [
       "(244L,)"
      ]
     },
     "execution_count": 12,
     "metadata": {},
     "output_type": "execute_result"
    }
   ],
   "source": [
    "get_defect_intensity(img,defect).shape"
   ]
  },
  {
   "cell_type": "code",
   "execution_count": 13,
   "metadata": {},
   "outputs": [],
   "source": [
    "def defect_matrix(img,defect,a,b):\n",
    "    \n",
    "    i_min = np.min(img.shape[0]- defect[:,1])#starting line index\n",
    "    i_max = np.max(img.shape[0]- defect[:,1]+1)#last line index (+1 for python)\n",
    "    j_min = np.min(defect[:,0])#starting column index\n",
    "    j_max = np.max(defect[:,0]+1)#last column index (+1 for python)\n",
    "    \n",
    "    defect_shape = img[i_min:i_max,j_min:j_max].shape\n",
    "    dim = np.max(defect_shape)\n",
    "    case = np.zeros((dim,dim))\n",
    "\n",
    "    assert (img[i_min:i_max,j_min:j_max][img[i_min:i_max,j_min:j_max]!= 0.].size == get_defect_intensity(img,defect).size)\n",
    "\n",
    "    case[0:defect_shape[0],0:defect_shape[1]] = img[i_min:i_max,j_min:j_max].copy()\n",
    "    #case = cv2.GaussianBlur(case,(a,b),0) #smoothing\n",
    "    \n",
    "    return case"
   ]
  },
  {
   "cell_type": "markdown",
   "metadata": {},
   "source": [
    "## Gaussian filter"
   ]
  },
  {
   "cell_type": "code",
   "execution_count": 14,
   "metadata": {},
   "outputs": [],
   "source": [
    "case_0 = defect_matrix(img,defect,1,1) # original defect\n",
    "case = defect_matrix(img,defect,9,9) # gaussian"
   ]
  },
  {
   "cell_type": "code",
   "execution_count": 15,
   "metadata": {},
   "outputs": [
    {
     "data": {
      "text/html": [
       "<div>\n",
       "<style scoped>\n",
       "    .dataframe tbody tr th:only-of-type {\n",
       "        vertical-align: middle;\n",
       "    }\n",
       "\n",
       "    .dataframe tbody tr th {\n",
       "        vertical-align: top;\n",
       "    }\n",
       "\n",
       "    .dataframe thead th {\n",
       "        text-align: right;\n",
       "    }\n",
       "</style>\n",
       "<table border=\"1\" class=\"dataframe\">\n",
       "  <thead>\n",
       "    <tr style=\"text-align: right;\">\n",
       "      <th></th>\n",
       "      <th>0</th>\n",
       "      <th>1</th>\n",
       "      <th>2</th>\n",
       "      <th>3</th>\n",
       "      <th>4</th>\n",
       "      <th>5</th>\n",
       "      <th>6</th>\n",
       "      <th>7</th>\n",
       "      <th>8</th>\n",
       "      <th>9</th>\n",
       "      <th>10</th>\n",
       "      <th>11</th>\n",
       "      <th>12</th>\n",
       "      <th>13</th>\n",
       "      <th>14</th>\n",
       "      <th>15</th>\n",
       "      <th>16</th>\n",
       "      <th>17</th>\n",
       "      <th>18</th>\n",
       "      <th>19</th>\n",
       "    </tr>\n",
       "  </thead>\n",
       "  <tbody>\n",
       "    <tr>\n",
       "      <th>0</th>\n",
       "      <td>0.0</td>\n",
       "      <td>0.0</td>\n",
       "      <td>0.0</td>\n",
       "      <td>0.0</td>\n",
       "      <td>0.0</td>\n",
       "      <td>0.0</td>\n",
       "      <td>0.0</td>\n",
       "      <td>0.0</td>\n",
       "      <td>0.0</td>\n",
       "      <td>0.0</td>\n",
       "      <td>0.0</td>\n",
       "      <td>0.0</td>\n",
       "      <td>0.0</td>\n",
       "      <td>0.0</td>\n",
       "      <td>118.0</td>\n",
       "      <td>139.0</td>\n",
       "      <td>127.0</td>\n",
       "      <td>0.0</td>\n",
       "      <td>0.0</td>\n",
       "      <td>0.0</td>\n",
       "    </tr>\n",
       "    <tr>\n",
       "      <th>1</th>\n",
       "      <td>0.0</td>\n",
       "      <td>0.0</td>\n",
       "      <td>0.0</td>\n",
       "      <td>0.0</td>\n",
       "      <td>0.0</td>\n",
       "      <td>0.0</td>\n",
       "      <td>0.0</td>\n",
       "      <td>0.0</td>\n",
       "      <td>0.0</td>\n",
       "      <td>0.0</td>\n",
       "      <td>0.0</td>\n",
       "      <td>0.0</td>\n",
       "      <td>0.0</td>\n",
       "      <td>0.0</td>\n",
       "      <td>169.0</td>\n",
       "      <td>176.0</td>\n",
       "      <td>168.0</td>\n",
       "      <td>0.0</td>\n",
       "      <td>0.0</td>\n",
       "      <td>0.0</td>\n",
       "    </tr>\n",
       "    <tr>\n",
       "      <th>2</th>\n",
       "      <td>0.0</td>\n",
       "      <td>0.0</td>\n",
       "      <td>0.0</td>\n",
       "      <td>0.0</td>\n",
       "      <td>0.0</td>\n",
       "      <td>0.0</td>\n",
       "      <td>0.0</td>\n",
       "      <td>0.0</td>\n",
       "      <td>0.0</td>\n",
       "      <td>0.0</td>\n",
       "      <td>0.0</td>\n",
       "      <td>122.0</td>\n",
       "      <td>162.0</td>\n",
       "      <td>168.0</td>\n",
       "      <td>158.0</td>\n",
       "      <td>150.0</td>\n",
       "      <td>160.0</td>\n",
       "      <td>169.0</td>\n",
       "      <td>0.0</td>\n",
       "      <td>0.0</td>\n",
       "    </tr>\n",
       "    <tr>\n",
       "      <th>3</th>\n",
       "      <td>0.0</td>\n",
       "      <td>0.0</td>\n",
       "      <td>0.0</td>\n",
       "      <td>0.0</td>\n",
       "      <td>0.0</td>\n",
       "      <td>0.0</td>\n",
       "      <td>0.0</td>\n",
       "      <td>0.0</td>\n",
       "      <td>0.0</td>\n",
       "      <td>0.0</td>\n",
       "      <td>0.0</td>\n",
       "      <td>157.0</td>\n",
       "      <td>164.0</td>\n",
       "      <td>147.0</td>\n",
       "      <td>131.0</td>\n",
       "      <td>124.0</td>\n",
       "      <td>120.0</td>\n",
       "      <td>163.0</td>\n",
       "      <td>0.0</td>\n",
       "      <td>0.0</td>\n",
       "    </tr>\n",
       "    <tr>\n",
       "      <th>4</th>\n",
       "      <td>0.0</td>\n",
       "      <td>0.0</td>\n",
       "      <td>0.0</td>\n",
       "      <td>0.0</td>\n",
       "      <td>0.0</td>\n",
       "      <td>0.0</td>\n",
       "      <td>0.0</td>\n",
       "      <td>0.0</td>\n",
       "      <td>0.0</td>\n",
       "      <td>123.0</td>\n",
       "      <td>168.0</td>\n",
       "      <td>168.0</td>\n",
       "      <td>143.0</td>\n",
       "      <td>120.0</td>\n",
       "      <td>102.0</td>\n",
       "      <td>97.0</td>\n",
       "      <td>102.0</td>\n",
       "      <td>144.0</td>\n",
       "      <td>162.0</td>\n",
       "      <td>0.0</td>\n",
       "    </tr>\n",
       "    <tr>\n",
       "      <th>5</th>\n",
       "      <td>0.0</td>\n",
       "      <td>0.0</td>\n",
       "      <td>0.0</td>\n",
       "      <td>0.0</td>\n",
       "      <td>0.0</td>\n",
       "      <td>0.0</td>\n",
       "      <td>0.0</td>\n",
       "      <td>0.0</td>\n",
       "      <td>0.0</td>\n",
       "      <td>181.0</td>\n",
       "      <td>186.0</td>\n",
       "      <td>152.0</td>\n",
       "      <td>116.0</td>\n",
       "      <td>99.0</td>\n",
       "      <td>85.0</td>\n",
       "      <td>76.0</td>\n",
       "      <td>99.0</td>\n",
       "      <td>119.0</td>\n",
       "      <td>167.0</td>\n",
       "      <td>0.0</td>\n",
       "    </tr>\n",
       "    <tr>\n",
       "      <th>6</th>\n",
       "      <td>0.0</td>\n",
       "      <td>0.0</td>\n",
       "      <td>151.0</td>\n",
       "      <td>178.0</td>\n",
       "      <td>180.0</td>\n",
       "      <td>131.0</td>\n",
       "      <td>111.0</td>\n",
       "      <td>154.0</td>\n",
       "      <td>192.0</td>\n",
       "      <td>190.0</td>\n",
       "      <td>164.0</td>\n",
       "      <td>125.0</td>\n",
       "      <td>91.0</td>\n",
       "      <td>85.0</td>\n",
       "      <td>83.0</td>\n",
       "      <td>79.0</td>\n",
       "      <td>82.0</td>\n",
       "      <td>101.0</td>\n",
       "      <td>150.0</td>\n",
       "      <td>112.0</td>\n",
       "    </tr>\n",
       "    <tr>\n",
       "      <th>7</th>\n",
       "      <td>0.0</td>\n",
       "      <td>0.0</td>\n",
       "      <td>201.0</td>\n",
       "      <td>210.0</td>\n",
       "      <td>207.0</td>\n",
       "      <td>155.0</td>\n",
       "      <td>136.0</td>\n",
       "      <td>191.0</td>\n",
       "      <td>207.0</td>\n",
       "      <td>191.0</td>\n",
       "      <td>156.0</td>\n",
       "      <td>123.0</td>\n",
       "      <td>90.0</td>\n",
       "      <td>78.0</td>\n",
       "      <td>77.0</td>\n",
       "      <td>77.0</td>\n",
       "      <td>75.0</td>\n",
       "      <td>107.0</td>\n",
       "      <td>149.0</td>\n",
       "      <td>149.0</td>\n",
       "    </tr>\n",
       "    <tr>\n",
       "      <th>8</th>\n",
       "      <td>132.0</td>\n",
       "      <td>193.0</td>\n",
       "      <td>215.0</td>\n",
       "      <td>215.0</td>\n",
       "      <td>211.0</td>\n",
       "      <td>172.0</td>\n",
       "      <td>148.0</td>\n",
       "      <td>177.0</td>\n",
       "      <td>186.0</td>\n",
       "      <td>171.0</td>\n",
       "      <td>140.0</td>\n",
       "      <td>113.0</td>\n",
       "      <td>87.0</td>\n",
       "      <td>82.0</td>\n",
       "      <td>79.0</td>\n",
       "      <td>75.0</td>\n",
       "      <td>77.0</td>\n",
       "      <td>98.0</td>\n",
       "      <td>138.0</td>\n",
       "      <td>168.0</td>\n",
       "    </tr>\n",
       "    <tr>\n",
       "      <th>9</th>\n",
       "      <td>155.0</td>\n",
       "      <td>204.0</td>\n",
       "      <td>212.0</td>\n",
       "      <td>202.0</td>\n",
       "      <td>208.0</td>\n",
       "      <td>186.0</td>\n",
       "      <td>164.0</td>\n",
       "      <td>182.0</td>\n",
       "      <td>186.0</td>\n",
       "      <td>168.0</td>\n",
       "      <td>137.0</td>\n",
       "      <td>110.0</td>\n",
       "      <td>82.0</td>\n",
       "      <td>76.0</td>\n",
       "      <td>79.0</td>\n",
       "      <td>81.0</td>\n",
       "      <td>78.0</td>\n",
       "      <td>93.0</td>\n",
       "      <td>132.0</td>\n",
       "      <td>168.0</td>\n",
       "    </tr>\n",
       "    <tr>\n",
       "      <th>10</th>\n",
       "      <td>174.0</td>\n",
       "      <td>214.0</td>\n",
       "      <td>207.0</td>\n",
       "      <td>195.0</td>\n",
       "      <td>210.0</td>\n",
       "      <td>197.0</td>\n",
       "      <td>173.0</td>\n",
       "      <td>184.0</td>\n",
       "      <td>177.0</td>\n",
       "      <td>163.0</td>\n",
       "      <td>133.0</td>\n",
       "      <td>104.0</td>\n",
       "      <td>82.0</td>\n",
       "      <td>75.0</td>\n",
       "      <td>78.0</td>\n",
       "      <td>81.0</td>\n",
       "      <td>79.0</td>\n",
       "      <td>85.0</td>\n",
       "      <td>129.0</td>\n",
       "      <td>173.0</td>\n",
       "    </tr>\n",
       "    <tr>\n",
       "      <th>11</th>\n",
       "      <td>157.0</td>\n",
       "      <td>196.0</td>\n",
       "      <td>203.0</td>\n",
       "      <td>204.0</td>\n",
       "      <td>216.0</td>\n",
       "      <td>188.0</td>\n",
       "      <td>160.0</td>\n",
       "      <td>182.0</td>\n",
       "      <td>173.0</td>\n",
       "      <td>156.0</td>\n",
       "      <td>130.0</td>\n",
       "      <td>106.0</td>\n",
       "      <td>87.0</td>\n",
       "      <td>77.0</td>\n",
       "      <td>77.0</td>\n",
       "      <td>79.0</td>\n",
       "      <td>80.0</td>\n",
       "      <td>82.0</td>\n",
       "      <td>133.0</td>\n",
       "      <td>176.0</td>\n",
       "    </tr>\n",
       "    <tr>\n",
       "      <th>12</th>\n",
       "      <td>0.0</td>\n",
       "      <td>0.0</td>\n",
       "      <td>173.0</td>\n",
       "      <td>203.0</td>\n",
       "      <td>209.0</td>\n",
       "      <td>157.0</td>\n",
       "      <td>131.0</td>\n",
       "      <td>176.0</td>\n",
       "      <td>192.0</td>\n",
       "      <td>175.0</td>\n",
       "      <td>143.0</td>\n",
       "      <td>112.0</td>\n",
       "      <td>91.0</td>\n",
       "      <td>80.0</td>\n",
       "      <td>77.0</td>\n",
       "      <td>77.0</td>\n",
       "      <td>80.0</td>\n",
       "      <td>87.0</td>\n",
       "      <td>141.0</td>\n",
       "      <td>172.0</td>\n",
       "    </tr>\n",
       "    <tr>\n",
       "      <th>13</th>\n",
       "      <td>0.0</td>\n",
       "      <td>0.0</td>\n",
       "      <td>118.0</td>\n",
       "      <td>162.0</td>\n",
       "      <td>173.0</td>\n",
       "      <td>116.0</td>\n",
       "      <td>96.0</td>\n",
       "      <td>155.0</td>\n",
       "      <td>203.0</td>\n",
       "      <td>193.0</td>\n",
       "      <td>162.0</td>\n",
       "      <td>122.0</td>\n",
       "      <td>94.0</td>\n",
       "      <td>83.0</td>\n",
       "      <td>80.0</td>\n",
       "      <td>77.0</td>\n",
       "      <td>82.0</td>\n",
       "      <td>92.0</td>\n",
       "      <td>149.0</td>\n",
       "      <td>156.0</td>\n",
       "    </tr>\n",
       "    <tr>\n",
       "      <th>14</th>\n",
       "      <td>0.0</td>\n",
       "      <td>0.0</td>\n",
       "      <td>0.0</td>\n",
       "      <td>0.0</td>\n",
       "      <td>0.0</td>\n",
       "      <td>0.0</td>\n",
       "      <td>0.0</td>\n",
       "      <td>0.0</td>\n",
       "      <td>170.0</td>\n",
       "      <td>187.0</td>\n",
       "      <td>182.0</td>\n",
       "      <td>148.0</td>\n",
       "      <td>111.0</td>\n",
       "      <td>93.0</td>\n",
       "      <td>87.0</td>\n",
       "      <td>79.0</td>\n",
       "      <td>90.0</td>\n",
       "      <td>109.0</td>\n",
       "      <td>155.0</td>\n",
       "      <td>140.0</td>\n",
       "    </tr>\n",
       "    <tr>\n",
       "      <th>15</th>\n",
       "      <td>0.0</td>\n",
       "      <td>0.0</td>\n",
       "      <td>0.0</td>\n",
       "      <td>0.0</td>\n",
       "      <td>0.0</td>\n",
       "      <td>0.0</td>\n",
       "      <td>0.0</td>\n",
       "      <td>0.0</td>\n",
       "      <td>121.0</td>\n",
       "      <td>166.0</td>\n",
       "      <td>188.0</td>\n",
       "      <td>160.0</td>\n",
       "      <td>124.0</td>\n",
       "      <td>106.0</td>\n",
       "      <td>96.0</td>\n",
       "      <td>86.0</td>\n",
       "      <td>103.0</td>\n",
       "      <td>122.0</td>\n",
       "      <td>161.0</td>\n",
       "      <td>130.0</td>\n",
       "    </tr>\n",
       "    <tr>\n",
       "      <th>16</th>\n",
       "      <td>0.0</td>\n",
       "      <td>0.0</td>\n",
       "      <td>0.0</td>\n",
       "      <td>0.0</td>\n",
       "      <td>0.0</td>\n",
       "      <td>0.0</td>\n",
       "      <td>0.0</td>\n",
       "      <td>0.0</td>\n",
       "      <td>0.0</td>\n",
       "      <td>0.0</td>\n",
       "      <td>171.0</td>\n",
       "      <td>183.0</td>\n",
       "      <td>147.0</td>\n",
       "      <td>120.0</td>\n",
       "      <td>117.0</td>\n",
       "      <td>117.0</td>\n",
       "      <td>107.0</td>\n",
       "      <td>161.0</td>\n",
       "      <td>162.0</td>\n",
       "      <td>0.0</td>\n",
       "    </tr>\n",
       "    <tr>\n",
       "      <th>17</th>\n",
       "      <td>0.0</td>\n",
       "      <td>0.0</td>\n",
       "      <td>0.0</td>\n",
       "      <td>0.0</td>\n",
       "      <td>0.0</td>\n",
       "      <td>0.0</td>\n",
       "      <td>0.0</td>\n",
       "      <td>0.0</td>\n",
       "      <td>0.0</td>\n",
       "      <td>0.0</td>\n",
       "      <td>127.0</td>\n",
       "      <td>171.0</td>\n",
       "      <td>176.0</td>\n",
       "      <td>160.0</td>\n",
       "      <td>143.0</td>\n",
       "      <td>128.0</td>\n",
       "      <td>152.0</td>\n",
       "      <td>166.0</td>\n",
       "      <td>135.0</td>\n",
       "      <td>0.0</td>\n",
       "    </tr>\n",
       "    <tr>\n",
       "      <th>18</th>\n",
       "      <td>0.0</td>\n",
       "      <td>0.0</td>\n",
       "      <td>0.0</td>\n",
       "      <td>0.0</td>\n",
       "      <td>0.0</td>\n",
       "      <td>0.0</td>\n",
       "      <td>0.0</td>\n",
       "      <td>0.0</td>\n",
       "      <td>0.0</td>\n",
       "      <td>0.0</td>\n",
       "      <td>0.0</td>\n",
       "      <td>0.0</td>\n",
       "      <td>0.0</td>\n",
       "      <td>177.0</td>\n",
       "      <td>179.0</td>\n",
       "      <td>171.0</td>\n",
       "      <td>178.0</td>\n",
       "      <td>150.0</td>\n",
       "      <td>0.0</td>\n",
       "      <td>0.0</td>\n",
       "    </tr>\n",
       "    <tr>\n",
       "      <th>19</th>\n",
       "      <td>0.0</td>\n",
       "      <td>0.0</td>\n",
       "      <td>0.0</td>\n",
       "      <td>0.0</td>\n",
       "      <td>0.0</td>\n",
       "      <td>0.0</td>\n",
       "      <td>0.0</td>\n",
       "      <td>0.0</td>\n",
       "      <td>0.0</td>\n",
       "      <td>0.0</td>\n",
       "      <td>0.0</td>\n",
       "      <td>0.0</td>\n",
       "      <td>0.0</td>\n",
       "      <td>106.0</td>\n",
       "      <td>133.0</td>\n",
       "      <td>149.0</td>\n",
       "      <td>140.0</td>\n",
       "      <td>107.0</td>\n",
       "      <td>0.0</td>\n",
       "      <td>0.0</td>\n",
       "    </tr>\n",
       "  </tbody>\n",
       "</table>\n",
       "</div>"
      ],
      "text/plain": [
       "       0      1      2      3      4      5      6      7      8      9   \\\n",
       "0     0.0    0.0    0.0    0.0    0.0    0.0    0.0    0.0    0.0    0.0   \n",
       "1     0.0    0.0    0.0    0.0    0.0    0.0    0.0    0.0    0.0    0.0   \n",
       "2     0.0    0.0    0.0    0.0    0.0    0.0    0.0    0.0    0.0    0.0   \n",
       "3     0.0    0.0    0.0    0.0    0.0    0.0    0.0    0.0    0.0    0.0   \n",
       "4     0.0    0.0    0.0    0.0    0.0    0.0    0.0    0.0    0.0  123.0   \n",
       "5     0.0    0.0    0.0    0.0    0.0    0.0    0.0    0.0    0.0  181.0   \n",
       "6     0.0    0.0  151.0  178.0  180.0  131.0  111.0  154.0  192.0  190.0   \n",
       "7     0.0    0.0  201.0  210.0  207.0  155.0  136.0  191.0  207.0  191.0   \n",
       "8   132.0  193.0  215.0  215.0  211.0  172.0  148.0  177.0  186.0  171.0   \n",
       "9   155.0  204.0  212.0  202.0  208.0  186.0  164.0  182.0  186.0  168.0   \n",
       "10  174.0  214.0  207.0  195.0  210.0  197.0  173.0  184.0  177.0  163.0   \n",
       "11  157.0  196.0  203.0  204.0  216.0  188.0  160.0  182.0  173.0  156.0   \n",
       "12    0.0    0.0  173.0  203.0  209.0  157.0  131.0  176.0  192.0  175.0   \n",
       "13    0.0    0.0  118.0  162.0  173.0  116.0   96.0  155.0  203.0  193.0   \n",
       "14    0.0    0.0    0.0    0.0    0.0    0.0    0.0    0.0  170.0  187.0   \n",
       "15    0.0    0.0    0.0    0.0    0.0    0.0    0.0    0.0  121.0  166.0   \n",
       "16    0.0    0.0    0.0    0.0    0.0    0.0    0.0    0.0    0.0    0.0   \n",
       "17    0.0    0.0    0.0    0.0    0.0    0.0    0.0    0.0    0.0    0.0   \n",
       "18    0.0    0.0    0.0    0.0    0.0    0.0    0.0    0.0    0.0    0.0   \n",
       "19    0.0    0.0    0.0    0.0    0.0    0.0    0.0    0.0    0.0    0.0   \n",
       "\n",
       "       10     11     12     13     14     15     16     17     18     19  \n",
       "0     0.0    0.0    0.0    0.0  118.0  139.0  127.0    0.0    0.0    0.0  \n",
       "1     0.0    0.0    0.0    0.0  169.0  176.0  168.0    0.0    0.0    0.0  \n",
       "2     0.0  122.0  162.0  168.0  158.0  150.0  160.0  169.0    0.0    0.0  \n",
       "3     0.0  157.0  164.0  147.0  131.0  124.0  120.0  163.0    0.0    0.0  \n",
       "4   168.0  168.0  143.0  120.0  102.0   97.0  102.0  144.0  162.0    0.0  \n",
       "5   186.0  152.0  116.0   99.0   85.0   76.0   99.0  119.0  167.0    0.0  \n",
       "6   164.0  125.0   91.0   85.0   83.0   79.0   82.0  101.0  150.0  112.0  \n",
       "7   156.0  123.0   90.0   78.0   77.0   77.0   75.0  107.0  149.0  149.0  \n",
       "8   140.0  113.0   87.0   82.0   79.0   75.0   77.0   98.0  138.0  168.0  \n",
       "9   137.0  110.0   82.0   76.0   79.0   81.0   78.0   93.0  132.0  168.0  \n",
       "10  133.0  104.0   82.0   75.0   78.0   81.0   79.0   85.0  129.0  173.0  \n",
       "11  130.0  106.0   87.0   77.0   77.0   79.0   80.0   82.0  133.0  176.0  \n",
       "12  143.0  112.0   91.0   80.0   77.0   77.0   80.0   87.0  141.0  172.0  \n",
       "13  162.0  122.0   94.0   83.0   80.0   77.0   82.0   92.0  149.0  156.0  \n",
       "14  182.0  148.0  111.0   93.0   87.0   79.0   90.0  109.0  155.0  140.0  \n",
       "15  188.0  160.0  124.0  106.0   96.0   86.0  103.0  122.0  161.0  130.0  \n",
       "16  171.0  183.0  147.0  120.0  117.0  117.0  107.0  161.0  162.0    0.0  \n",
       "17  127.0  171.0  176.0  160.0  143.0  128.0  152.0  166.0  135.0    0.0  \n",
       "18    0.0    0.0    0.0  177.0  179.0  171.0  178.0  150.0    0.0    0.0  \n",
       "19    0.0    0.0    0.0  106.0  133.0  149.0  140.0  107.0    0.0    0.0  "
      ]
     },
     "execution_count": 15,
     "metadata": {},
     "output_type": "execute_result"
    }
   ],
   "source": [
    "df = pd.DataFrame(case)\n",
    "df"
   ]
  },
  {
   "cell_type": "markdown",
   "metadata": {},
   "source": [
    "## Plot"
   ]
  },
  {
   "cell_type": "code",
   "execution_count": 16,
   "metadata": {},
   "outputs": [],
   "source": [
    "from mpl_toolkits.mplot3d import Axes3D\n",
    "from matplotlib import cm\n",
    "from matplotlib.ticker import LinearLocator, FormatStrFormatter\n",
    "def plot_3d(case):\n",
    "    fig = plt.figure(figsize=plt.figaspect(0.2))\n",
    "    ax0 = fig.add_subplot(1, 2, 1, projection='3d')\n",
    "\n",
    "\n",
    "    # Make data.\n",
    "    X = np.arange(0, case.shape[0], 1)\n",
    "    Y = np.arange(0, case.shape[0], 1)\n",
    "    X, Y = np.meshgrid(X, Y)\n",
    "    Z = (case,case)\n",
    "\n",
    "    # Plot the surface.\n",
    "    surf0 = ax0.plot_surface(X, Y, Z[0], cmap=cm.coolwarm,\n",
    "                           linewidth=0, antialiased=True)\n",
    "\n",
    "\n",
    "    # Add a color bar which maps values to colors.\n",
    "\n",
    "    ax1 = fig.add_subplot(1, 2, 2, projection='3d')\n",
    "\n",
    "    surf1 = ax1.plot_surface( Y, Z[0],X, cmap=cm.coolwarm,\n",
    "                           linewidth=1, antialiased=True)\n",
    "\n",
    "    ax0.set_title('Gradient magnitude')\n",
    "    ax1.set_title('upper perspective')\n",
    "    plt.savefig('fig')\n",
    "\n",
    "    plt.show()"
   ]
  },
  {
   "cell_type": "code",
   "execution_count": 17,
   "metadata": {},
   "outputs": [
    {
     "data": {
      "image/png": "[encoded data removed]",
      "text/plain": [
       "<matplotlib.figure.Figure at 0xba48438>"
      ]
     },
     "metadata": {},
     "output_type": "display_data"
    }
   ],
   "source": [
    "plot_3d(case)"
   ]
  },
  {
   "cell_type": "code",
   "execution_count": 18,
   "metadata": {},
   "outputs": [
    {
     "data": {
      "text/plain": [
       "(20L, 20L)"
      ]
     },
     "execution_count": 18,
     "metadata": {},
     "output_type": "execute_result"
    }
   ],
   "source": [
    "case.shape"
   ]
  },
  {
   "cell_type": "markdown",
   "metadata": {},
   "source": [
    "# Sobel operator"
   ]
  },
  {
   "cell_type": "code",
   "execution_count": 19,
   "metadata": {},
   "outputs": [],
   "source": [
    "def getCompassOperators(kind):\n",
    "    res=np.empty([8,3,3])\n",
    "    \n",
    "    if kind==\"kirsch\":\n",
    "        conv_mask = np.array([5,  5, 5,-3,-3,-3,-3,-3])\n",
    "    elif kind==\"robinson2\":\n",
    "        conv_mask = np.array([1,2,1,0,-1,-2,-1,0])\n",
    "    elif kind==\"robinson1\":\n",
    "        conv_mask = np.array([1,1,1,0,-1,-1,-1,0])\n",
    "    \n",
    "    \n",
    "    for i in range(8):\n",
    "        oneDir=np.zeros(9)\n",
    "        oneDir[[0,1,2,5,8,7,6,3]]=conv_mask\n",
    "        \"to turn the coef\"\n",
    "        conv_mask=np.concatenate([conv_mask[1:],conv_mask[0:1]])\n",
    "        res[i,:,:]=oneDir.reshape([3,3])\n",
    "        \n",
    "    return res"
   ]
  },
  {
   "cell_type": "code",
   "execution_count": 20,
   "metadata": {},
   "outputs": [
    {
     "name": "stdout",
     "output_type": "stream",
     "text": [
      "N\n",
      "[[ 1.  2.  1.]\n",
      " [ 0.  0.  0.]\n",
      " [-1. -2. -1.]]\n",
      "NW\n",
      "[[ 2.  1.  0.]\n",
      " [ 1.  0. -1.]\n",
      " [ 0. -1. -2.]]\n",
      "W\n",
      "[[ 1.  0. -1.]\n",
      " [ 2.  0. -2.]\n",
      " [ 1.  0. -1.]]\n",
      "SW\n",
      "[[ 0. -1. -2.]\n",
      " [ 1.  0. -1.]\n",
      " [ 2.  1.  0.]]\n",
      "S\n",
      "[[-1. -2. -1.]\n",
      " [ 0.  0.  0.]\n",
      " [ 1.  2.  1.]]\n",
      "SE\n",
      "[[-2. -1.  0.]\n",
      " [-1.  0.  1.]\n",
      " [ 0.  1.  2.]]\n",
      "E\n",
      "[[-1.  0.  1.]\n",
      " [-2.  0.  2.]\n",
      " [-1.  0.  1.]]\n",
      "NE\n",
      "[[ 0.  1.  2.]\n",
      " [-1.  0.  1.]\n",
      " [-2. -1.  0.]]\n"
     ]
    }
   ],
   "source": [
    "op = getCompassOperators(\"robinson2\")\n",
    "directions = [\"N\", \"NW\", \"W\", \"SW\", \"S\", \"SE\", \"E\", \"NE\"]\n",
    "for i in range(8):\n",
    "    print(directions[i])\n",
    "    print(op[i])"
   ]
  },
  {
   "cell_type": "markdown",
   "metadata": {},
   "source": [
    "We compute the gradients accoring to the 4 possible directions:"
   ]
  },
  {
   "cell_type": "code",
   "execution_count": 21,
   "metadata": {},
   "outputs": [],
   "source": [
    "operators=getCompassOperators(\"robinson2\")\n",
    "all_grad = np.abs(np.array([sg.convolve(case, operators[i,:,:], \"valid\") for i in range(4)]))"
   ]
  },
  {
   "cell_type": "markdown",
   "metadata": {},
   "source": [
    "### Grad_y"
   ]
  },
  {
   "cell_type": "code",
   "execution_count": 22,
   "metadata": {},
   "outputs": [],
   "source": [
    "df_grad_y = pd.DataFrame(all_grad[0,:,:])"
   ]
  },
  {
   "cell_type": "markdown",
   "metadata": {},
   "source": [
    "### Grad_NW"
   ]
  },
  {
   "cell_type": "code",
   "execution_count": 23,
   "metadata": {},
   "outputs": [],
   "source": [
    "df_grad_NW = pd.DataFrame(all_grad[1,:,:])"
   ]
  },
  {
   "cell_type": "markdown",
   "metadata": {},
   "source": [
    "### Grad_x"
   ]
  },
  {
   "cell_type": "code",
   "execution_count": 24,
   "metadata": {},
   "outputs": [],
   "source": [
    "df_grad_x = pd.DataFrame(all_grad[2,:,:])"
   ]
  },
  {
   "cell_type": "markdown",
   "metadata": {},
   "source": [
    "### Grad_SW"
   ]
  },
  {
   "cell_type": "code",
   "execution_count": 25,
   "metadata": {},
   "outputs": [],
   "source": [
    "df_grad_SW = pd.DataFrame(all_grad[3,:,:])"
   ]
  },
  {
   "cell_type": "code",
   "execution_count": 26,
   "metadata": {},
   "outputs": [],
   "source": [
    "\"\"\"pour que les dataFrame ne soient pas trop coupées dans la console\"\"\"\n",
    "pd.set_option('display.max_rows', 500)\n",
    "pd.set_option('display.max_columns', 500)\n",
    "pd.set_option('display.width', 1000)\n",
    "pd.set_option('precision', 2)\n",
    "\n",
    "\"\"\"\n",
    "Available options:\n",
    "display.[chop_threshold, colheader_justify, column_space, date_dayfirst,\n",
    "         date_yearfirst, encoding, expand_frame_repr, float_format, height,\n",
    "         line_width, max_columns, max_colwidth, max_info_columns, max_info_rows,\n",
    "         max_rows, max_seq_items, mpl_style, multi_sparse, notebook_repr_html,\n",
    "         pprint_nest_depth, precision, width]\n",
    "\n",
    "\"\"\";"
   ]
  },
  {
   "cell_type": "markdown",
   "metadata": {},
   "source": [
    "### The norm of gradients"
   ]
  },
  {
   "cell_type": "code",
   "execution_count": 27,
   "metadata": {},
   "outputs": [],
   "source": [
    " Norm = np.sqrt(all_grad[0,:,:]**2 + all_grad[1,:,:]**2+all_grad[2,:,:]**2+all_grad[3,:,:]**2)"
   ]
  },
  {
   "cell_type": "code",
   "execution_count": 28,
   "metadata": {
    "scrolled": false
   },
   "outputs": [
    {
     "data": {
      "text/html": [
       "<div>\n",
       "<style scoped>\n",
       "    .dataframe tbody tr th:only-of-type {\n",
       "        vertical-align: middle;\n",
       "    }\n",
       "\n",
       "    .dataframe tbody tr th {\n",
       "        vertical-align: top;\n",
       "    }\n",
       "\n",
       "    .dataframe thead th {\n",
       "        text-align: right;\n",
       "    }\n",
       "</style>\n",
       "<table border=\"1\" class=\"dataframe\">\n",
       "  <thead>\n",
       "    <tr style=\"text-align: right;\">\n",
       "      <th></th>\n",
       "      <th>0</th>\n",
       "      <th>1</th>\n",
       "      <th>2</th>\n",
       "      <th>3</th>\n",
       "      <th>4</th>\n",
       "      <th>5</th>\n",
       "      <th>6</th>\n",
       "      <th>7</th>\n",
       "      <th>8</th>\n",
       "      <th>9</th>\n",
       "      <th>10</th>\n",
       "      <th>11</th>\n",
       "      <th>12</th>\n",
       "      <th>13</th>\n",
       "      <th>14</th>\n",
       "      <th>15</th>\n",
       "      <th>16</th>\n",
       "      <th>17</th>\n",
       "    </tr>\n",
       "  </thead>\n",
       "  <tbody>\n",
       "    <tr>\n",
       "      <th>0</th>\n",
       "      <td>0.00</td>\n",
       "      <td>0.00</td>\n",
       "      <td>0.00</td>\n",
       "      <td>0.00</td>\n",
       "      <td>0.00</td>\n",
       "      <td>0.00</td>\n",
       "      <td>0.00</td>\n",
       "      <td>0.00</td>\n",
       "      <td>0.00</td>\n",
       "      <td>298.84</td>\n",
       "      <td>636.30</td>\n",
       "      <td>889.92</td>\n",
       "      <td>963.19</td>\n",
       "      <td>750.43</td>\n",
       "      <td>153.03</td>\n",
       "      <td>741.13</td>\n",
       "      <td>1010.66</td>\n",
       "      <td>413.96</td>\n",
       "    </tr>\n",
       "    <tr>\n",
       "      <th>1</th>\n",
       "      <td>0.00</td>\n",
       "      <td>0.00</td>\n",
       "      <td>0.00</td>\n",
       "      <td>0.00</td>\n",
       "      <td>0.00</td>\n",
       "      <td>0.00</td>\n",
       "      <td>0.00</td>\n",
       "      <td>0.00</td>\n",
       "      <td>0.00</td>\n",
       "      <td>624.84</td>\n",
       "      <td>940.88</td>\n",
       "      <td>920.21</td>\n",
       "      <td>613.75</td>\n",
       "      <td>238.74</td>\n",
       "      <td>272.86</td>\n",
       "      <td>214.04</td>\n",
       "      <td>935.31</td>\n",
       "      <td>742.40</td>\n",
       "    </tr>\n",
       "    <tr>\n",
       "      <th>2</th>\n",
       "      <td>0.00</td>\n",
       "      <td>0.00</td>\n",
       "      <td>0.00</td>\n",
       "      <td>0.00</td>\n",
       "      <td>0.00</td>\n",
       "      <td>0.00</td>\n",
       "      <td>0.00</td>\n",
       "      <td>301.29</td>\n",
       "      <td>652.25</td>\n",
       "      <td>960.98</td>\n",
       "      <td>729.08</td>\n",
       "      <td>57.04</td>\n",
       "      <td>289.81</td>\n",
       "      <td>332.31</td>\n",
       "      <td>323.64</td>\n",
       "      <td>342.66</td>\n",
       "      <td>477.28</td>\n",
       "      <td>994.19</td>\n",
       "    </tr>\n",
       "    <tr>\n",
       "      <th>3</th>\n",
       "      <td>0.00</td>\n",
       "      <td>0.00</td>\n",
       "      <td>0.00</td>\n",
       "      <td>0.00</td>\n",
       "      <td>0.00</td>\n",
       "      <td>0.00</td>\n",
       "      <td>0.00</td>\n",
       "      <td>682.23</td>\n",
       "      <td>1045.37</td>\n",
       "      <td>818.40</td>\n",
       "      <td>251.44</td>\n",
       "      <td>304.18</td>\n",
       "      <td>346.11</td>\n",
       "      <td>306.04</td>\n",
       "      <td>230.32</td>\n",
       "      <td>328.26</td>\n",
       "      <td>170.07</td>\n",
       "      <td>895.66</td>\n",
       "    </tr>\n",
       "    <tr>\n",
       "      <th>4</th>\n",
       "      <td>369.87</td>\n",
       "      <td>736.16</td>\n",
       "      <td>996.32</td>\n",
       "      <td>965.62</td>\n",
       "      <td>822.35</td>\n",
       "      <td>756.48</td>\n",
       "      <td>900.39</td>\n",
       "      <td>1099.91</td>\n",
       "      <td>841.68</td>\n",
       "      <td>109.28</td>\n",
       "      <td>390.97</td>\n",
       "      <td>379.90</td>\n",
       "      <td>259.76</td>\n",
       "      <td>172.28</td>\n",
       "      <td>114.85</td>\n",
       "      <td>269.14</td>\n",
       "      <td>414.37</td>\n",
       "      <td>522.66</td>\n",
       "    </tr>\n",
       "    <tr>\n",
       "      <th>5</th>\n",
       "      <td>788.68</td>\n",
       "      <td>1154.92</td>\n",
       "      <td>1206.64</td>\n",
       "      <td>1142.02</td>\n",
       "      <td>1002.65</td>\n",
       "      <td>927.50</td>\n",
       "      <td>1093.82</td>\n",
       "      <td>932.38</td>\n",
       "      <td>371.33</td>\n",
       "      <td>339.20</td>\n",
       "      <td>440.83</td>\n",
       "      <td>302.87</td>\n",
       "      <td>144.34</td>\n",
       "      <td>77.20</td>\n",
       "      <td>56.25</td>\n",
       "      <td>194.09</td>\n",
       "      <td>419.13</td>\n",
       "      <td>224.19</td>\n",
       "    </tr>\n",
       "    <tr>\n",
       "      <th>6</th>\n",
       "      <td>1193.45</td>\n",
       "      <td>1010.76</td>\n",
       "      <td>258.26</td>\n",
       "      <td>354.14</td>\n",
       "      <td>451.39</td>\n",
       "      <td>240.08</td>\n",
       "      <td>389.98</td>\n",
       "      <td>52.65</td>\n",
       "      <td>267.68</td>\n",
       "      <td>390.30</td>\n",
       "      <td>382.36</td>\n",
       "      <td>232.56</td>\n",
       "      <td>62.32</td>\n",
       "      <td>32.92</td>\n",
       "      <td>26.94</td>\n",
       "      <td>151.17</td>\n",
       "      <td>400.59</td>\n",
       "      <td>248.37</td>\n",
       "    </tr>\n",
       "    <tr>\n",
       "      <th>7</th>\n",
       "      <td>1007.78</td>\n",
       "      <td>550.02</td>\n",
       "      <td>9.59</td>\n",
       "      <td>228.95</td>\n",
       "      <td>370.04</td>\n",
       "      <td>124.84</td>\n",
       "      <td>251.02</td>\n",
       "      <td>112.12</td>\n",
       "      <td>307.94</td>\n",
       "      <td>371.22</td>\n",
       "      <td>343.64</td>\n",
       "      <td>214.71</td>\n",
       "      <td>49.03</td>\n",
       "      <td>13.64</td>\n",
       "      <td>20.74</td>\n",
       "      <td>127.70</td>\n",
       "      <td>370.51</td>\n",
       "      <td>370.29</td>\n",
       "    </tr>\n",
       "    <tr>\n",
       "      <th>8</th>\n",
       "      <td>352.96</td>\n",
       "      <td>18.06</td>\n",
       "      <td>64.92</td>\n",
       "      <td>108.94</td>\n",
       "      <td>295.12</td>\n",
       "      <td>117.33</td>\n",
       "      <td>132.46</td>\n",
       "      <td>83.35</td>\n",
       "      <td>275.97</td>\n",
       "      <td>343.00</td>\n",
       "      <td>313.27</td>\n",
       "      <td>188.72</td>\n",
       "      <td>38.88</td>\n",
       "      <td>11.40</td>\n",
       "      <td>16.85</td>\n",
       "      <td>75.51</td>\n",
       "      <td>322.96</td>\n",
       "      <td>452.43</td>\n",
       "    </tr>\n",
       "    <tr>\n",
       "      <th>9</th>\n",
       "      <td>257.94</td>\n",
       "      <td>48.87</td>\n",
       "      <td>22.89</td>\n",
       "      <td>57.20</td>\n",
       "      <td>260.67</td>\n",
       "      <td>48.97</td>\n",
       "      <td>75.88</td>\n",
       "      <td>129.85</td>\n",
       "      <td>270.88</td>\n",
       "      <td>329.87</td>\n",
       "      <td>290.82</td>\n",
       "      <td>177.84</td>\n",
       "      <td>32.80</td>\n",
       "      <td>27.24</td>\n",
       "      <td>7.62</td>\n",
       "      <td>39.67</td>\n",
       "      <td>304.36</td>\n",
       "      <td>501.13</td>\n",
       "    </tr>\n",
       "    <tr>\n",
       "      <th>10</th>\n",
       "      <td>988.17</td>\n",
       "      <td>551.37</td>\n",
       "      <td>107.01</td>\n",
       "      <td>127.71</td>\n",
       "      <td>372.72</td>\n",
       "      <td>183.47</td>\n",
       "      <td>157.31</td>\n",
       "      <td>109.37</td>\n",
       "      <td>272.35</td>\n",
       "      <td>334.44</td>\n",
       "      <td>284.67</td>\n",
       "      <td>179.69</td>\n",
       "      <td>60.61</td>\n",
       "      <td>10.00</td>\n",
       "      <td>17.15</td>\n",
       "      <td>31.30</td>\n",
       "      <td>318.78</td>\n",
       "      <td>523.32</td>\n",
       "    </tr>\n",
       "    <tr>\n",
       "      <th>11</th>\n",
       "      <td>1128.22</td>\n",
       "      <td>992.55</td>\n",
       "      <td>379.44</td>\n",
       "      <td>369.25</td>\n",
       "      <td>547.40</td>\n",
       "      <td>339.29</td>\n",
       "      <td>373.19</td>\n",
       "      <td>91.88</td>\n",
       "      <td>326.50</td>\n",
       "      <td>396.06</td>\n",
       "      <td>332.35</td>\n",
       "      <td>201.00</td>\n",
       "      <td>81.17</td>\n",
       "      <td>19.90</td>\n",
       "      <td>16.37</td>\n",
       "      <td>57.93</td>\n",
       "      <td>356.51</td>\n",
       "      <td>475.64</td>\n",
       "    </tr>\n",
       "    <tr>\n",
       "      <th>12</th>\n",
       "      <td>653.02</td>\n",
       "      <td>1062.23</td>\n",
       "      <td>1159.00</td>\n",
       "      <td>1135.24</td>\n",
       "      <td>1011.74</td>\n",
       "      <td>894.85</td>\n",
       "      <td>947.64</td>\n",
       "      <td>530.52</td>\n",
       "      <td>172.31</td>\n",
       "      <td>387.82</td>\n",
       "      <td>418.63</td>\n",
       "      <td>276.44</td>\n",
       "      <td>128.83</td>\n",
       "      <td>66.14</td>\n",
       "      <td>42.10</td>\n",
       "      <td>123.28</td>\n",
       "      <td>388.53</td>\n",
       "      <td>353.12</td>\n",
       "    </tr>\n",
       "    <tr>\n",
       "      <th>13</th>\n",
       "      <td>289.04</td>\n",
       "      <td>627.64</td>\n",
       "      <td>893.15</td>\n",
       "      <td>895.84</td>\n",
       "      <td>751.82</td>\n",
       "      <td>698.79</td>\n",
       "      <td>1048.50</td>\n",
       "      <td>948.13</td>\n",
       "      <td>176.82</td>\n",
       "      <td>240.09</td>\n",
       "      <td>438.85</td>\n",
       "      <td>340.91</td>\n",
       "      <td>186.54</td>\n",
       "      <td>121.74</td>\n",
       "      <td>88.15</td>\n",
       "      <td>198.00</td>\n",
       "      <td>392.19</td>\n",
       "      <td>201.17</td>\n",
       "    </tr>\n",
       "    <tr>\n",
       "      <th>14</th>\n",
       "      <td>0.00</td>\n",
       "      <td>0.00</td>\n",
       "      <td>0.00</td>\n",
       "      <td>0.00</td>\n",
       "      <td>0.00</td>\n",
       "      <td>0.00</td>\n",
       "      <td>652.54</td>\n",
       "      <td>1025.28</td>\n",
       "      <td>896.86</td>\n",
       "      <td>372.73</td>\n",
       "      <td>341.34</td>\n",
       "      <td>383.94</td>\n",
       "      <td>239.26</td>\n",
       "      <td>199.15</td>\n",
       "      <td>172.13</td>\n",
       "      <td>289.47</td>\n",
       "      <td>383.41</td>\n",
       "      <td>247.71</td>\n",
       "    </tr>\n",
       "    <tr>\n",
       "      <th>15</th>\n",
       "      <td>0.00</td>\n",
       "      <td>0.00</td>\n",
       "      <td>0.00</td>\n",
       "      <td>0.00</td>\n",
       "      <td>0.00</td>\n",
       "      <td>0.00</td>\n",
       "      <td>296.39</td>\n",
       "      <td>643.33</td>\n",
       "      <td>1029.64</td>\n",
       "      <td>833.19</td>\n",
       "      <td>84.78</td>\n",
       "      <td>353.82</td>\n",
       "      <td>347.66</td>\n",
       "      <td>293.96</td>\n",
       "      <td>265.66</td>\n",
       "      <td>352.70</td>\n",
       "      <td>250.06</td>\n",
       "      <td>691.41</td>\n",
       "    </tr>\n",
       "    <tr>\n",
       "      <th>16</th>\n",
       "      <td>0.00</td>\n",
       "      <td>0.00</td>\n",
       "      <td>0.00</td>\n",
       "      <td>0.00</td>\n",
       "      <td>0.00</td>\n",
       "      <td>0.00</td>\n",
       "      <td>0.00</td>\n",
       "      <td>0.00</td>\n",
       "      <td>667.80</td>\n",
       "      <td>1025.92</td>\n",
       "      <td>988.22</td>\n",
       "      <td>595.94</td>\n",
       "      <td>190.29</td>\n",
       "      <td>351.82</td>\n",
       "      <td>357.88</td>\n",
       "      <td>278.32</td>\n",
       "      <td>312.13</td>\n",
       "      <td>1020.09</td>\n",
       "    </tr>\n",
       "    <tr>\n",
       "      <th>17</th>\n",
       "      <td>0.00</td>\n",
       "      <td>0.00</td>\n",
       "      <td>0.00</td>\n",
       "      <td>0.00</td>\n",
       "      <td>0.00</td>\n",
       "      <td>0.00</td>\n",
       "      <td>0.00</td>\n",
       "      <td>0.00</td>\n",
       "      <td>311.09</td>\n",
       "      <td>667.80</td>\n",
       "      <td>934.12</td>\n",
       "      <td>1002.05</td>\n",
       "      <td>753.05</td>\n",
       "      <td>80.98</td>\n",
       "      <td>32.37</td>\n",
       "      <td>110.50</td>\n",
       "      <td>801.70</td>\n",
       "      <td>932.58</td>\n",
       "    </tr>\n",
       "  </tbody>\n",
       "</table>\n",
       "</div>"
      ],
      "text/plain": [
       "         0        1        2        3        4       5        6        7        8        9       10       11      12      13      14      15       16       17\n",
       "0      0.00     0.00     0.00     0.00     0.00    0.00     0.00     0.00     0.00   298.84  636.30   889.92  963.19  750.43  153.03  741.13  1010.66   413.96\n",
       "1      0.00     0.00     0.00     0.00     0.00    0.00     0.00     0.00     0.00   624.84  940.88   920.21  613.75  238.74  272.86  214.04   935.31   742.40\n",
       "2      0.00     0.00     0.00     0.00     0.00    0.00     0.00   301.29   652.25   960.98  729.08    57.04  289.81  332.31  323.64  342.66   477.28   994.19\n",
       "3      0.00     0.00     0.00     0.00     0.00    0.00     0.00   682.23  1045.37   818.40  251.44   304.18  346.11  306.04  230.32  328.26   170.07   895.66\n",
       "4    369.87   736.16   996.32   965.62   822.35  756.48   900.39  1099.91   841.68   109.28  390.97   379.90  259.76  172.28  114.85  269.14   414.37   522.66\n",
       "5    788.68  1154.92  1206.64  1142.02  1002.65  927.50  1093.82   932.38   371.33   339.20  440.83   302.87  144.34   77.20   56.25  194.09   419.13   224.19\n",
       "6   1193.45  1010.76   258.26   354.14   451.39  240.08   389.98    52.65   267.68   390.30  382.36   232.56   62.32   32.92   26.94  151.17   400.59   248.37\n",
       "7   1007.78   550.02     9.59   228.95   370.04  124.84   251.02   112.12   307.94   371.22  343.64   214.71   49.03   13.64   20.74  127.70   370.51   370.29\n",
       "8    352.96    18.06    64.92   108.94   295.12  117.33   132.46    83.35   275.97   343.00  313.27   188.72   38.88   11.40   16.85   75.51   322.96   452.43\n",
       "9    257.94    48.87    22.89    57.20   260.67   48.97    75.88   129.85   270.88   329.87  290.82   177.84   32.80   27.24    7.62   39.67   304.36   501.13\n",
       "10   988.17   551.37   107.01   127.71   372.72  183.47   157.31   109.37   272.35   334.44  284.67   179.69   60.61   10.00   17.15   31.30   318.78   523.32\n",
       "11  1128.22   992.55   379.44   369.25   547.40  339.29   373.19    91.88   326.50   396.06  332.35   201.00   81.17   19.90   16.37   57.93   356.51   475.64\n",
       "12   653.02  1062.23  1159.00  1135.24  1011.74  894.85   947.64   530.52   172.31   387.82  418.63   276.44  128.83   66.14   42.10  123.28   388.53   353.12\n",
       "13   289.04   627.64   893.15   895.84   751.82  698.79  1048.50   948.13   176.82   240.09  438.85   340.91  186.54  121.74   88.15  198.00   392.19   201.17\n",
       "14     0.00     0.00     0.00     0.00     0.00    0.00   652.54  1025.28   896.86   372.73  341.34   383.94  239.26  199.15  172.13  289.47   383.41   247.71\n",
       "15     0.00     0.00     0.00     0.00     0.00    0.00   296.39   643.33  1029.64   833.19   84.78   353.82  347.66  293.96  265.66  352.70   250.06   691.41\n",
       "16     0.00     0.00     0.00     0.00     0.00    0.00     0.00     0.00   667.80  1025.92  988.22   595.94  190.29  351.82  357.88  278.32   312.13  1020.09\n",
       "17     0.00     0.00     0.00     0.00     0.00    0.00     0.00     0.00   311.09   667.80  934.12  1002.05  753.05   80.98   32.37  110.50   801.70   932.58"
      ]
     },
     "execution_count": 28,
     "metadata": {},
     "output_type": "execute_result"
    }
   ],
   "source": [
    "pd.DataFrame(Norm)"
   ]
  },
  {
   "cell_type": "markdown",
   "metadata": {},
   "source": [
    "### Plot gradient Norm"
   ]
  },
  {
   "cell_type": "code",
   "execution_count": 29,
   "metadata": {},
   "outputs": [
    {
     "data": {
      "image/png": "[encoded data removed]",
      "text/plain": [
       "<matplotlib.figure.Figure at 0xd9ff2e8>"
      ]
     },
     "metadata": {},
     "output_type": "display_data"
    }
   ],
   "source": [
    "plot_3d(Norm)"
   ]
  },
  {
   "cell_type": "markdown",
   "metadata": {},
   "source": [
    "# Local minima"
   ]
  },
  {
   "cell_type": "code",
   "execution_count": 30,
   "metadata": {},
   "outputs": [],
   "source": [
    "\"\"\" this function produce a rolling window which is just a view on the data: \n",
    "= a special way to move in the data. No copy is made.\n",
    "\"\"\"\n",
    "def rolling_windows_img(a,kshape):\n",
    "    outShape=(a.shape[0]-kshape[0]+1,)+(a.shape[1]-kshape[1]+1,)+kshape\n",
    "    outStrides=a.strides+a.strides\n",
    "    return np.lib.stride_tricks.as_strided(a,shape=outShape,strides=outStrides)"
   ]
  },
  {
   "cell_type": "code",
   "execution_count": 31,
   "metadata": {},
   "outputs": [],
   "source": [
    "'''neighbours: [[1,1,1],[1,0,1],[1,1,1]]'''\n",
    "def findLocalMin(data,kshape,minimum):\n",
    "    \n",
    "    dataRoll = rolling_windows_img(data,kshape)\n",
    "    a,b = dataRoll.shape[0],dataRoll.shape[1]\n",
    "    L = a*b\n",
    "    W = kshape[0]*kshape[1]\n",
    "    dataRoll = dataRoll.reshape(L,W)\n",
    "    \n",
    "    if minimum == True:\n",
    "        armin = np.argmin(dataRoll,axis=1)\n",
    "    else:\n",
    "        armin = np.argmax(dataRoll,axis=1)\n",
    "    \n",
    "    res=np.array([],dtype=np.int8)\n",
    "    extrema = 0\n",
    "    for i, j in enumerate(armin):\n",
    "        \n",
    "        where = np.where((dataRoll[i,:] == dataRoll[i,j]))[0]\n",
    "        \n",
    "        if (j == W//2 and where.size == 1):\n",
    "            coord = np.array([i//b + (kshape[0])//2 ,(i%a+ (kshape[1])//2)])\n",
    "            res = np.append(res, coord)\n",
    "            extrema +=1\n",
    "            \n",
    "    \n",
    "    res = res.reshape(res.size//2,2)\n",
    "    \n",
    "    return res,extrema"
   ]
  },
  {
   "cell_type": "code",
   "execution_count": 32,
   "metadata": {},
   "outputs": [],
   "source": [
    "matrix = Norm\n",
    "mini,number_extrema = findLocalMin(matrix,(9,9),True)"
   ]
  },
  {
   "cell_type": "markdown",
   "metadata": {},
   "source": [
    "### Plot minima"
   ]
  },
  {
   "cell_type": "code",
   "execution_count": 33,
   "metadata": {},
   "outputs": [],
   "source": [
    "def plot_matrix(matrix,mini,savename):\n",
    "    points = np.where(matrix !=0.0)\n",
    "    pts = np.stack((points[1],points[0]),axis =-1)#i,j --> y,x\n",
    "    plt.plot(pts[:,0],matrix.shape[0]-pts[:,1]-1,\"+\");\n",
    "    plt.plot(mini[:,0],matrix.shape[0]-mini[:,1]-1,\"o\")##i,j --> y,x\n",
    "    plt.savefig(savename)"
   ]
  },
  {
   "cell_type": "code",
   "execution_count": 34,
   "metadata": {},
   "outputs": [
    {
     "data": {
      "image/png": "[encoded data removed]",
      "text/plain": [
       "<matplotlib.figure.Figure at 0xdf69cc0>"
      ]
     },
     "metadata": {},
     "output_type": "display_data"
    }
   ],
   "source": [
    "plot_matrix(matrix,mini,'fig minima')\n"
   ]
  },
  {
   "cell_type": "markdown",
   "metadata": {},
   "source": [
    "### Kmeans"
   ]
  },
  {
   "cell_type": "markdown",
   "metadata": {},
   "source": [
    "### Solution 1"
   ]
  },
  {
   "cell_type": "code",
   "execution_count": 35,
   "metadata": {},
   "outputs": [],
   "source": [
    "from sklearn.cluster import KMeans"
   ]
  },
  {
   "cell_type": "code",
   "execution_count": 36,
   "metadata": {},
   "outputs": [],
   "source": [
    "points = np.where(case_0 !=0.0)\n",
    "pts = np.stack((points[1],points[0]),axis =-1)#i,j --> y,x"
   ]
  },
  {
   "cell_type": "code",
   "execution_count": 38,
   "metadata": {},
   "outputs": [
    {
     "data": {
      "text/plain": [
       "array([[ 5.96,  9.76],\n",
       "       [14.8 ,  9.89]])"
      ]
     },
     "execution_count": 38,
     "metadata": {},
     "output_type": "execute_result"
    }
   ],
   "source": [
    "\"\"\"creation of the algo\"\"\"\n",
    "kmeans=KMeans(n_clusters=2)\n",
    "\"\"\"computation of centroids\"\"\"\n",
    "kmeans.fit(pts)\n",
    "\"\"\"here is the result\"\"\"\n",
    "kmeans.cluster_centers_\n"
   ]
  },
  {
   "cell_type": "code",
   "execution_count": 45,
   "metadata": {},
   "outputs": [],
   "source": [
    "labels_1 = kmeans.predict(pts)"
   ]
  },
  {
   "cell_type": "code",
   "execution_count": 41,
   "metadata": {},
   "outputs": [
    {
     "data": {
      "image/png": "[encoded data removed]",
      "text/plain": [
       "<matplotlib.figure.Figure at 0x10858518>"
      ]
     },
     "metadata": {},
     "output_type": "display_data"
    }
   ],
   "source": [
    "plt.scatter(pts[:,0],pts[:,1],c=labels_1,marker=\"+\");\n",
    "for centroid in kmeans.cluster_centers_:\n",
    "    plt.plot(centroid[0],centroid[1],\"o\")"
   ]
  },
  {
   "cell_type": "code",
   "execution_count": 39,
   "metadata": {},
   "outputs": [],
   "source": [
    "centroids = kmeans.cluster_centers_"
   ]
  },
  {
   "cell_type": "code",
   "execution_count": 40,
   "metadata": {},
   "outputs": [
    {
     "data": {
      "text/plain": [
       "array([2.59, 5.41])"
      ]
     },
     "execution_count": 40,
     "metadata": {},
     "output_type": "execute_result"
    }
   ],
   "source": [
    "center_1 = centroids[1,:]\n",
    "center_2 = centroids[0,:]\n",
    "center_1"
   ]
  },
  {
   "cell_type": "markdown",
   "metadata": {},
   "source": [
    "### Solution 2"
   ]
  },
  {
   "cell_type": "code",
   "execution_count": 41,
   "metadata": {},
   "outputs": [],
   "source": [
    "#kmeans.cluster_centers_ = np.fliplr(mini)# np.array([[ 3. , 8.],[15.,  8.]])"
   ]
  },
  {
   "cell_type": "code",
   "execution_count": 42,
   "metadata": {},
   "outputs": [],
   "source": [
    "#labels = kmeans.predict(pts)\n",
    "#labels.size == pts[:,1].size"
   ]
  },
  {
   "cell_type": "code",
   "execution_count": 43,
   "metadata": {},
   "outputs": [],
   "source": [
    "#plt.scatter(pts[:,0],pts[:,1],c=labels,marker=\"+\")\n",
    "#for centroid in kmeans.cluster_centers_:\n",
    "    #plt.plot(centroid[0],centroid[1],\"o\")"
   ]
  },
  {
   "cell_type": "code",
   "execution_count": 44,
   "metadata": {},
   "outputs": [],
   "source": [
    "#labels"
   ]
  },
  {
   "cell_type": "markdown",
   "metadata": {},
   "source": [
    "# covariance error ellipse"
   ]
  },
  {
   "cell_type": "markdown",
   "metadata": {},
   "source": [
    "## sub defect 1"
   ]
  },
  {
   "cell_type": "code",
   "execution_count": 45,
   "metadata": {},
   "outputs": [
    {
     "data": {
      "text/plain": [
       "True"
      ]
     },
     "execution_count": 45,
     "metadata": {},
     "output_type": "execute_result"
    }
   ],
   "source": [
    "l=pts[:,0]\n",
    "k=pts[:,1]\n",
    "a=l[labels_1!=0]\n",
    "b=k[labels_1!=0]\n",
    "a.size == b.size"
   ]
  },
  {
   "cell_type": "code",
   "execution_count": 46,
   "metadata": {
    "scrolled": true
   },
   "outputs": [
    {
     "data": {
      "image/png": "[encoded data removed]",
      "text/plain": [
       "<matplotlib.figure.Figure at 0x10501390>"
      ]
     },
     "metadata": {},
     "output_type": "display_data"
    }
   ],
   "source": [
    "plt.scatter(a,b,marker=\"+\");"
   ]
  },
  {
   "cell_type": "code",
   "execution_count": 47,
   "metadata": {},
   "outputs": [],
   "source": [
    "ab = np.stack((a,b),axis=0)"
   ]
  },
  {
   "cell_type": "code",
   "execution_count": 96,
   "metadata": {},
   "outputs": [
    {
     "data": {
      "text/plain": [
       "array([[3.01, 0.15],\n",
       "       [0.15, 9.64]])"
      ]
     },
     "execution_count": 96,
     "metadata": {},
     "output_type": "execute_result"
    }
   ],
   "source": [
    "cov = np.cov(ab)\n",
    "cov"
   ]
  },
  {
   "cell_type": "code",
   "execution_count": 97,
   "metadata": {},
   "outputs": [
    {
     "data": {
      "text/plain": [
       "(array([3.  , 9.65]), array([[-1.  , -0.02],\n",
       "        [ 0.02, -1.  ]]))"
      ]
     },
     "execution_count": 97,
     "metadata": {},
     "output_type": "execute_result"
    }
   ],
   "source": [
    "from numpy import linalg as LA\n",
    "w, v = LA.eig(cov)\n",
    "w, v"
   ]
  },
  {
   "cell_type": "code",
   "execution_count": 106,
   "metadata": {},
   "outputs": [
    {
     "data": {
      "text/plain": [
       "array([3.  , 9.65])"
      ]
     },
     "execution_count": 106,
     "metadata": {},
     "output_type": "execute_result"
    }
   ],
   "source": [
    "w"
   ]
  },
  {
   "cell_type": "code",
   "execution_count": 99,
   "metadata": {},
   "outputs": [
    {
     "data": {
      "text/plain": [
       "1"
      ]
     },
     "execution_count": 99,
     "metadata": {},
     "output_type": "execute_result"
    }
   ],
   "source": [
    "index=np.argmax(w)\n",
    "index"
   ]
  },
  {
   "cell_type": "code",
   "execution_count": 100,
   "metadata": {},
   "outputs": [],
   "source": [
    "a0=center_1[0]#np.mean(a)\n",
    "b0=center_1[1]#np.mean(b)"
   ]
  },
  {
   "cell_type": "code",
   "execution_count": 101,
   "metadata": {},
   "outputs": [
    {
     "data": {
      "text/plain": [
       "-88.69016972611361"
      ]
     },
     "execution_count": 101,
     "metadata": {},
     "output_type": "execute_result"
    }
   ],
   "source": [
    "angle = np.arctan(v[1,index]/np.abs(v[0,index]))\n",
    "angle = math.degrees(angle)\n",
    "angle"
   ]
  },
  {
   "cell_type": "code",
   "execution_count": 102,
   "metadata": {},
   "outputs": [],
   "source": [
    "sigmax= 2*np.sqrt(4.61*w[0])#length of the ellipse\n",
    "sigmax_95= 2*np.sqrt(5.991*w[0])#95%\n",
    "sigmax_80= 2*np.sqrt(3.22*w[0])#80%\n",
    "sigmay= 2*np.sqrt(4.61*w[1])#width of the ellipse\n",
    "sigmay_95= 2*np.sqrt(5.99*w[1])#(5.991*w[1])\n",
    "sigmay_80= 2*np.sqrt(3.22*w[1])"
   ]
  },
  {
   "cell_type": "code",
   "execution_count": 103,
   "metadata": {},
   "outputs": [
    {
     "data": {
      "text/plain": [
       "7.442046661885201"
      ]
     },
     "execution_count": 103,
     "metadata": {},
     "output_type": "execute_result"
    }
   ],
   "source": [
    "sigmax "
   ]
  },
  {
   "cell_type": "markdown",
   "metadata": {},
   "source": [
    "## sub defect 2"
   ]
  },
  {
   "cell_type": "code",
   "execution_count": 55,
   "metadata": {},
   "outputs": [
    {
     "data": {
      "text/plain": [
       "True"
      ]
     },
     "execution_count": 55,
     "metadata": {},
     "output_type": "execute_result"
    }
   ],
   "source": [
    "l1=pts[:,0]\n",
    "k1=pts[:,1]\n",
    "a1=l1[labels_1!=1]\n",
    "b1=k1[labels_1!=1]\n",
    "a1.size == b1.size"
   ]
  },
  {
   "cell_type": "code",
   "execution_count": 104,
   "metadata": {},
   "outputs": [
    {
     "data": {
      "image/png": "[encoded data removed]",
      "text/plain": [
       "<matplotlib.figure.Figure at 0xb846e80>"
      ]
     },
     "metadata": {},
     "output_type": "display_data"
    }
   ],
   "source": [
    "plt.scatter(a1,b1,marker=\"+\");"
   ]
  },
  {
   "cell_type": "code",
   "execution_count": 57,
   "metadata": {},
   "outputs": [],
   "source": [
    "ab1 = np.stack((a1,b1),axis=0)"
   ]
  },
  {
   "cell_type": "code",
   "execution_count": 81,
   "metadata": {},
   "outputs": [
    {
     "data": {
      "text/plain": [
       "array([[5.92, 1.28],\n",
       "       [1.28, 8.73]])"
      ]
     },
     "execution_count": 81,
     "metadata": {},
     "output_type": "execute_result"
    }
   ],
   "source": [
    "cov1 = np.cov(ab1)\n",
    "cov1"
   ]
  },
  {
   "cell_type": "code",
   "execution_count": 59,
   "metadata": {},
   "outputs": [
    {
     "data": {
      "text/plain": [
       "(array([5.42, 9.23]), array([[-0.93, -0.36],\n",
       "        [ 0.36, -0.93]]))"
      ]
     },
     "execution_count": 59,
     "metadata": {},
     "output_type": "execute_result"
    }
   ],
   "source": [
    "from numpy import linalg as LA\n",
    "w1, v1 = LA.eig(cov1)\n",
    "w1, v1"
   ]
  },
  {
   "cell_type": "code",
   "execution_count": 73,
   "metadata": {},
   "outputs": [],
   "source": [
    "a01=center_2[0]#np.mean(a)\n",
    "b01=center_2[1]#np.mean(b)#np.mean(a1)\n"
   ]
  },
  {
   "cell_type": "code",
   "execution_count": 74,
   "metadata": {},
   "outputs": [
    {
     "data": {
      "text/plain": [
       "1"
      ]
     },
     "execution_count": 74,
     "metadata": {},
     "output_type": "execute_result"
    }
   ],
   "source": [
    "index1=np.argmax(w1)\n",
    "index1"
   ]
  },
  {
   "cell_type": "code",
   "execution_count": 75,
   "metadata": {},
   "outputs": [
    {
     "data": {
      "text/plain": [
       "-68.78690654077037"
      ]
     },
     "execution_count": 75,
     "metadata": {},
     "output_type": "execute_result"
    }
   ],
   "source": [
    "angle1 = np.arctan(v1[1,index1]/np.abs(v1[0,index1]))\n",
    "angle1 = math.degrees(angle1)\n",
    "angle1"
   ]
  },
  {
   "cell_type": "code",
   "execution_count": 63,
   "metadata": {},
   "outputs": [],
   "source": [
    "sigmax1= 2*np.sqrt(4.61*w1[0])#length of the ellipse\n",
    "sigmax1_95= 2*np.sqrt(5.991*w1[0])#95%\n",
    "sigmax1_80= 2*np.sqrt(3.22*w1[0])#80%\n",
    "sigmay1= 2*np.sqrt(4.61*w1[1])#width of the ellipse\n",
    "sigmay1_95= 2*np.sqrt(5.99*w1[1])#(5.991*w[1])\n",
    "sigmay1_80= 2*np.sqrt(3.22*w1[1])"
   ]
  },
  {
   "cell_type": "code",
   "execution_count": 64,
   "metadata": {},
   "outputs": [
    {
     "data": {
      "text/plain": [
       "9.997163319830468"
      ]
     },
     "execution_count": 64,
     "metadata": {},
     "output_type": "execute_result"
    }
   ],
   "source": [
    "sigmax1"
   ]
  },
  {
   "cell_type": "code",
   "execution_count": 65,
   "metadata": {},
   "outputs": [
    {
     "data": {
      "text/plain": [
       "13.04394001543462"
      ]
     },
     "execution_count": 65,
     "metadata": {},
     "output_type": "execute_result"
    }
   ],
   "source": [
    "sigmay1"
   ]
  },
  {
   "cell_type": "code",
   "execution_count": 66,
   "metadata": {},
   "outputs": [
    {
     "data": {
      "text/plain": [
       "7.442046661885201"
      ]
     },
     "execution_count": 66,
     "metadata": {},
     "output_type": "execute_result"
    }
   ],
   "source": [
    "sigmax"
   ]
  },
  {
   "cell_type": "markdown",
   "metadata": {},
   "source": [
    "## Result"
   ]
  },
  {
   "cell_type": "code",
   "execution_count": 67,
   "metadata": {},
   "outputs": [],
   "source": [
    "import numpy as np\n",
    "from matplotlib import patches\n",
    "import matplotlib.pyplot as plt\n",
    "import math"
   ]
  },
  {
   "cell_type": "code",
   "execution_count": 68,
   "metadata": {},
   "outputs": [
    {
     "name": "stderr",
     "output_type": "stream",
     "text": [
      "C:\\Anaconda\\lib\\site-packages\\matplotlib\\cbook\\deprecation.py:106: MatplotlibDeprecationWarning: Adding an axes using the same arguments as a previous axes currently reuses the earlier instance.  In a future version, a new instance will always be created and returned.  Meanwhile, this warning can be suppressed, and the future behavior ensured, by passing a unique label to each axes instance.\n",
      "  warnings.warn(message, mplDeprecation, stacklevel=1)\n"
     ]
    },
    {
     "data": {
      "image/png": "[encoded data removed]",
      "text/plain": [
       "<matplotlib.figure.Figure at 0x104ae4e0>"
      ]
     },
     "metadata": {},
     "output_type": "display_data"
    }
   ],
   "source": [
    "fig = plt.figure(figsize=(16,16))\n",
    "\n",
    "'''sub defect 1'''\n",
    "\n",
    "ax = fig.add_subplot(211, aspect='equal')\n",
    "ax.imshow(case,cmap='jet')\n",
    "ax.plot(a, b,'.k')\n",
    "\n",
    "e1_90 = patches.Ellipse((a0, b0), sigmay, sigmax,\n",
    "                     angle=angle, linewidth=2, fill=False,label=r'$90\\%\\ error\\ ellipse$', edgecolor='blue', linestyle='--')\n",
    "\n",
    "e1_80 = patches.Ellipse((a0, b0), sigmay_80, sigmax_80,\n",
    "                     angle=angle, linewidth=2, fill=False,label=r'$80\\%\\ error\\ ellipse$',edgecolor='firebrick')\n",
    "\n",
    "\n",
    "\n",
    "e1_95 = patches.Ellipse((a0, b0), sigmay_95, sigmax_95,\n",
    "                     angle=angle, linewidth=2, fill=False,label=r'$95\\%\\ error\\ ellipse$', edgecolor='black', linestyle=':')\n",
    "\n",
    "\n",
    "\n",
    "\n",
    "ax.add_patch(e1_80)\n",
    "ax.add_patch(e1_90)\n",
    "ax.add_patch(e1_95)\n",
    "\n",
    "\n",
    "'''sub defect 2'''\n",
    "\n",
    "ax = fig.add_subplot(211, aspect='equal')\n",
    "ax.plot(a1, b1,'.k')\n",
    "#ax.fill(a1, b1, alpha=0.2, facecolor='yellow',\n",
    "        #edgecolor='yellow', linewidth=1, zorder=1)\n",
    "\n",
    "\n",
    "#index1=1\n",
    "e2_80 = patches.Ellipse((a01, b01), sigmay1_80, sigmax1_80,\n",
    "                     angle=angle1, linewidth=2, fill=False, zorder=2,edgecolor='firebrick')\n",
    "\n",
    "e2_90 = patches.Ellipse((a01, b01), sigmay1, sigmax1,\n",
    "                     angle=angle1, linewidth=2, fill=False, zorder=2, edgecolor='blue', linestyle='--')\n",
    "\n",
    "e2_95 = patches.Ellipse((a01, b01), sigmay1_95, sigmax1_95,\n",
    "                     angle=angle1, linewidth=2, fill=False, zorder=2, edgecolor='black', linestyle=':')\n",
    "\n",
    "\n",
    "\n",
    "ax.add_patch(e2_90)\n",
    "\n",
    "ax.add_patch(e2_95)\n",
    "\n",
    "ax.add_patch(e2_80)\n",
    "\n",
    "\n",
    "\n",
    "#Plot the eigenvectors\n",
    "ax.quiver(a0, b0, v[0,1], v[1,1]);\n",
    "ax.quiver(a0, b0, v[0,0], v[1,0]);\n",
    "#ax.annotate('Sub defect 1', xy=(-1.,-2))\n",
    "\n",
    "\n",
    "ax.quiver(a01, b01, v1[0,1], v1[1,1]);\n",
    "ax.quiver(a01, b01, v1[0,0], v1[1,0]);\n",
    "ax.annotate('V2', xy=(10.5, 4.5))\n",
    "ax.annotate('V1', xy=(10.5, 6.5))\n",
    "ax.annotate('V1', xy=(4, 8))\n",
    "ax.annotate('V2', xy=(2.5, 6.5))\n",
    "\n",
    "ax.legend(loc='upper right')\n",
    "\n",
    "\n",
    "#ax.set_xlim(-7,30)\n",
    "#ax.set_ylim(-7, 30);\n",
    "\n",
    "fig.gca().set_aspect('equal', adjustable='box');\n",
    "ax.axis('off');\n",
    "ax.set_title('Different confidence ellipses for the case study defect');\n",
    "fig.savefig('defect 1');\n",
    "\n",
    "#ax.title('Defect')\n",
    "\n",
    "\n"
   ]
  },
  {
   "cell_type": "markdown",
   "metadata": {},
   "source": [
    "# Generalization on all defects"
   ]
  },
  {
   "cell_type": "code",
   "execution_count": 69,
   "metadata": {},
   "outputs": [
    {
     "data": {
      "image/png": "[encoded data removed]",
      "text/plain": [
       "<matplotlib.figure.Figure at 0x10607358>"
      ]
     },
     "metadata": {},
     "output_type": "display_data"
    }
   ],
   "source": [
    "plt.imshow(img,cmap='jet')\n",
    "plt.show()"
   ]
  },
  {
   "cell_type": "markdown",
   "metadata": {},
   "source": [
    "# step 1 :Defect detection"
   ]
  },
  {
   "cell_type": "code",
   "execution_count": 70,
   "metadata": {},
   "outputs": [],
   "source": [
    "def step1(image,thresh,plot):\n",
    "    \n",
    "    baryAndSizes = all_connected_components(image, thresh)\n",
    "    number_of_defects = len(baryAndSizes)\n",
    "    \n",
    "    x = np.array([],dtype=float)\n",
    "    y= np.array([],dtype=float)\n",
    "    size = np.array([],dtype=np.int8)\n",
    "    defects = np.array([],dtype=int)\n",
    "    \n",
    "     \n",
    "    '''defects list''' \n",
    "    for i in range(number_of_defects):#baryAndSizes = nb, barycentre,defect\n",
    "        x = np.append(x, baryAndSizes[i][1][0])\n",
    "        y = np.append(y, baryAndSizes[i][1][1])\n",
    "        size = np.append(size, baryAndSizes[i][0])\n",
    "        defects = np.append(defects, baryAndSizes[i][2])\n",
    "        \n",
    "    \n",
    "   \n",
    "    '''plot'''\n",
    "    if plot:\n",
    "        fig, ax = plt.subplots(1,3, figsize = (22,12))\n",
    "        fig.suptitle('Results', fontsize=16)\n",
    "        ax[0].set_xlim(0,image.shape[1])\n",
    "        ax[1].set_xlim(0,image.shape[1])\n",
    "        ax[2].set_xlim(0,image.shape[1])\n",
    "\n",
    "        title = ['Detected defects centers','Detected defects as discs']\n",
    "        ax[0].imshow(255-image, cmap='gray', vmin = 0, vmax = 255,)\n",
    "        ax[0].scatter(y, x, marker='+', s=size, c = 'r', alpha = 0.5)\n",
    "        ax[0].set_title(title[0])\n",
    "\n",
    "        ax[0].set_xlabel('x')\n",
    "        ax[0].set_ylabel('y')\n",
    "\n",
    "        ax[1].imshow(255-image, cmap='gray', vmin = 0, vmax = 255,)\n",
    "        ax[1].scatter(y, x, marker='o', s=size, c = 'b', alpha = 0.5)\n",
    "        ax[1].set_title(title[1])\n",
    "\n",
    "        ax[1].set_xlabel('x')\n",
    "        ax[1].set_ylabel('y')\n",
    "        fig.show()\n",
    "    \n",
    "\n",
    "    return y, image.shape[0]-x, size,defects #return the cooordinates in x,y axis"
   ]
  },
  {
   "cell_type": "code",
   "execution_count": 71,
   "metadata": {},
   "outputs": [
    {
     "name": "stdout",
     "output_type": "stream",
     "text": [
      "Wall time: 1.68 s\n"
     ]
    }
   ],
   "source": [
    "%%time\n",
    "x, y, size,alldefects = step1(imgray,0,False)"
   ]
  },
  {
   "cell_type": "markdown",
   "metadata": {},
   "source": [
    "# Step 2: defects area,centers and coordinates"
   ]
  },
  {
   "cell_type": "code",
   "execution_count": 72,
   "metadata": {},
   "outputs": [
    {
     "data": {
      "text/plain": [
       "array([[2, 1],\n",
       "       [6, 4]])"
      ]
     },
     "execution_count": 72,
     "metadata": {},
     "output_type": "execute_result"
    }
   ],
   "source": [
    "a =[[1,2],[4,6]]\n",
    "np.fliplr(a)"
   ]
  },
  {
   "cell_type": "markdown",
   "metadata": {},
   "source": [
    "## Convert (x,y) <--> (i,j)"
   ]
  },
  {
   "cell_type": "code",
   "execution_count": 74,
   "metadata": {},
   "outputs": [],
   "source": [
    "def xy_ij(xy_coord,dim_y):\n",
    "    \n",
    "    xy_coord = np.array(xy_coord)\n",
    "    \n",
    "    ij_coord = np.fliplr(xy_coord)\n",
    "    ij_coord[:,0] =  dim_y - ij_coord[:,0]\n",
    "    \n",
    "    return ij_coord\n",
    "\n",
    "def ij_xy(ij_coord,dim_y):\n",
    "    \n",
    "    ij_coord = np.array(ij_coord)\n",
    "    \n",
    "    ij_coord[:,0] =  dim_y - ij_coord[:,0]\n",
    "    xy_coord = np.fliplr(ij_coord)\n",
    "    \n",
    "    return xy_coord\n",
    "    "
   ]
  },
  {
   "cell_type": "code",
   "execution_count": 75,
   "metadata": {},
   "outputs": [],
   "source": [
    "\n",
    "\"\"\"pour que les dataFrame ne soient pas trop coupées dans la console\"\"\"\n",
    "pd.set_option('display.max_rows', 500)\n",
    "pd.set_option('display.max_columns', 500)\n",
    "pd.set_option('display.width', 1000)\n",
    "pd.set_option('precision', 6)\n",
    "\n",
    "\"\"\"\n",
    "Available options:\n",
    "display.[chop_threshold, colheader_justify, column_space, date_dayfirst,\n",
    "         date_yearfirst, encoding, expand_frame_repr, float_format, height,\n",
    "         line_width, max_columns, max_colwidth, max_info_columns, max_info_rows,\n",
    "         max_rows, max_seq_items, mpl_style, multi_sparse, notebook_repr_html,\n",
    "         pprint_nest_depth, precision, width]\n",
    "\n",
    "\"\"\";"
   ]
  },
  {
   "cell_type": "code",
   "execution_count": 76,
   "metadata": {},
   "outputs": [],
   "source": [
    "def get_defect_intensity(img,defect): #pixel should np.array (x,y)\n",
    "    \n",
    "    defect = np.array(defect)\n",
    "    #defect = xy_ij(defect,img.shape[0])\n",
    "    i = defect[:,0] \n",
    "    j = defect[:,1]\n",
    "    intensity = img[i.astype(int),j.astype(int)]\n",
    "    \n",
    "    return intensity"
   ]
  },
  {
   "cell_type": "code",
   "execution_count": 77,
   "metadata": {},
   "outputs": [],
   "source": [
    "def clean_defects(pandasoutput,lines_to_delete):\n",
    "    \n",
    "    output = pandasoutput.drop(lines_to_delete)\n",
    "    \n",
    "    return output\n",
    "    "
   ]
  },
  {
   "cell_type": "code",
   "execution_count": 219,
   "metadata": {},
   "outputs": [],
   "source": [
    "def defects_output(img,x, y, size,alldefect,upper_intensity):\n",
    "    \n",
    "    alldefect = alldefects.reshape((alldefect.size//2,2))#i,j\n",
    "    \n",
    "    #defects = ij_xy(alldefect,img.shape[0])\n",
    "    alldefect = alldefect.tolist()\n",
    "    centers = np.stack((x, y), axis=-1)\n",
    "    mean_intensity = []\n",
    "    \n",
    "    output = pd.DataFrame([[],[], [],[]]).T\n",
    "                          #columns = ['Centers', 'Area', 'the ith defect (x,y) coordinates'])\n",
    "    drop=[]\n",
    "    for i,j in enumerate(size):\n",
    "        ieme_defect = pd.DataFrame(alldefect[0:j])\n",
    "        Intensity = get_defect_intensity(img,ieme_defect)\n",
    "        mean_intensity = np.mean(Intensity)\n",
    "        if mean_intensity > upper_intensity:\n",
    "            drop.append(i)\n",
    " \n",
    "        ith_line = pd.DataFrame([[centers[i,:].round(2), size[i],mean_intensity.round(2),ieme_defect]],index = np.array([i]))\n",
    "        output = output.append(ith_line)\n",
    "        alldefect = alldefect[j:]\n",
    "\n",
    "\n",
    "    output.columns = ['Centers in (x,y)', 'Area','Average intensity', 'the ith defect in (i,j)'] \n",
    "    assert(np.array_equal(np.array([output['the ith defect in (i,j)'][i].size//2 for i in range(37)]),size))\n",
    "    \n",
    "    output['Area']=output['Area'].astype(int)\n",
    "    \n",
    "    #output = clean_defects(output,drop)\n",
    "\n",
    "    return output #i,j"
   ]
  },
  {
   "cell_type": "code",
   "execution_count": 220,
   "metadata": {},
   "outputs": [
    {
     "data": {
      "text/html": [
       "<div>\n",
       "<style scoped>\n",
       "    .dataframe tbody tr th:only-of-type {\n",
       "        vertical-align: middle;\n",
       "    }\n",
       "\n",
       "    .dataframe tbody tr th {\n",
       "        vertical-align: top;\n",
       "    }\n",
       "\n",
       "    .dataframe thead th {\n",
       "        text-align: right;\n",
       "    }\n",
       "</style>\n",
       "<table border=\"1\" class=\"dataframe\">\n",
       "  <thead>\n",
       "    <tr style=\"text-align: right;\">\n",
       "      <th></th>\n",
       "      <th>Centers in (x,y)</th>\n",
       "      <th>Area</th>\n",
       "      <th>Average intensity</th>\n",
       "      <th>the ith defect in (i,j)</th>\n",
       "    </tr>\n",
       "  </thead>\n",
       "  <tbody>\n",
       "    <tr>\n",
       "      <th>0</th>\n",
       "      <td>[569, 781]</td>\n",
       "      <td>46</td>\n",
       "      <td>174.35</td>\n",
       "      <td>0    1\n",
       "0   19  567\n",
       "1   19  568\n",
       "2   19  56...</td>\n",
       "    </tr>\n",
       "    <tr>\n",
       "      <th>1</th>\n",
       "      <td>[96, 686]</td>\n",
       "      <td>8</td>\n",
       "      <td>148.75</td>\n",
       "      <td>0   1\n",
       "0  117  95\n",
       "1  117  96\n",
       "2  117  97\n",
       "3 ...</td>\n",
       "    </tr>\n",
       "    <tr>\n",
       "      <th>2</th>\n",
       "      <td>[600, 669]</td>\n",
       "      <td>32</td>\n",
       "      <td>172.16</td>\n",
       "      <td>0    1\n",
       "0   131  599\n",
       "1   131  600\n",
       "2   131...</td>\n",
       "    </tr>\n",
       "    <tr>\n",
       "      <th>3</th>\n",
       "      <td>[557, 459]</td>\n",
       "      <td>4</td>\n",
       "      <td>162.75</td>\n",
       "      <td>0    1\n",
       "0  344  557\n",
       "1  344  558\n",
       "2  345  55...</td>\n",
       "    </tr>\n",
       "    <tr>\n",
       "      <th>4</th>\n",
       "      <td>[319, 366]</td>\n",
       "      <td>148</td>\n",
       "      <td>146.46</td>\n",
       "      <td>0    1\n",
       "0    428  317\n",
       "1    428  318\n",
       "2   ...</td>\n",
       "    </tr>\n",
       "    <tr>\n",
       "      <th>5</th>\n",
       "      <td>[109, 335]</td>\n",
       "      <td>18</td>\n",
       "      <td>163.67</td>\n",
       "      <td>0    1\n",
       "0   466  109\n",
       "1   466  110\n",
       "2   467...</td>\n",
       "    </tr>\n",
       "    <tr>\n",
       "      <th>6</th>\n",
       "      <td>[108, 289]</td>\n",
       "      <td>104</td>\n",
       "      <td>149.49</td>\n",
       "      <td>0    1\n",
       "0    508  106\n",
       "1    508  107\n",
       "2   ...</td>\n",
       "    </tr>\n",
       "    <tr>\n",
       "      <th>7</th>\n",
       "      <td>[403, 256]</td>\n",
       "      <td>94</td>\n",
       "      <td>141.86</td>\n",
       "      <td>0    1\n",
       "0   538  403\n",
       "1   538  404\n",
       "2   539...</td>\n",
       "    </tr>\n",
       "    <tr>\n",
       "      <th>8</th>\n",
       "      <td>[614, 104]</td>\n",
       "      <td>15761</td>\n",
       "      <td>254.54</td>\n",
       "      <td>0    1\n",
       "0      542  647\n",
       "1      542  64...</td>\n",
       "    </tr>\n",
       "    <tr>\n",
       "      <th>9</th>\n",
       "      <td>[335, 211]</td>\n",
       "      <td>122</td>\n",
       "      <td>139.51</td>\n",
       "      <td>0    1\n",
       "0    586  333\n",
       "1    586  334\n",
       "2   ...</td>\n",
       "    </tr>\n",
       "    <tr>\n",
       "      <th>10</th>\n",
       "      <td>[66, 195]</td>\n",
       "      <td>30</td>\n",
       "      <td>147.53</td>\n",
       "      <td>0   1\n",
       "0   607  63\n",
       "1   607  64\n",
       "2   607  6...</td>\n",
       "    </tr>\n",
       "    <tr>\n",
       "      <th>11</th>\n",
       "      <td>[94, 194]</td>\n",
       "      <td>8</td>\n",
       "      <td>135.12</td>\n",
       "      <td>0   1\n",
       "0  609  93\n",
       "1  609  94\n",
       "2  609  95\n",
       "3 ...</td>\n",
       "    </tr>\n",
       "    <tr>\n",
       "      <th>12</th>\n",
       "      <td>[95, 185]</td>\n",
       "      <td>8</td>\n",
       "      <td>162.62</td>\n",
       "      <td>0   1\n",
       "0  617  95\n",
       "1  617  96\n",
       "2  618  96\n",
       "3 ...</td>\n",
       "    </tr>\n",
       "    <tr>\n",
       "      <th>13</th>\n",
       "      <td>[335, 180]</td>\n",
       "      <td>52</td>\n",
       "      <td>164.65</td>\n",
       "      <td>0    1\n",
       "0   617  335\n",
       "1   617  336\n",
       "2   618...</td>\n",
       "    </tr>\n",
       "    <tr>\n",
       "      <th>14</th>\n",
       "      <td>[314, 183]</td>\n",
       "      <td>16</td>\n",
       "      <td>157.19</td>\n",
       "      <td>0    1\n",
       "0   619  313\n",
       "1   619  314\n",
       "2   619...</td>\n",
       "    </tr>\n",
       "    <tr>\n",
       "      <th>15</th>\n",
       "      <td>[131, 177]</td>\n",
       "      <td>8</td>\n",
       "      <td>161.62</td>\n",
       "      <td>0    1\n",
       "0  625  131\n",
       "1  625  132\n",
       "2  626  13...</td>\n",
       "    </tr>\n",
       "    <tr>\n",
       "      <th>16</th>\n",
       "      <td>[202, 164]</td>\n",
       "      <td>120</td>\n",
       "      <td>152.17</td>\n",
       "      <td>0    1\n",
       "0    631  201\n",
       "1    631  202\n",
       "2   ...</td>\n",
       "    </tr>\n",
       "    <tr>\n",
       "      <th>17</th>\n",
       "      <td>[597, 169]</td>\n",
       "      <td>1</td>\n",
       "      <td>254.00</td>\n",
       "      <td>0    1\n",
       "0  634  597</td>\n",
       "    </tr>\n",
       "    <tr>\n",
       "      <th>18</th>\n",
       "      <td>[329, 165]</td>\n",
       "      <td>20</td>\n",
       "      <td>161.55</td>\n",
       "      <td>0    1\n",
       "0   635  329\n",
       "1   635  330\n",
       "2   636...</td>\n",
       "    </tr>\n",
       "    <tr>\n",
       "      <th>19</th>\n",
       "      <td>[123, 166]</td>\n",
       "      <td>2</td>\n",
       "      <td>215.50</td>\n",
       "      <td>0    1\n",
       "0  637  123\n",
       "1  638  123</td>\n",
       "    </tr>\n",
       "    <tr>\n",
       "      <th>20</th>\n",
       "      <td>[384, 163]</td>\n",
       "      <td>16</td>\n",
       "      <td>145.25</td>\n",
       "      <td>0    1\n",
       "0   639  385\n",
       "1   639  386\n",
       "2   640...</td>\n",
       "    </tr>\n",
       "    <tr>\n",
       "      <th>21</th>\n",
       "      <td>[356, 153]</td>\n",
       "      <td>144</td>\n",
       "      <td>175.81</td>\n",
       "      <td>0    1\n",
       "0    641  352\n",
       "1    641  353\n",
       "2   ...</td>\n",
       "    </tr>\n",
       "    <tr>\n",
       "      <th>22</th>\n",
       "      <td>[339, 156]</td>\n",
       "      <td>60</td>\n",
       "      <td>151.25</td>\n",
       "      <td>0    1\n",
       "0   643  338\n",
       "1   643  339\n",
       "2   643...</td>\n",
       "    </tr>\n",
       "    <tr>\n",
       "      <th>23</th>\n",
       "      <td>[332, 158]</td>\n",
       "      <td>6</td>\n",
       "      <td>163.33</td>\n",
       "      <td>0    1\n",
       "0  645  332\n",
       "1  645  333\n",
       "2  645  33...</td>\n",
       "    </tr>\n",
       "    <tr>\n",
       "      <th>24</th>\n",
       "      <td>[268, 144]</td>\n",
       "      <td>200</td>\n",
       "      <td>131.54</td>\n",
       "      <td>0    1\n",
       "0    649  267\n",
       "1    649  268\n",
       "2   ...</td>\n",
       "    </tr>\n",
       "    <tr>\n",
       "      <th>25</th>\n",
       "      <td>[248, 138]</td>\n",
       "      <td>94</td>\n",
       "      <td>156.32</td>\n",
       "      <td>0    1\n",
       "0   659  248\n",
       "1   659  249\n",
       "2   659...</td>\n",
       "    </tr>\n",
       "    <tr>\n",
       "      <th>26</th>\n",
       "      <td>[300, 103]</td>\n",
       "      <td>32</td>\n",
       "      <td>182.72</td>\n",
       "      <td>0    1\n",
       "0   697  299\n",
       "1   697  300\n",
       "2   697...</td>\n",
       "    </tr>\n",
       "    <tr>\n",
       "      <th>27</th>\n",
       "      <td>[218, 95]</td>\n",
       "      <td>244</td>\n",
       "      <td>139.88</td>\n",
       "      <td>0    1\n",
       "0    699  221\n",
       "1    699  222\n",
       "2   ...</td>\n",
       "    </tr>\n",
       "    <tr>\n",
       "      <th>28</th>\n",
       "      <td>[330, 94]</td>\n",
       "      <td>60</td>\n",
       "      <td>175.68</td>\n",
       "      <td>0    1\n",
       "0   703  329\n",
       "1   703  330\n",
       "2   703...</td>\n",
       "    </tr>\n",
       "    <tr>\n",
       "      <th>29</th>\n",
       "      <td>[241, 95]</td>\n",
       "      <td>64</td>\n",
       "      <td>181.70</td>\n",
       "      <td>0    1\n",
       "0   705  237\n",
       "1   705  238\n",
       "2   705...</td>\n",
       "    </tr>\n",
       "    <tr>\n",
       "      <th>30</th>\n",
       "      <td>[327, 76]</td>\n",
       "      <td>12</td>\n",
       "      <td>153.42</td>\n",
       "      <td>0    1\n",
       "0   725  327\n",
       "1   725  328\n",
       "2   726...</td>\n",
       "    </tr>\n",
       "    <tr>\n",
       "      <th>31</th>\n",
       "      <td>[357, 71]</td>\n",
       "      <td>14</td>\n",
       "      <td>148.00</td>\n",
       "      <td>0    1\n",
       "0   731  356\n",
       "1   731  357\n",
       "2   731...</td>\n",
       "    </tr>\n",
       "    <tr>\n",
       "      <th>32</th>\n",
       "      <td>[339, 60]</td>\n",
       "      <td>144</td>\n",
       "      <td>130.16</td>\n",
       "      <td>0    1\n",
       "0    735  337\n",
       "1    735  338\n",
       "2   ...</td>\n",
       "    </tr>\n",
       "    <tr>\n",
       "      <th>33</th>\n",
       "      <td>[274, 62]</td>\n",
       "      <td>64</td>\n",
       "      <td>172.64</td>\n",
       "      <td>0    1\n",
       "0   737  273\n",
       "1   737  274\n",
       "2   737...</td>\n",
       "    </tr>\n",
       "    <tr>\n",
       "      <th>34</th>\n",
       "      <td>[235, 52]</td>\n",
       "      <td>168</td>\n",
       "      <td>141.92</td>\n",
       "      <td>0    1\n",
       "0    745  230\n",
       "1    745  231\n",
       "2   ...</td>\n",
       "    </tr>\n",
       "    <tr>\n",
       "      <th>35</th>\n",
       "      <td>[207, 56]</td>\n",
       "      <td>4</td>\n",
       "      <td>132.00</td>\n",
       "      <td>0    1\n",
       "0  747  207\n",
       "1  747  208\n",
       "2  748  20...</td>\n",
       "    </tr>\n",
       "    <tr>\n",
       "      <th>36</th>\n",
       "      <td>[297, 44]</td>\n",
       "      <td>176</td>\n",
       "      <td>121.63</td>\n",
       "      <td>0    1\n",
       "0    749  296\n",
       "1    749  297\n",
       "2   ...</td>\n",
       "    </tr>\n",
       "  </tbody>\n",
       "</table>\n",
       "</div>"
      ],
      "text/plain": [
       "   Centers in (x,y)   Area  Average intensity                            the ith defect in (i,j)\n",
       "0        [569, 781]     46             174.35       0    1\n",
       "0   19  567\n",
       "1   19  568\n",
       "2   19  56...\n",
       "1         [96, 686]      8             148.75       0   1\n",
       "0  117  95\n",
       "1  117  96\n",
       "2  117  97\n",
       "3 ...\n",
       "2        [600, 669]     32             172.16        0    1\n",
       "0   131  599\n",
       "1   131  600\n",
       "2   131...\n",
       "3        [557, 459]      4             162.75       0    1\n",
       "0  344  557\n",
       "1  344  558\n",
       "2  345  55...\n",
       "4        [319, 366]    148             146.46         0    1\n",
       "0    428  317\n",
       "1    428  318\n",
       "2   ...\n",
       "5        [109, 335]     18             163.67        0    1\n",
       "0   466  109\n",
       "1   466  110\n",
       "2   467...\n",
       "6        [108, 289]    104             149.49         0    1\n",
       "0    508  106\n",
       "1    508  107\n",
       "2   ...\n",
       "7        [403, 256]     94             141.86        0    1\n",
       "0   538  403\n",
       "1   538  404\n",
       "2   539...\n",
       "8        [614, 104]  15761             254.54           0    1\n",
       "0      542  647\n",
       "1      542  64...\n",
       "9        [335, 211]    122             139.51         0    1\n",
       "0    586  333\n",
       "1    586  334\n",
       "2   ...\n",
       "10        [66, 195]     30             147.53        0   1\n",
       "0   607  63\n",
       "1   607  64\n",
       "2   607  6...\n",
       "11        [94, 194]      8             135.12       0   1\n",
       "0  609  93\n",
       "1  609  94\n",
       "2  609  95\n",
       "3 ...\n",
       "12        [95, 185]      8             162.62       0   1\n",
       "0  617  95\n",
       "1  617  96\n",
       "2  618  96\n",
       "3 ...\n",
       "13       [335, 180]     52             164.65        0    1\n",
       "0   617  335\n",
       "1   617  336\n",
       "2   618...\n",
       "14       [314, 183]     16             157.19        0    1\n",
       "0   619  313\n",
       "1   619  314\n",
       "2   619...\n",
       "15       [131, 177]      8             161.62       0    1\n",
       "0  625  131\n",
       "1  625  132\n",
       "2  626  13...\n",
       "16       [202, 164]    120             152.17         0    1\n",
       "0    631  201\n",
       "1    631  202\n",
       "2   ...\n",
       "17       [597, 169]      1             254.00                                 0    1\n",
       "0  634  597\n",
       "18       [329, 165]     20             161.55        0    1\n",
       "0   635  329\n",
       "1   635  330\n",
       "2   636...\n",
       "19       [123, 166]      2             215.50                     0    1\n",
       "0  637  123\n",
       "1  638  123\n",
       "20       [384, 163]     16             145.25        0    1\n",
       "0   639  385\n",
       "1   639  386\n",
       "2   640...\n",
       "21       [356, 153]    144             175.81         0    1\n",
       "0    641  352\n",
       "1    641  353\n",
       "2   ...\n",
       "22       [339, 156]     60             151.25        0    1\n",
       "0   643  338\n",
       "1   643  339\n",
       "2   643...\n",
       "23       [332, 158]      6             163.33       0    1\n",
       "0  645  332\n",
       "1  645  333\n",
       "2  645  33...\n",
       "24       [268, 144]    200             131.54         0    1\n",
       "0    649  267\n",
       "1    649  268\n",
       "2   ...\n",
       "25       [248, 138]     94             156.32        0    1\n",
       "0   659  248\n",
       "1   659  249\n",
       "2   659...\n",
       "26       [300, 103]     32             182.72        0    1\n",
       "0   697  299\n",
       "1   697  300\n",
       "2   697...\n",
       "27        [218, 95]    244             139.88         0    1\n",
       "0    699  221\n",
       "1    699  222\n",
       "2   ...\n",
       "28        [330, 94]     60             175.68        0    1\n",
       "0   703  329\n",
       "1   703  330\n",
       "2   703...\n",
       "29        [241, 95]     64             181.70        0    1\n",
       "0   705  237\n",
       "1   705  238\n",
       "2   705...\n",
       "30        [327, 76]     12             153.42        0    1\n",
       "0   725  327\n",
       "1   725  328\n",
       "2   726...\n",
       "31        [357, 71]     14             148.00        0    1\n",
       "0   731  356\n",
       "1   731  357\n",
       "2   731...\n",
       "32        [339, 60]    144             130.16         0    1\n",
       "0    735  337\n",
       "1    735  338\n",
       "2   ...\n",
       "33        [274, 62]     64             172.64        0    1\n",
       "0   737  273\n",
       "1   737  274\n",
       "2   737...\n",
       "34        [235, 52]    168             141.92         0    1\n",
       "0    745  230\n",
       "1    745  231\n",
       "2   ...\n",
       "35        [207, 56]      4             132.00       0    1\n",
       "0  747  207\n",
       "1  747  208\n",
       "2  748  20...\n",
       "36        [297, 44]    176             121.63         0    1\n",
       "0    749  296\n",
       "1    749  297\n",
       "2   ..."
      ]
     },
     "execution_count": 220,
     "metadata": {},
     "output_type": "execute_result"
    }
   ],
   "source": [
    "output = defects_output(img,x, y, size,alldefects,215)\n",
    "output"
   ]
  },
  {
   "cell_type": "markdown",
   "metadata": {},
   "source": [
    "# Step 3: Sub-defects"
   ]
  },
  {
   "cell_type": "markdown",
   "metadata": {},
   "source": [
    "## Matrix of each defect"
   ]
  },
  {
   "cell_type": "code",
   "execution_count": 221,
   "metadata": {},
   "outputs": [],
   "source": [
    "def defect_matrix(img,defect,a,b):\n",
    "    \n",
    "    defect = np.array(defect)\n",
    "    \n",
    "    i_min = np.min(defect[:,0])#starting line index\n",
    "    i_max = np.max(defect[:,0]+1)#last line index (+1 for python)\n",
    "    j_min = np.min(defect[:,1])#starting column index\n",
    "    j_max = np.max(defect[:,1]+1)#last column index (+1 for python)\n",
    "    \n",
    "    defect_shape = img[i_min:i_max,j_min:j_max].shape\n",
    "    dim = np.max(defect_shape)\n",
    "    matrix = np.zeros((dim,dim))\n",
    "\n",
    "    assert (img[i_min:i_max,j_min:j_max][img[i_min:i_max,j_min:j_max]!= 0.].size == get_defect_intensity(img,defect).size)\n",
    "\n",
    "    matrix[0:defect_shape[0],0:defect_shape[1]] = img[i_min:i_max,j_min:j_max].copy()\n",
    "    matrix = cv2.GaussianBlur(matrix,(a,b),0) #smoothing\n",
    "    \n",
    "    return matrix"
   ]
  },
  {
   "cell_type": "code",
   "execution_count": 250,
   "metadata": {},
   "outputs": [
    {
     "name": "stdout",
     "output_type": "stream",
     "text": [
      "(8L, 2L)\n"
     ]
    },
    {
     "data": {
      "text/html": [
       "<div>\n",
       "<style scoped>\n",
       "    .dataframe tbody tr th:only-of-type {\n",
       "        vertical-align: middle;\n",
       "    }\n",
       "\n",
       "    .dataframe tbody tr th {\n",
       "        vertical-align: top;\n",
       "    }\n",
       "\n",
       "    .dataframe thead th {\n",
       "        text-align: right;\n",
       "    }\n",
       "</style>\n",
       "<table border=\"1\" class=\"dataframe\">\n",
       "  <thead>\n",
       "    <tr style=\"text-align: right;\">\n",
       "      <th></th>\n",
       "      <th>0</th>\n",
       "      <th>1</th>\n",
       "      <th>2</th>\n",
       "      <th>3</th>\n",
       "    </tr>\n",
       "  </thead>\n",
       "  <tbody>\n",
       "    <tr>\n",
       "      <th>0</th>\n",
       "      <td>97.058356</td>\n",
       "      <td>97.100934</td>\n",
       "      <td>96.962379</td>\n",
       "      <td>96.818605</td>\n",
       "    </tr>\n",
       "    <tr>\n",
       "      <th>1</th>\n",
       "      <td>86.786790</td>\n",
       "      <td>86.835403</td>\n",
       "      <td>86.732296</td>\n",
       "      <td>86.614278</td>\n",
       "    </tr>\n",
       "    <tr>\n",
       "      <th>2</th>\n",
       "      <td>65.607047</td>\n",
       "      <td>65.658208</td>\n",
       "      <td>65.608684</td>\n",
       "      <td>65.533880</td>\n",
       "    </tr>\n",
       "    <tr>\n",
       "      <th>3</th>\n",
       "      <td>55.403048</td>\n",
       "      <td>55.457027</td>\n",
       "      <td>55.436451</td>\n",
       "      <td>55.384056</td>\n",
       "    </tr>\n",
       "  </tbody>\n",
       "</table>\n",
       "</div>"
      ],
      "text/plain": [
       "           0          1          2          3\n",
       "0  97.058356  97.100934  96.962379  96.818605\n",
       "1  86.786790  86.835403  86.732296  86.614278\n",
       "2  65.607047  65.658208  65.608684  65.533880\n",
       "3  55.403048  55.457027  55.436451  55.384056"
      ]
     },
     "execution_count": 250,
     "metadata": {},
     "output_type": "execute_result"
    }
   ],
   "source": [
    "defect = 1\n",
    "\n",
    "print np.array(output['the ith defect in (i,j)'][defect]).shape\n",
    "\n",
    "matrix = defect_matrix(img,output['the ith defect in (i,j)'][defect],9,9)\n",
    "pd.DataFrame(matrix)"
   ]
  },
  {
   "cell_type": "code",
   "execution_count": 251,
   "metadata": {},
   "outputs": [
    {
     "data": {
      "image/png": "[encoded data removed]",
      "text/plain": [
       "<matplotlib.figure.Figure at 0x117a6438>"
      ]
     },
     "metadata": {},
     "output_type": "display_data"
    }
   ],
   "source": [
    "plot_3d(matrix)"
   ]
  },
  {
   "cell_type": "markdown",
   "metadata": {},
   "source": [
    "## Gradient of the defect"
   ]
  },
  {
   "cell_type": "code",
   "execution_count": 252,
   "metadata": {},
   "outputs": [],
   "source": [
    "operators=getCompassOperators(\"robinson2\")\n",
    "all_grad = np.abs(np.array([sg.convolve(matrix, operators[i,:,:], \"valid\") for i in range(4)]))"
   ]
  },
  {
   "cell_type": "code",
   "execution_count": 253,
   "metadata": {},
   "outputs": [],
   "source": [
    "Norm = np.sqrt(all_grad[0,:,:]**2 + all_grad[1,:,:]**2+all_grad[2,:,:]**2+all_grad[3,:,:]**2)"
   ]
  },
  {
   "cell_type": "code",
   "execution_count": 254,
   "metadata": {
    "scrolled": true
   },
   "outputs": [
    {
     "data": {
      "image/png": "[encoded data removed]",
      "text/plain": [
       "<matplotlib.figure.Figure at 0x11788da0>"
      ]
     },
     "metadata": {},
     "output_type": "display_data"
    }
   ],
   "source": [
    "plot_3d(Norm)"
   ]
  },
  {
   "cell_type": "markdown",
   "metadata": {},
   "source": [
    "## Extrema of the defect"
   ]
  },
  {
   "cell_type": "code",
   "execution_count": 255,
   "metadata": {},
   "outputs": [],
   "source": [
    "def extrema_number(local_window_dim,Mat):\n",
    "    kshape = min(local_window_dim,Mat.shape[0])\n",
    "\n",
    "    if kshape%2 == 0:\n",
    "        kshape = kshape -1\n",
    "\n",
    "    mini,number_extrema = findLocalMin(Norm,(kshape,kshape),True)\n",
    "    print number_extrema\n",
    "    \n",
    "    return mini "
   ]
  },
  {
   "cell_type": "code",
   "execution_count": 256,
   "metadata": {},
   "outputs": [
    {
     "name": "stdout",
     "output_type": "stream",
     "text": [
      "4\n"
     ]
    },
    {
     "data": {
      "text/plain": [
       "array([[0, 0],\n",
       "       [0, 1],\n",
       "       [1, 0],\n",
       "       [1, 1]], dtype=int64)"
      ]
     },
     "execution_count": 256,
     "metadata": {},
     "output_type": "execute_result"
    }
   ],
   "source": [
    "extrema_number(9,Norm)"
   ]
  },
  {
   "cell_type": "markdown",
   "metadata": {},
   "source": [
    "## Separation"
   ]
  },
  {
   "cell_type": "code",
   "execution_count": 229,
   "metadata": {},
   "outputs": [],
   "source": [
    "from sklearn.cluster import KMeans"
   ]
  },
  {
   "cell_type": "code",
   "execution_count": 230,
   "metadata": {
    "scrolled": true
   },
   "outputs": [
    {
     "data": {
      "text/html": [
       "<div>\n",
       "<style scoped>\n",
       "    .dataframe tbody tr th:only-of-type {\n",
       "        vertical-align: middle;\n",
       "    }\n",
       "\n",
       "    .dataframe tbody tr th {\n",
       "        vertical-align: top;\n",
       "    }\n",
       "\n",
       "    .dataframe thead th {\n",
       "        text-align: right;\n",
       "    }\n",
       "</style>\n",
       "<table border=\"1\" class=\"dataframe\">\n",
       "  <thead>\n",
       "    <tr style=\"text-align: right;\">\n",
       "      <th></th>\n",
       "      <th>0</th>\n",
       "      <th>1</th>\n",
       "    </tr>\n",
       "  </thead>\n",
       "  <tbody>\n",
       "    <tr>\n",
       "      <th>0</th>\n",
       "      <td>637</td>\n",
       "      <td>123</td>\n",
       "    </tr>\n",
       "    <tr>\n",
       "      <th>1</th>\n",
       "      <td>638</td>\n",
       "      <td>123</td>\n",
       "    </tr>\n",
       "  </tbody>\n",
       "</table>\n",
       "</div>"
      ],
      "text/plain": [
       "     0    1\n",
       "0  637  123\n",
       "1  638  123"
      ]
     },
     "execution_count": 230,
     "metadata": {},
     "output_type": "execute_result"
    }
   ],
   "source": [
    "case = output['the ith defect in (i,j)'][defect]\n",
    "case"
   ]
  },
  {
   "cell_type": "code",
   "execution_count": 231,
   "metadata": {},
   "outputs": [],
   "source": [
    "points = np.array(case)\n",
    "pts = ij_xy(points,img.shape[0])\n"
   ]
  },
  {
   "cell_type": "code",
   "execution_count": 232,
   "metadata": {},
   "outputs": [
    {
     "data": {
      "image/png": "[encoded data removed]",
      "text/plain": [
       "<matplotlib.figure.Figure at 0xdb9f828>"
      ]
     },
     "metadata": {},
     "output_type": "display_data"
    }
   ],
   "source": [
    "plt.plot(pts[:,0],pts[:,1],\"o\");"
   ]
  },
  {
   "cell_type": "code",
   "execution_count": 233,
   "metadata": {},
   "outputs": [
    {
     "data": {
      "text/plain": [
       "array([[123., 165.],\n",
       "       [123., 166.]])"
      ]
     },
     "execution_count": 233,
     "metadata": {},
     "output_type": "execute_result"
    }
   ],
   "source": [
    "\"\"\"creation of the algo\"\"\"\n",
    "kmeans=KMeans(n_clusters=2)\n",
    "\"\"\"computation of centroids\"\"\"\n",
    "kmeans.fit(pts)\n",
    "\"\"\"here is the result\"\"\"\n",
    "kmeans.cluster_centers_\n"
   ]
  },
  {
   "cell_type": "code",
   "execution_count": 234,
   "metadata": {},
   "outputs": [],
   "source": [
    "labels = kmeans.predict(pts)"
   ]
  },
  {
   "cell_type": "code",
   "execution_count": 235,
   "metadata": {},
   "outputs": [
    {
     "data": {
      "image/png": "[encoded data removed]",
      "text/plain": [
       "<matplotlib.figure.Figure at 0xe46aac8>"
      ]
     },
     "metadata": {},
     "output_type": "display_data"
    }
   ],
   "source": [
    "plt.scatter(pts[:,0],pts[:,1],c=labels,marker=\"+\");\n",
    "for centroid in kmeans.cluster_centers_:\n",
    "    plt.plot(centroid[0],centroid[1],\"o\")"
   ]
  },
  {
   "cell_type": "code",
   "execution_count": 236,
   "metadata": {},
   "outputs": [],
   "source": [
    "centroids = kmeans.cluster_centers_"
   ]
  },
  {
   "cell_type": "code",
   "execution_count": 237,
   "metadata": {},
   "outputs": [
    {
     "data": {
      "text/plain": [
       "array([[123., 165.],\n",
       "       [123., 166.]])"
      ]
     },
     "execution_count": 237,
     "metadata": {},
     "output_type": "execute_result"
    }
   ],
   "source": [
    "centroids #x,y"
   ]
  },
  {
   "cell_type": "code",
   "execution_count": 238,
   "metadata": {},
   "outputs": [],
   "source": [
    "def separation(case,number_extrema):\n",
    "    \n",
    "    points = np.array(case)#i,j\n",
    "    pts = ij_xy(points,img.shape[0])\n",
    "    \n",
    "    '''\n",
    "    plt.plot(pts[:,0],pts[:,1],\"o\");\n",
    "    '''\n",
    "    \n",
    "    \"\"\"creation of the algo\"\"\"\n",
    "    kmeans=KMeans(n_clusters=number_extrema)\n",
    "    \"\"\"computation of centroids\"\"\"\n",
    "    kmeans.fit(pts)\n",
    "    \"\"\"here is the result\"\"\"\n",
    "    centroids = kmeans.cluster_centers_\n",
    "    labels = kmeans.predict(pts)\n",
    "    \n",
    "    '''\n",
    "    plt.scatter(pts[:,0],pts[:,1],c=labels,marker=\"+\");\n",
    "    for centroid in centroids:\n",
    "        plt.plot(centroid[0],centroid[1],\"o\")\n",
    "    '''\n",
    "    \n",
    "    assertion = 0\n",
    "    sub_defects = []\n",
    "    for i in range(number_extrema):\n",
    "        sub_defects.append(pts[labels == i])#x,y replace with points if i,j\n",
    "        assertion += sub_defects[i].size//2\n",
    "        \n",
    "    assert (assertion == points.size//2)\n",
    "        \n",
    "    return centroids,sub_defects #x,y\n",
    "    "
   ]
  },
  {
   "cell_type": "code",
   "execution_count": 239,
   "metadata": {},
   "outputs": [],
   "source": [
    "case = output['the ith defect in (i,j)'][27]"
   ]
  },
  {
   "cell_type": "code",
   "execution_count": 240,
   "metadata": {},
   "outputs": [],
   "source": [
    "k,o = separation(case,2)"
   ]
  },
  {
   "cell_type": "code",
   "execution_count": 241,
   "metadata": {},
   "outputs": [],
   "source": [
    "case1 = output['the ith defect in (i,j)'][34]"
   ]
  },
  {
   "cell_type": "code",
   "execution_count": 242,
   "metadata": {},
   "outputs": [],
   "source": [
    "k1,o1 = separation(case1,2)"
   ]
  },
  {
   "cell_type": "code",
   "execution_count": 243,
   "metadata": {},
   "outputs": [],
   "source": [
    "case2 = output['the ith defect in (i,j)'][21]"
   ]
  },
  {
   "cell_type": "code",
   "execution_count": 244,
   "metadata": {},
   "outputs": [],
   "source": [
    "k2,o2 = separation(case2,2)"
   ]
  },
  {
   "cell_type": "markdown",
   "metadata": {},
   "source": [
    "# Plot all sub defects"
   ]
  },
  {
   "cell_type": "code",
   "execution_count": 245,
   "metadata": {},
   "outputs": [
    {
     "data": {
      "image/png": "[encoded data removed]",
      "text/plain": [
       "<matplotlib.figure.Figure at 0x107bd208>"
      ]
     },
     "metadata": {},
     "output_type": "display_data"
    }
   ],
   "source": [
    "plt.plot(o[0][:,0],o[0][:,1],\".\");\n",
    "plt.plot(o[1][:,0],o[1][:,1],\".\");\n",
    "\n",
    "plt.plot(o1[0][:,0],o1[0][:,1],\".\");\n",
    "plt.plot(o1[1][:,0],o1[1][:,1],\".\");\n",
    "\n",
    "plt.plot(o2[0][:,0],o2[0][:,1],\".\");\n",
    "plt.plot(o2[1][:,0],o2[1][:,1],\".\");\n"
   ]
  },
  {
   "cell_type": "code",
   "execution_count": null,
   "metadata": {},
   "outputs": [],
   "source": []
  },
  {
   "cell_type": "code",
   "execution_count": null,
   "metadata": {},
   "outputs": [],
   "source": []
  },
  {
   "cell_type": "code",
   "execution_count": null,
   "metadata": {},
   "outputs": [],
   "source": []
  }
 ],
 "metadata": {
  "kernelspec": {
   "display_name": "Python 2",
   "language": "python",
   "name": "python2"
  },
  "language_info": {
   "codemirror_mode": {
    "name": "ipython",
    "version": 2
   },
   "file_extension": ".py",
   "mimetype": "text/x-python",
   "name": "python",
   "nbconvert_exporter": "python",
   "pygments_lexer": "ipython2",
   "version": "2.7.14"
  }
 },
 "nbformat": 4,
 "nbformat_minor": 2
}
