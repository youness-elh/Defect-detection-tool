{
 "cells": [
  {
   "cell_type": "code",
   "execution_count": 1,
   "metadata": {},
   "outputs": [],
   "source": [
    "import os\n",
    "import pandas as pd\n",
    "from pandas import ExcelWriter\n",
    "from pandas import ExcelFile\n",
    "import sys\n",
    "import numpy as np\n",
    "import matplotlib.pyplot as plt\n",
    "import matplotlib.path as pth\n",
    "from PIL.Image import *\n",
    "from matplotlib import cm\n",
    "from PIL import Image\n",
    "import cv2\n",
    "from PIL import Image"
   ]
  },
  {
   "cell_type": "code",
   "execution_count": 2,
   "metadata": {},
   "outputs": [
    {
     "name": "stdout",
     "output_type": "stream",
     "text": [
      "['C:\\\\Anaconda', 'C:\\\\Anaconda\\\\lib\\\\site-packages']\n"
     ]
    }
   ],
   "source": [
    "import site\n",
    "print(site.getsitepackages())"
   ]
  },
  {
   "cell_type": "code",
   "execution_count": 60,
   "metadata": {},
   "outputs": [],
   "source": [
    "def multiple_imshow(rows,cols,images ,titles):\n",
    "\n",
    "    plt.figure(len(images), figsize=(12, 12))\n",
    "    for i in range(len(images)):\n",
    "        plt.subplot(rows,cols,i+1)\n",
    "        plt.imshow(images[i],'gray')\n",
    "        plt.title(titles[i])\n",
    "        #plt.xticks([]),plt.yticks([]) \n",
    "    plt.show()\n",
    "\n",
    "def defect_detection(path,lower_bound,upper_bound,lower_bound_1 = [0,0,0],upper_bound_1 =[0,0,0]):\n",
    "    \n",
    "    img = cv2.imread(path,1)  # BGR color image reading and 0 flag for gray\n",
    "    \n",
    "    #blur = cv2.GaussianBlur(img,(5,5),0) #not good results\n",
    "    #kernel = np.ones((5,5),np.float32)/25 #averaging is not satisfying as well\n",
    "    #dst = cv2.filter2D(img,-1,kernel)\n",
    "    #median = cv2.medianBlur(img,5)#median as well\n",
    "    \n",
    "    # converting it into Hue, saturation, value (HSV)\n",
    "    hsv = cv2.cvtColor(img, cv2.COLOR_BGR2HSV)\n",
    "   \n",
    "    '''Threshold'''\n",
    "    \n",
    "    # define range of red color in HSV\n",
    "    lower = np.array(lower_bound)\n",
    "    upper = np.array(upper_bound)\n",
    "    \n",
    "    # Threshold the HSV image to get only red colors\n",
    "    mask_0 = cv2.inRange(hsv, lower, upper)\n",
    "    mask_1 = cv2.inRange(hsv,np.array(lower_bound_1),np.array(upper_bound_1))\n",
    "    mask =mask_0 + mask_1\n",
    "    \n",
    "    # Bitwise-AND mask and original image\n",
    "    res = cv2.bitwise_and(img,img, mask = mask)\n",
    "    \n",
    "    return res\n",
    "\n",
    "\n",
    "def pre_shaping(image,resol = [284,348]):\n",
    "    \n",
    "    #width = resol[1]\n",
    "    #height = resol[0]\n",
    "    #dim = (width, height) \n",
    "    \n",
    "    # resize image\n",
    "    #resized = cv2.resize(image, dim, interpolation = cv2.INTER_AREA)#INTER_LINEAR_EXACT) \n",
    "    \n",
    "    img = image\n",
    "    rows,cols = img.shape\n",
    "    \n",
    "    frame = [[0,0],[cols,0],[0,rows],[cols,rows]]\n",
    "    dimension = [[0,0],[resol[1],0],[0,resol[0]],[resol[1],resol[0]]]\n",
    "\n",
    "    pts1 = np.float32(frame)\n",
    "    pts2 = np.float32(dimension)\n",
    "\n",
    "    M = cv2.getPerspectiveTransform(pts1,pts2)\n",
    "    resized = cv2.warpPerspective(img,M,(resol[1],resol[0]))\n",
    "    \n",
    "    return resized\n",
    "\n",
    "def real_shaping(normalized_image,rows_dim,cols_dim,i = 8,j = 17):\n",
    "    \n",
    "    img = normalized_image\n",
    "    rows,cols = img.shape\n",
    "    \n",
    "    frame = [[i,j],[rows,j],[i,cols],[rows,cols]]\n",
    "    dimension = [[0,0],[cols_dim,0],[0,rows_dim],[cols_dim,rows_dim]]\n",
    "\n",
    "    pts1 = np.float32(frame)\n",
    "    pts2 = np.float32(dimension)\n",
    "\n",
    "    M = cv2.getPerspectiveTransform(pts1,pts2)\n",
    "\n",
    "    real_shape = cv2.warpPerspective(img,M,(cols_dim,rows_dim))\n",
    "    \n",
    "    return real_shape"
   ]
  },
  {
   "cell_type": "code",
   "execution_count": 61,
   "metadata": {},
   "outputs": [
    {
     "data": {
      "image/png": "[encoded data removed]",
      "text/plain": [
       "<matplotlib.figure.Figure at 0xef1d470>"
      ]
     },
     "metadata": {},
     "output_type": "display_data"
    }
   ],
   "source": [
    "'''Functions call'''\n",
    "\n",
    "path = \"C:/Users/elh/Desktop/xy.png\"\n",
    "\n",
    "''' Big defects : red_yellow'''\n",
    "\n",
    "lower_bound = [0,0,0]\n",
    "upper_bound = [90,255,255] # for more defects the upper bound can go till ~105\n",
    "\n",
    "res = defect_detection(path,lower_bound,upper_bound,[150,0,0],[179,255,255])\n",
    "\n",
    "\"\"\"Binary image to detect the center\"\"\"\n",
    "imgray = cv2.cvtColor(res,cv2.COLOR_BGR2GRAY) #convert to gray\n",
    "\n",
    "#binary thresholding \n",
    "ret,thresh = cv2.threshold(imgray,0,1,cv2.THRESH_BINARY)\n",
    "#th2 = cv2.adaptiveThreshold(imgray,255,cv2.ADAPTIVE_THRESH_GAUSSIAN_C,\\\n",
    "            #cv2.THRESH_BINARY,11,2) #consider some defects as noise\n",
    "\n",
    "\n",
    "title = 'Global Thresholding (big defects)'\n",
    "\n",
    "'''shaping'''\n",
    "#gray image\n",
    "\n",
    "#img = pre_shaping(img,resol = [350,285])\n",
    "images = [255-thresh,255-imgray]#255-img]#i,j --> y,x\n",
    "titles = ['binary image','pre_shaped gray image']\n",
    "\n",
    "multiple_imshow(1,2,images ,titles)"
   ]
  },
  {
   "cell_type": "code",
   "execution_count": 62,
   "metadata": {},
   "outputs": [],
   "source": [
    "#pre_processed_img = imgray # pre_shaped gray image\n",
    "pre_processed_img = cv2.GaussianBlur(imgray,(3,3),0)"
   ]
  },
  {
   "cell_type": "code",
   "execution_count": 63,
   "metadata": {},
   "outputs": [],
   "source": [
    "def add_neighbours_in_stack(image, a, b, stack, i, j, inComponent):\n",
    "\n",
    "    inComponent[i, j] = True\n",
    "    neighbours = [(i+1,j),(i-1,j),(i,j-1),(i,j+1)]\n",
    "    #neighbours = [(i-1,j-1),(i+1,j-1),(i+1,j),(i-1,j),(i,j-1),(i,j+1),(i-1,j+1),(i+1,j+1)]\n",
    "    for (k,l) in neighbours:\n",
    "        if 0<=k<image.shape[0] and 0<=l<image.shape[1]:\n",
    "            if (image[k,l]>a and image[k,l]<b) and not inComponent[k, l]:\n",
    "                inComponent[k, l] = True\n",
    "                stack.append((k,l))\n",
    "    return \n",
    "\n",
    "def connected_component_nb(image, seuil, i0,j0, inComponent):\n",
    "    stack = [(i0,j0)]\n",
    "    defect = []\n",
    "    nb=1\n",
    "    barycentre = [i0,j0]\n",
    "    while len(stack)>0:\n",
    "        (i,j) = stack.pop()\n",
    "        nb+=1  \n",
    "        add_neighbours_in_stack(image, seuil, 260, stack, i, j, inComponent)\n",
    "        \n",
    "        defect.append((i,j))\n",
    "        barycentre[0] += i\n",
    "        barycentre[1] += j\n",
    "            \n",
    "    barycentre[0] /= nb\n",
    "    barycentre[1] /= nb\n",
    "    \n",
    "    return nb, barycentre,defect\n",
    "\n",
    "\n",
    "def all_connected_components(image, seuil):\n",
    "\n",
    "    inComponent = np.empty(image.shape, dtype=np.bool)\n",
    "    inComponent[:, :] = False # stoping test\n",
    "\n",
    "    baryAndSizes = []\n",
    "    for i in range(image.shape[0]):\n",
    "        for j in range(image.shape[1]):\n",
    "            if image[i,j]>seuil and not inComponent[i,j]:\n",
    "                baryAndSizes.append(connected_component_nb(image,seuil,i,j,inComponent))\n",
    "                \n",
    "    return baryAndSizes\n",
    "\n",
    "\n",
    "def step2(image,defect_nb,thresh):\n",
    "    \n",
    "    imageR = image\n",
    "    imageB = image\n",
    "\n",
    "    baryAndSizesR = all_connected_components(imageR, thresh)\n",
    "    baryAndSizesB = all_connected_components(imageB, thresh)\n",
    "    \n",
    "    xR, xB = np.array([],dtype=int), np.array([],dtype=int)\n",
    "    yR, yB = np.array([],dtype=int), np.array([],dtype=int)\n",
    "    sizeR, sizeB = np.array([]), np.array([]) \n",
    "    \n",
    "    for i in range(len(baryAndSizesR)):\n",
    "        xR = np.append(xR, baryAndSizesR[i][1][0])\n",
    "        yR = np.append(yR, baryAndSizesR[i][1][1])\n",
    "        sizeR = np.append(sizeR, baryAndSizesR[i][0])\n",
    "    \n",
    "    for i in range(len(baryAndSizesB)):\n",
    "        xB = np.append(xB, baryAndSizesB[i][1][0])\n",
    "        yB = np.append(yB, baryAndSizesB[i][1][1])\n",
    "        sizeB = np.append(sizeB, baryAndSizesB[i][0])\n",
    "    \n",
    "    '''plot'''\n",
    "    fig, ax = plt.subplots(1,3, figsize = (22,12))\n",
    "    fig.suptitle('Results', fontsize=16)\n",
    "    ax[0].set_xlim(0,imageR.shape[1])\n",
    "    ax[1].set_xlim(0,imageB.shape[1])\n",
    "    ax[2].set_xlim(0,imageB.shape[1])\n",
    "    \n",
    "    title = ['Detected defects centers','Detected defects as discs']\n",
    "    ax[0].imshow(255-imageR, cmap='gray', vmin = 0, vmax = 255,)\n",
    "    ax[0].scatter(yR, xR, marker='+', s=sizeR, c = 'r', alpha = 0.5)\n",
    "    ax[0].set_title(title[0])\n",
    "    \n",
    "    ax[0].set_xlabel('x')\n",
    "    ax[0].set_ylabel('y')\n",
    "\n",
    "    ax[1].imshow(255-imageB, cmap='gray', vmin = 0, vmax = 255,)\n",
    "    ax[1].scatter(yB, xB, marker='o', s=sizeB, c = 'b', alpha = 0.5)\n",
    "    ax[1].set_title(title[1])\n",
    "    \n",
    "    ax[1].set_xlabel('x')\n",
    "    ax[1].set_ylabel('y')\n",
    "    \n",
    "    '''defects list''' \n",
    "    #print(baryAndSizesB[0][2])#exemple of defect 0\n",
    "    test = np.array([],dtype=int)\n",
    "    test = baryAndSizesB[defect_nb][2] #i.e defect number 10\n",
    "    test_x = np.ndarray(len(test))\n",
    "    test_y = np.ndarray(len(test))\n",
    "    for i in range(len(test)):\n",
    "        test_x[i] = test[i][1] #x axis\n",
    "        test_y[i] = test[i][0] #y axis\n",
    "    \n",
    "    ax[2].imshow((255-imageR), cmap='gray', vmin = 0, vmax = 255,)\n",
    "    ax[2].scatter(test_x, test_y, marker='o', s=1, c = 'b', alpha = 0.5)\n",
    "\n",
    "    test = np.stack((test_x, image.shape[0]-test_y), axis=1)\n",
    "    \n",
    "    plt.show()\n",
    "    \n",
    "    return yR, image.shape[0]-xR, sizeR,test"
   ]
  },
  {
   "cell_type": "code",
   "execution_count": 64,
   "metadata": {
    "scrolled": true
   },
   "outputs": [
    {
     "data": {
      "image/png": "[encoded data removed]",
      "text/plain": [
       "<matplotlib.figure.Figure at 0x962b3c8>"
      ]
     },
     "metadata": {},
     "output_type": "display_data"
    },
    {
     "name": "stdout",
     "output_type": "stream",
     "text": [
      "39\n"
     ]
    }
   ],
   "source": [
    "'''Call function'''\n",
    "image = pre_processed_img\n",
    "\n",
    "x, y,area ,test= step2(image,27,0)#32 no bluring\n",
    "xy = np.stack((x, y), axis=1)\n",
    "print len(x)\n"
   ]
  },
  {
   "cell_type": "markdown",
   "metadata": {},
   "source": [
    "# Rolling window 1D"
   ]
  },
  {
   "cell_type": "code",
   "execution_count": 65,
   "metadata": {},
   "outputs": [],
   "source": [
    "def rolling_window(data, window_length):\n",
    "    output_shape = data.shape[:-1] + (data.shape[-1] - window_length + 1, window_length)\n",
    "    strides = data.strides + (data.strides[-1],)\n",
    "    return np.lib.stride_tricks.as_strided(data, shape=output_shape, strides=strides)"
   ]
  },
  {
   "cell_type": "code",
   "execution_count": 66,
   "metadata": {},
   "outputs": [],
   "source": [
    "def findLocalMax(data,windowLength,alsoDetectBorderPick=False):\n",
    "    dataRoll=rolling_window(data,windowLength)\n",
    "    armax=np.argmax(dataRoll,axis=1)\n",
    "    where=np.where(armax==(windowLength//2))\n",
    "    res = where[0]+windowLength//2\n",
    "    if alsoDetectBorderPick:\n",
    "        if armax[0]==0:\n",
    "            res = np.append(res, 0)\n",
    "        if armax[-1]==windowLength-1:\n",
    "            res = np.append(res, len(data)-1)\n",
    "    return np.sort(res)"
   ]
  },
  {
   "cell_type": "code",
   "execution_count": 67,
   "metadata": {},
   "outputs": [],
   "source": [
    "data=np.eye(8)\n",
    "data[1]=3"
   ]
  },
  {
   "cell_type": "code",
   "execution_count": 68,
   "metadata": {},
   "outputs": [
    {
     "data": {
      "text/plain": [
       "array([[[1., 0., 0.],\n",
       "        [0., 0., 0.],\n",
       "        [0., 0., 0.],\n",
       "        [0., 0., 0.],\n",
       "        [0., 0., 0.],\n",
       "        [0., 0., 0.]],\n",
       "\n",
       "       [[3., 3., 3.],\n",
       "        [3., 3., 3.],\n",
       "        [3., 3., 3.],\n",
       "        [3., 3., 3.],\n",
       "        [3., 3., 3.],\n",
       "        [3., 3., 3.]],\n",
       "\n",
       "       [[0., 0., 1.],\n",
       "        [0., 1., 0.],\n",
       "        [1., 0., 0.],\n",
       "        [0., 0., 0.],\n",
       "        [0., 0., 0.],\n",
       "        [0., 0., 0.]],\n",
       "\n",
       "       [[0., 0., 0.],\n",
       "        [0., 0., 1.],\n",
       "        [0., 1., 0.],\n",
       "        [1., 0., 0.],\n",
       "        [0., 0., 0.],\n",
       "        [0., 0., 0.]],\n",
       "\n",
       "       [[0., 0., 0.],\n",
       "        [0., 0., 0.],\n",
       "        [0., 0., 1.],\n",
       "        [0., 1., 0.],\n",
       "        [1., 0., 0.],\n",
       "        [0., 0., 0.]],\n",
       "\n",
       "       [[0., 0., 0.],\n",
       "        [0., 0., 0.],\n",
       "        [0., 0., 0.],\n",
       "        [0., 0., 1.],\n",
       "        [0., 1., 0.],\n",
       "        [1., 0., 0.]],\n",
       "\n",
       "       [[0., 0., 0.],\n",
       "        [0., 0., 0.],\n",
       "        [0., 0., 0.],\n",
       "        [0., 0., 0.],\n",
       "        [0., 0., 1.],\n",
       "        [0., 1., 0.]],\n",
       "\n",
       "       [[0., 0., 0.],\n",
       "        [0., 0., 0.],\n",
       "        [0., 0., 0.],\n",
       "        [0., 0., 0.],\n",
       "        [0., 0., 0.],\n",
       "        [0., 0., 1.]]])"
      ]
     },
     "execution_count": 68,
     "metadata": {},
     "output_type": "execute_result"
    }
   ],
   "source": [
    "roll=rolling_window(data,3)\n",
    "roll"
   ]
  },
  {
   "cell_type": "code",
   "execution_count": 69,
   "metadata": {},
   "outputs": [
    {
     "data": {
      "text/plain": [
       "(8L, 6L, 3L)"
      ]
     },
     "execution_count": 69,
     "metadata": {},
     "output_type": "execute_result"
    }
   ],
   "source": [
    "roll.shape"
   ]
  },
  {
   "cell_type": "code",
   "execution_count": 70,
   "metadata": {},
   "outputs": [
    {
     "data": {
      "text/plain": [
       "array([[0, 0, 0],\n",
       "       [0, 0, 0],\n",
       "       [2, 1, 0],\n",
       "       [3, 2, 1],\n",
       "       [4, 3, 2],\n",
       "       [5, 4, 3],\n",
       "       [0, 5, 4],\n",
       "       [0, 0, 5]], dtype=int64)"
      ]
     },
     "execution_count": 70,
     "metadata": {},
     "output_type": "execute_result"
    }
   ],
   "source": [
    "np.argmax(roll,axis=1)"
   ]
  },
  {
   "cell_type": "code",
   "execution_count": 71,
   "metadata": {},
   "outputs": [
    {
     "data": {
      "text/plain": [
       "(array([2, 3], dtype=int64), array([1, 2], dtype=int64))"
      ]
     },
     "execution_count": 71,
     "metadata": {},
     "output_type": "execute_result"
    }
   ],
   "source": [
    "np.where(np.argmax(roll,axis=1)==3//2)"
   ]
  },
  {
   "cell_type": "code",
   "execution_count": 72,
   "metadata": {},
   "outputs": [
    {
     "name": "stdout",
     "output_type": "stream",
     "text": [
      "[0 4]\n",
      "[1.5 1.  1.  2.  2.2 1.  2. ]\n"
     ]
    },
    {
     "data": {
      "image/png": "[encoded data removed]",
      "text/plain": [
       "<matplotlib.figure.Figure at 0x97ab630>"
      ]
     },
     "metadata": {},
     "output_type": "display_data"
    }
   ],
   "source": [
    "\"\"\"programme de test. \n",
    "Quel formule relie data.shape, windowLength et dataRoll.shape ?\n",
    "Réponse : donnée ci-dessus\n",
    "\"\"\"\n",
    "data=np.ones(7)\n",
    "data[0]=1.5\n",
    "data[3]=2\n",
    "data[4]=2.2\n",
    "data[6]=1.1\n",
    "data[-1]=2\n",
    "plt.plot(range(len(data)),data,\".\");\n",
    "plt.xticks(range(len(data)));\n",
    "\n",
    "locMax=findLocalMax(data,3, True)\n",
    "print(locMax)\n",
    "plt.plot(locMax,data[locMax],\"+\");\n",
    "print data"
   ]
  },
  {
   "cell_type": "markdown",
   "metadata": {},
   "source": [
    "# Rolling window 2D"
   ]
  },
  {
   "cell_type": "markdown",
   "metadata": {},
   "source": [
    "## max fonction"
   ]
  },
  {
   "cell_type": "code",
   "execution_count": 73,
   "metadata": {},
   "outputs": [],
   "source": [
    "\"\"\" this function produce a rolling window which is just a view on the data: \n",
    "= a special way to move in the data. No copy is made.\n",
    "\"\"\"\n",
    "def rolling_windows_img(a,kshape):\n",
    "    outShape=(a.shape[0]-kshape[0]+1,)+(a.shape[1]-kshape[1]+1,)+kshape\n",
    "    outStrides=a.strides+a.strides\n",
    "    return np.lib.stride_tricks.as_strided(a,shape=outShape,strides=outStrides)"
   ]
  },
  {
   "cell_type": "code",
   "execution_count": 74,
   "metadata": {},
   "outputs": [],
   "source": [
    "def findLocalMax(data,kshape,minimum):\n",
    "    \n",
    "    dataRoll = rolling_windows_img(data,kshape)\n",
    "    a,b = dataRoll.shape[0],dataRoll.shape[1]\n",
    "    L = a*b\n",
    "    W = kshape[0]*kshape[1]\n",
    "    dataRoll = dataRoll.reshape(L,W)\n",
    "    \n",
    "    if minimum == True:\n",
    "        armin = np.argmin(dataRoll,axis=1)\n",
    "    else:\n",
    "        armin = np.argmax(dataRoll,axis=1)\n",
    "    \n",
    "   \n",
    "    res=np.array([])\n",
    "    for i, j in enumerate(armin):\n",
    "        if j == W//2:\n",
    "            where = np.where((dataRoll[i,:] == dataRoll[i,j]) & (dataRoll[i,j] > 0))[0]\n",
    "\n",
    "            #if (W//2 in where) :\n",
    "            coord = np.array([(i//b)+ kshape[0]//2,(i%a)+ kshape[1]//2])\n",
    "            res = np.append(res, coord)\n",
    "\n",
    "    res = res.reshape(res.size//2,2)            \n",
    "    print (res)\n",
    "    \n",
    "    return np.sort(res)"
   ]
  },
  {
   "cell_type": "code",
   "execution_count": 75,
   "metadata": {},
   "outputs": [
    {
     "name": "stdout",
     "output_type": "stream",
     "text": [
      "[[3. 3.]]\n"
     ]
    },
    {
     "data": {
      "text/plain": [
       "array([[2., 2., 1., 2., 2.],\n",
       "       [2., 1., 2., 2., 2.],\n",
       "       [2., 2., 2., 2., 2.],\n",
       "       [2., 2., 2., 1., 2.],\n",
       "       [2., 2., 2., 2., 2.]])"
      ]
     },
     "execution_count": 75,
     "metadata": {},
     "output_type": "execute_result"
    }
   ],
   "source": [
    "inputs=np.ones((5,5))*2\n",
    "\n",
    "inputs[1,1]=1\n",
    "inputs[0,2]=1\n",
    "inputs[3,3]=1\n",
    "findLocalMax(inputs,(3,3),True)\n",
    "inputs"
   ]
  },
  {
   "cell_type": "markdown",
   "metadata": {},
   "source": [
    "## Defect function"
   ]
  },
  {
   "cell_type": "code",
   "execution_count": 76,
   "metadata": {},
   "outputs": [],
   "source": [
    "def get_defect_intensity(img,defect): #pixel should np.array (x,y)\n",
    "    \n",
    "    defect = np.array(defect,dtype=np.uint64)\n",
    "    intensity = img[img.shape[0]-defect[:,1],defect[:,0]]\n",
    "    \n",
    "    return intensity"
   ]
  },
  {
   "cell_type": "code",
   "execution_count": 77,
   "metadata": {},
   "outputs": [
    {
     "data": {
      "text/plain": [
       "((328L, 2L), (803L, 650L))"
      ]
     },
     "execution_count": 77,
     "metadata": {},
     "output_type": "execute_result"
    }
   ],
   "source": [
    "defect = np.array(test,dtype=np.uint64)\n",
    "img = image\n",
    "#img = cv2.GaussianBlur(image,(3,3),0)\n",
    "test.shape,img.shape"
   ]
  },
  {
   "cell_type": "code",
   "execution_count": 78,
   "metadata": {},
   "outputs": [
    {
     "data": {
      "text/plain": [
       "(328L,)"
      ]
     },
     "execution_count": 78,
     "metadata": {},
     "output_type": "execute_result"
    }
   ],
   "source": [
    "get_defect_intensity(img,defect).shape"
   ]
  },
  {
   "cell_type": "code",
   "execution_count": 79,
   "metadata": {},
   "outputs": [],
   "source": [
    "i_min = np.min(img.shape[0]-defect[:,1])\n",
    "i_max = np.max(img.shape[0]-defect[:,1]+1)\n",
    "j_min = np.min(defect[:,0])\n",
    "j_max = np.max(defect[:,0]+1)"
   ]
  },
  {
   "cell_type": "code",
   "execution_count": 80,
   "metadata": {},
   "outputs": [
    {
     "data": {
      "text/plain": [
       "True"
      ]
     },
     "execution_count": 80,
     "metadata": {},
     "output_type": "execute_result"
    }
   ],
   "source": [
    "img[i_min:i_max,j_min:j_max][img[i_min:i_max,j_min:j_max]!= 0].shape\\\n",
    "== get_defect_intensity(img,defect).shape"
   ]
  },
  {
   "cell_type": "code",
   "execution_count": 81,
   "metadata": {},
   "outputs": [
    {
     "data": {
      "text/html": [
       "<div>\n",
       "<style scoped>\n",
       "    .dataframe tbody tr th:only-of-type {\n",
       "        vertical-align: middle;\n",
       "    }\n",
       "\n",
       "    .dataframe tbody tr th {\n",
       "        vertical-align: top;\n",
       "    }\n",
       "\n",
       "    .dataframe thead th {\n",
       "        text-align: right;\n",
       "    }\n",
       "</style>\n",
       "<table border=\"1\" class=\"dataframe\">\n",
       "  <thead>\n",
       "    <tr style=\"text-align: right;\">\n",
       "      <th></th>\n",
       "      <th>0</th>\n",
       "      <th>1</th>\n",
       "      <th>2</th>\n",
       "      <th>3</th>\n",
       "      <th>4</th>\n",
       "      <th>5</th>\n",
       "      <th>6</th>\n",
       "      <th>7</th>\n",
       "      <th>8</th>\n",
       "      <th>9</th>\n",
       "      <th>...</th>\n",
       "      <th>12</th>\n",
       "      <th>13</th>\n",
       "      <th>14</th>\n",
       "      <th>15</th>\n",
       "      <th>16</th>\n",
       "      <th>17</th>\n",
       "      <th>18</th>\n",
       "      <th>19</th>\n",
       "      <th>20</th>\n",
       "      <th>21</th>\n",
       "    </tr>\n",
       "  </thead>\n",
       "  <tbody>\n",
       "    <tr>\n",
       "      <th>0</th>\n",
       "      <td>0.0</td>\n",
       "      <td>0.0</td>\n",
       "      <td>0.0</td>\n",
       "      <td>0.0</td>\n",
       "      <td>0.0</td>\n",
       "      <td>0.0</td>\n",
       "      <td>0.0</td>\n",
       "      <td>0.0</td>\n",
       "      <td>0.0</td>\n",
       "      <td>0.0</td>\n",
       "      <td>...</td>\n",
       "      <td>0.0</td>\n",
       "      <td>0.0</td>\n",
       "      <td>7.0</td>\n",
       "      <td>23.0</td>\n",
       "      <td>33.0</td>\n",
       "      <td>25.0</td>\n",
       "      <td>8.0</td>\n",
       "      <td>0.0</td>\n",
       "      <td>0.0</td>\n",
       "      <td>0.0</td>\n",
       "    </tr>\n",
       "    <tr>\n",
       "      <th>1</th>\n",
       "      <td>0.0</td>\n",
       "      <td>0.0</td>\n",
       "      <td>0.0</td>\n",
       "      <td>0.0</td>\n",
       "      <td>0.0</td>\n",
       "      <td>0.0</td>\n",
       "      <td>0.0</td>\n",
       "      <td>0.0</td>\n",
       "      <td>0.0</td>\n",
       "      <td>0.0</td>\n",
       "      <td>...</td>\n",
       "      <td>0.0</td>\n",
       "      <td>0.0</td>\n",
       "      <td>25.0</td>\n",
       "      <td>79.0</td>\n",
       "      <td>108.0</td>\n",
       "      <td>81.0</td>\n",
       "      <td>26.0</td>\n",
       "      <td>0.0</td>\n",
       "      <td>0.0</td>\n",
       "      <td>0.0</td>\n",
       "    </tr>\n",
       "    <tr>\n",
       "      <th>2</th>\n",
       "      <td>0.0</td>\n",
       "      <td>0.0</td>\n",
       "      <td>0.0</td>\n",
       "      <td>0.0</td>\n",
       "      <td>0.0</td>\n",
       "      <td>0.0</td>\n",
       "      <td>0.0</td>\n",
       "      <td>0.0</td>\n",
       "      <td>0.0</td>\n",
       "      <td>0.0</td>\n",
       "      <td>...</td>\n",
       "      <td>25.0</td>\n",
       "      <td>38.0</td>\n",
       "      <td>70.0</td>\n",
       "      <td>127.0</td>\n",
       "      <td>157.0</td>\n",
       "      <td>129.0</td>\n",
       "      <td>60.0</td>\n",
       "      <td>11.0</td>\n",
       "      <td>0.0</td>\n",
       "      <td>0.0</td>\n",
       "    </tr>\n",
       "    <tr>\n",
       "      <th>3</th>\n",
       "      <td>0.0</td>\n",
       "      <td>0.0</td>\n",
       "      <td>0.0</td>\n",
       "      <td>0.0</td>\n",
       "      <td>0.0</td>\n",
       "      <td>0.0</td>\n",
       "      <td>0.0</td>\n",
       "      <td>0.0</td>\n",
       "      <td>0.0</td>\n",
       "      <td>0.0</td>\n",
       "      <td>...</td>\n",
       "      <td>81.0</td>\n",
       "      <td>116.0</td>\n",
       "      <td>129.0</td>\n",
       "      <td>145.0</td>\n",
       "      <td>152.0</td>\n",
       "      <td>145.0</td>\n",
       "      <td>101.0</td>\n",
       "      <td>31.0</td>\n",
       "      <td>0.0</td>\n",
       "      <td>0.0</td>\n",
       "    </tr>\n",
       "    <tr>\n",
       "      <th>4</th>\n",
       "      <td>0.0</td>\n",
       "      <td>0.0</td>\n",
       "      <td>0.0</td>\n",
       "      <td>0.0</td>\n",
       "      <td>0.0</td>\n",
       "      <td>0.0</td>\n",
       "      <td>0.0</td>\n",
       "      <td>0.0</td>\n",
       "      <td>0.0</td>\n",
       "      <td>8.0</td>\n",
       "      <td>...</td>\n",
       "      <td>126.0</td>\n",
       "      <td>153.0</td>\n",
       "      <td>145.0</td>\n",
       "      <td>133.0</td>\n",
       "      <td>126.0</td>\n",
       "      <td>134.0</td>\n",
       "      <td>121.0</td>\n",
       "      <td>60.0</td>\n",
       "      <td>10.0</td>\n",
       "      <td>0.0</td>\n",
       "    </tr>\n",
       "    <tr>\n",
       "      <th>5</th>\n",
       "      <td>0.0</td>\n",
       "      <td>0.0</td>\n",
       "      <td>0.0</td>\n",
       "      <td>0.0</td>\n",
       "      <td>0.0</td>\n",
       "      <td>0.0</td>\n",
       "      <td>0.0</td>\n",
       "      <td>0.0</td>\n",
       "      <td>0.0</td>\n",
       "      <td>27.0</td>\n",
       "      <td>...</td>\n",
       "      <td>149.0</td>\n",
       "      <td>141.0</td>\n",
       "      <td>122.0</td>\n",
       "      <td>108.0</td>\n",
       "      <td>102.0</td>\n",
       "      <td>113.0</td>\n",
       "      <td>128.0</td>\n",
       "      <td>97.0</td>\n",
       "      <td>31.0</td>\n",
       "      <td>0.0</td>\n",
       "    </tr>\n",
       "    <tr>\n",
       "      <th>6</th>\n",
       "      <td>0.0</td>\n",
       "      <td>0.0</td>\n",
       "      <td>9.0</td>\n",
       "      <td>30.0</td>\n",
       "      <td>43.0</td>\n",
       "      <td>42.0</td>\n",
       "      <td>35.0</td>\n",
       "      <td>32.0</td>\n",
       "      <td>38.0</td>\n",
       "      <td>76.0</td>\n",
       "      <td>...</td>\n",
       "      <td>148.0</td>\n",
       "      <td>121.0</td>\n",
       "      <td>102.0</td>\n",
       "      <td>90.0</td>\n",
       "      <td>87.0</td>\n",
       "      <td>98.0</td>\n",
       "      <td>125.0</td>\n",
       "      <td>118.0</td>\n",
       "      <td>54.0</td>\n",
       "      <td>7.0</td>\n",
       "    </tr>\n",
       "    <tr>\n",
       "      <th>7</th>\n",
       "      <td>0.0</td>\n",
       "      <td>0.0</td>\n",
       "      <td>31.0</td>\n",
       "      <td>98.0</td>\n",
       "      <td>138.0</td>\n",
       "      <td>132.0</td>\n",
       "      <td>110.0</td>\n",
       "      <td>102.0</td>\n",
       "      <td>122.0</td>\n",
       "      <td>152.0</td>\n",
       "      <td>...</td>\n",
       "      <td>132.0</td>\n",
       "      <td>103.0</td>\n",
       "      <td>88.0</td>\n",
       "      <td>82.0</td>\n",
       "      <td>81.0</td>\n",
       "      <td>88.0</td>\n",
       "      <td>113.0</td>\n",
       "      <td>127.0</td>\n",
       "      <td>85.0</td>\n",
       "      <td>23.0</td>\n",
       "    </tr>\n",
       "    <tr>\n",
       "      <th>8</th>\n",
       "      <td>8.0</td>\n",
       "      <td>29.0</td>\n",
       "      <td>80.0</td>\n",
       "      <td>159.0</td>\n",
       "      <td>200.0</td>\n",
       "      <td>190.0</td>\n",
       "      <td>160.0</td>\n",
       "      <td>149.0</td>\n",
       "      <td>172.0</td>\n",
       "      <td>190.0</td>\n",
       "      <td>...</td>\n",
       "      <td>121.0</td>\n",
       "      <td>95.0</td>\n",
       "      <td>83.0</td>\n",
       "      <td>79.0</td>\n",
       "      <td>78.0</td>\n",
       "      <td>84.0</td>\n",
       "      <td>108.0</td>\n",
       "      <td>135.0</td>\n",
       "      <td>109.0</td>\n",
       "      <td>36.0</td>\n",
       "    </tr>\n",
       "    <tr>\n",
       "      <th>9</th>\n",
       "      <td>26.0</td>\n",
       "      <td>89.0</td>\n",
       "      <td>153.0</td>\n",
       "      <td>195.0</td>\n",
       "      <td>210.0</td>\n",
       "      <td>200.0</td>\n",
       "      <td>175.0</td>\n",
       "      <td>163.0</td>\n",
       "      <td>176.0</td>\n",
       "      <td>185.0</td>\n",
       "      <td>...</td>\n",
       "      <td>115.0</td>\n",
       "      <td>92.0</td>\n",
       "      <td>81.0</td>\n",
       "      <td>78.0</td>\n",
       "      <td>77.0</td>\n",
       "      <td>82.0</td>\n",
       "      <td>104.0</td>\n",
       "      <td>135.0</td>\n",
       "      <td>116.0</td>\n",
       "      <td>41.0</td>\n",
       "    </tr>\n",
       "    <tr>\n",
       "      <th>10</th>\n",
       "      <td>39.0</td>\n",
       "      <td>128.0</td>\n",
       "      <td>193.0</td>\n",
       "      <td>208.0</td>\n",
       "      <td>207.0</td>\n",
       "      <td>202.0</td>\n",
       "      <td>186.0</td>\n",
       "      <td>173.0</td>\n",
       "      <td>177.0</td>\n",
       "      <td>179.0</td>\n",
       "      <td>...</td>\n",
       "      <td>110.0</td>\n",
       "      <td>88.0</td>\n",
       "      <td>79.0</td>\n",
       "      <td>79.0</td>\n",
       "      <td>79.0</td>\n",
       "      <td>82.0</td>\n",
       "      <td>99.0</td>\n",
       "      <td>132.0</td>\n",
       "      <td>118.0</td>\n",
       "      <td>42.0</td>\n",
       "    </tr>\n",
       "    <tr>\n",
       "      <th>11</th>\n",
       "      <td>41.0</td>\n",
       "      <td>134.0</td>\n",
       "      <td>197.0</td>\n",
       "      <td>205.0</td>\n",
       "      <td>204.0</td>\n",
       "      <td>203.0</td>\n",
       "      <td>191.0</td>\n",
       "      <td>178.0</td>\n",
       "      <td>178.0</td>\n",
       "      <td>176.0</td>\n",
       "      <td>...</td>\n",
       "      <td>107.0</td>\n",
       "      <td>87.0</td>\n",
       "      <td>78.0</td>\n",
       "      <td>78.0</td>\n",
       "      <td>80.0</td>\n",
       "      <td>81.0</td>\n",
       "      <td>96.0</td>\n",
       "      <td>130.0</td>\n",
       "      <td>119.0</td>\n",
       "      <td>43.0</td>\n",
       "    </tr>\n",
       "    <tr>\n",
       "      <th>12</th>\n",
       "      <td>31.0</td>\n",
       "      <td>99.0</td>\n",
       "      <td>155.0</td>\n",
       "      <td>187.0</td>\n",
       "      <td>203.0</td>\n",
       "      <td>202.0</td>\n",
       "      <td>183.0</td>\n",
       "      <td>169.0</td>\n",
       "      <td>174.0</td>\n",
       "      <td>175.0</td>\n",
       "      <td>...</td>\n",
       "      <td>109.0</td>\n",
       "      <td>89.0</td>\n",
       "      <td>80.0</td>\n",
       "      <td>78.0</td>\n",
       "      <td>79.0</td>\n",
       "      <td>81.0</td>\n",
       "      <td>95.0</td>\n",
       "      <td>132.0</td>\n",
       "      <td>121.0</td>\n",
       "      <td>44.0</td>\n",
       "    </tr>\n",
       "    <tr>\n",
       "      <th>13</th>\n",
       "      <td>10.0</td>\n",
       "      <td>32.0</td>\n",
       "      <td>76.0</td>\n",
       "      <td>144.0</td>\n",
       "      <td>189.0</td>\n",
       "      <td>188.0</td>\n",
       "      <td>160.0</td>\n",
       "      <td>146.0</td>\n",
       "      <td>166.0</td>\n",
       "      <td>182.0</td>\n",
       "      <td>...</td>\n",
       "      <td>115.0</td>\n",
       "      <td>94.0</td>\n",
       "      <td>82.0</td>\n",
       "      <td>78.0</td>\n",
       "      <td>78.0</td>\n",
       "      <td>81.0</td>\n",
       "      <td>99.0</td>\n",
       "      <td>135.0</td>\n",
       "      <td>120.0</td>\n",
       "      <td>42.0</td>\n",
       "    </tr>\n",
       "    <tr>\n",
       "      <th>14</th>\n",
       "      <td>0.0</td>\n",
       "      <td>0.0</td>\n",
       "      <td>26.0</td>\n",
       "      <td>84.0</td>\n",
       "      <td>126.0</td>\n",
       "      <td>127.0</td>\n",
       "      <td>104.0</td>\n",
       "      <td>95.0</td>\n",
       "      <td>129.0</td>\n",
       "      <td>173.0</td>\n",
       "      <td>...</td>\n",
       "      <td>128.0</td>\n",
       "      <td>101.0</td>\n",
       "      <td>87.0</td>\n",
       "      <td>81.0</td>\n",
       "      <td>80.0</td>\n",
       "      <td>85.0</td>\n",
       "      <td>106.0</td>\n",
       "      <td>137.0</td>\n",
       "      <td>115.0</td>\n",
       "      <td>39.0</td>\n",
       "    </tr>\n",
       "    <tr>\n",
       "      <th>15</th>\n",
       "      <td>0.0</td>\n",
       "      <td>0.0</td>\n",
       "      <td>7.0</td>\n",
       "      <td>25.0</td>\n",
       "      <td>38.0</td>\n",
       "      <td>39.0</td>\n",
       "      <td>31.0</td>\n",
       "      <td>29.0</td>\n",
       "      <td>67.0</td>\n",
       "      <td>139.0</td>\n",
       "      <td>...</td>\n",
       "      <td>144.0</td>\n",
       "      <td>115.0</td>\n",
       "      <td>96.0</td>\n",
       "      <td>87.0</td>\n",
       "      <td>85.0</td>\n",
       "      <td>93.0</td>\n",
       "      <td>116.0</td>\n",
       "      <td>140.0</td>\n",
       "      <td>110.0</td>\n",
       "      <td>35.0</td>\n",
       "    </tr>\n",
       "    <tr>\n",
       "      <th>16</th>\n",
       "      <td>0.0</td>\n",
       "      <td>0.0</td>\n",
       "      <td>0.0</td>\n",
       "      <td>0.0</td>\n",
       "      <td>0.0</td>\n",
       "      <td>0.0</td>\n",
       "      <td>0.0</td>\n",
       "      <td>0.0</td>\n",
       "      <td>26.0</td>\n",
       "      <td>84.0</td>\n",
       "      <td>...</td>\n",
       "      <td>159.0</td>\n",
       "      <td>131.0</td>\n",
       "      <td>110.0</td>\n",
       "      <td>99.0</td>\n",
       "      <td>96.0</td>\n",
       "      <td>106.0</td>\n",
       "      <td>129.0</td>\n",
       "      <td>137.0</td>\n",
       "      <td>90.0</td>\n",
       "      <td>25.0</td>\n",
       "    </tr>\n",
       "    <tr>\n",
       "      <th>17</th>\n",
       "      <td>0.0</td>\n",
       "      <td>0.0</td>\n",
       "      <td>0.0</td>\n",
       "      <td>0.0</td>\n",
       "      <td>0.0</td>\n",
       "      <td>0.0</td>\n",
       "      <td>0.0</td>\n",
       "      <td>0.0</td>\n",
       "      <td>8.0</td>\n",
       "      <td>26.0</td>\n",
       "      <td>...</td>\n",
       "      <td>165.0</td>\n",
       "      <td>149.0</td>\n",
       "      <td>130.0</td>\n",
       "      <td>119.0</td>\n",
       "      <td>115.0</td>\n",
       "      <td>125.0</td>\n",
       "      <td>144.0</td>\n",
       "      <td>124.0</td>\n",
       "      <td>55.0</td>\n",
       "      <td>8.0</td>\n",
       "    </tr>\n",
       "    <tr>\n",
       "      <th>18</th>\n",
       "      <td>0.0</td>\n",
       "      <td>0.0</td>\n",
       "      <td>0.0</td>\n",
       "      <td>0.0</td>\n",
       "      <td>0.0</td>\n",
       "      <td>0.0</td>\n",
       "      <td>0.0</td>\n",
       "      <td>0.0</td>\n",
       "      <td>0.0</td>\n",
       "      <td>0.0</td>\n",
       "      <td>...</td>\n",
       "      <td>123.0</td>\n",
       "      <td>134.0</td>\n",
       "      <td>145.0</td>\n",
       "      <td>145.0</td>\n",
       "      <td>141.0</td>\n",
       "      <td>148.0</td>\n",
       "      <td>144.0</td>\n",
       "      <td>94.0</td>\n",
       "      <td>27.0</td>\n",
       "      <td>0.0</td>\n",
       "    </tr>\n",
       "    <tr>\n",
       "      <th>19</th>\n",
       "      <td>0.0</td>\n",
       "      <td>0.0</td>\n",
       "      <td>0.0</td>\n",
       "      <td>0.0</td>\n",
       "      <td>0.0</td>\n",
       "      <td>0.0</td>\n",
       "      <td>0.0</td>\n",
       "      <td>0.0</td>\n",
       "      <td>0.0</td>\n",
       "      <td>0.0</td>\n",
       "      <td>...</td>\n",
       "      <td>40.0</td>\n",
       "      <td>71.0</td>\n",
       "      <td>128.0</td>\n",
       "      <td>157.0</td>\n",
       "      <td>158.0</td>\n",
       "      <td>156.0</td>\n",
       "      <td>121.0</td>\n",
       "      <td>53.0</td>\n",
       "      <td>8.0</td>\n",
       "      <td>0.0</td>\n",
       "    </tr>\n",
       "    <tr>\n",
       "      <th>20</th>\n",
       "      <td>0.0</td>\n",
       "      <td>0.0</td>\n",
       "      <td>0.0</td>\n",
       "      <td>0.0</td>\n",
       "      <td>0.0</td>\n",
       "      <td>0.0</td>\n",
       "      <td>0.0</td>\n",
       "      <td>0.0</td>\n",
       "      <td>0.0</td>\n",
       "      <td>0.0</td>\n",
       "      <td>...</td>\n",
       "      <td>0.0</td>\n",
       "      <td>24.0</td>\n",
       "      <td>76.0</td>\n",
       "      <td>109.0</td>\n",
       "      <td>115.0</td>\n",
       "      <td>109.0</td>\n",
       "      <td>74.0</td>\n",
       "      <td>23.0</td>\n",
       "      <td>0.0</td>\n",
       "      <td>0.0</td>\n",
       "    </tr>\n",
       "    <tr>\n",
       "      <th>21</th>\n",
       "      <td>0.0</td>\n",
       "      <td>0.0</td>\n",
       "      <td>0.0</td>\n",
       "      <td>0.0</td>\n",
       "      <td>0.0</td>\n",
       "      <td>0.0</td>\n",
       "      <td>0.0</td>\n",
       "      <td>0.0</td>\n",
       "      <td>0.0</td>\n",
       "      <td>0.0</td>\n",
       "      <td>...</td>\n",
       "      <td>0.0</td>\n",
       "      <td>7.0</td>\n",
       "      <td>22.0</td>\n",
       "      <td>33.0</td>\n",
       "      <td>36.0</td>\n",
       "      <td>34.0</td>\n",
       "      <td>22.0</td>\n",
       "      <td>7.0</td>\n",
       "      <td>0.0</td>\n",
       "      <td>0.0</td>\n",
       "    </tr>\n",
       "  </tbody>\n",
       "</table>\n",
       "<p>22 rows × 22 columns</p>\n",
       "</div>"
      ],
      "text/plain": [
       "      0      1      2      3      4      5      6      7      8      9   ...   \\\n",
       "0    0.0    0.0    0.0    0.0    0.0    0.0    0.0    0.0    0.0    0.0  ...    \n",
       "1    0.0    0.0    0.0    0.0    0.0    0.0    0.0    0.0    0.0    0.0  ...    \n",
       "2    0.0    0.0    0.0    0.0    0.0    0.0    0.0    0.0    0.0    0.0  ...    \n",
       "3    0.0    0.0    0.0    0.0    0.0    0.0    0.0    0.0    0.0    0.0  ...    \n",
       "4    0.0    0.0    0.0    0.0    0.0    0.0    0.0    0.0    0.0    8.0  ...    \n",
       "5    0.0    0.0    0.0    0.0    0.0    0.0    0.0    0.0    0.0   27.0  ...    \n",
       "6    0.0    0.0    9.0   30.0   43.0   42.0   35.0   32.0   38.0   76.0  ...    \n",
       "7    0.0    0.0   31.0   98.0  138.0  132.0  110.0  102.0  122.0  152.0  ...    \n",
       "8    8.0   29.0   80.0  159.0  200.0  190.0  160.0  149.0  172.0  190.0  ...    \n",
       "9   26.0   89.0  153.0  195.0  210.0  200.0  175.0  163.0  176.0  185.0  ...    \n",
       "10  39.0  128.0  193.0  208.0  207.0  202.0  186.0  173.0  177.0  179.0  ...    \n",
       "11  41.0  134.0  197.0  205.0  204.0  203.0  191.0  178.0  178.0  176.0  ...    \n",
       "12  31.0   99.0  155.0  187.0  203.0  202.0  183.0  169.0  174.0  175.0  ...    \n",
       "13  10.0   32.0   76.0  144.0  189.0  188.0  160.0  146.0  166.0  182.0  ...    \n",
       "14   0.0    0.0   26.0   84.0  126.0  127.0  104.0   95.0  129.0  173.0  ...    \n",
       "15   0.0    0.0    7.0   25.0   38.0   39.0   31.0   29.0   67.0  139.0  ...    \n",
       "16   0.0    0.0    0.0    0.0    0.0    0.0    0.0    0.0   26.0   84.0  ...    \n",
       "17   0.0    0.0    0.0    0.0    0.0    0.0    0.0    0.0    8.0   26.0  ...    \n",
       "18   0.0    0.0    0.0    0.0    0.0    0.0    0.0    0.0    0.0    0.0  ...    \n",
       "19   0.0    0.0    0.0    0.0    0.0    0.0    0.0    0.0    0.0    0.0  ...    \n",
       "20   0.0    0.0    0.0    0.0    0.0    0.0    0.0    0.0    0.0    0.0  ...    \n",
       "21   0.0    0.0    0.0    0.0    0.0    0.0    0.0    0.0    0.0    0.0  ...    \n",
       "\n",
       "       12     13     14     15     16     17     18     19     20    21  \n",
       "0     0.0    0.0    7.0   23.0   33.0   25.0    8.0    0.0    0.0   0.0  \n",
       "1     0.0    0.0   25.0   79.0  108.0   81.0   26.0    0.0    0.0   0.0  \n",
       "2    25.0   38.0   70.0  127.0  157.0  129.0   60.0   11.0    0.0   0.0  \n",
       "3    81.0  116.0  129.0  145.0  152.0  145.0  101.0   31.0    0.0   0.0  \n",
       "4   126.0  153.0  145.0  133.0  126.0  134.0  121.0   60.0   10.0   0.0  \n",
       "5   149.0  141.0  122.0  108.0  102.0  113.0  128.0   97.0   31.0   0.0  \n",
       "6   148.0  121.0  102.0   90.0   87.0   98.0  125.0  118.0   54.0   7.0  \n",
       "7   132.0  103.0   88.0   82.0   81.0   88.0  113.0  127.0   85.0  23.0  \n",
       "8   121.0   95.0   83.0   79.0   78.0   84.0  108.0  135.0  109.0  36.0  \n",
       "9   115.0   92.0   81.0   78.0   77.0   82.0  104.0  135.0  116.0  41.0  \n",
       "10  110.0   88.0   79.0   79.0   79.0   82.0   99.0  132.0  118.0  42.0  \n",
       "11  107.0   87.0   78.0   78.0   80.0   81.0   96.0  130.0  119.0  43.0  \n",
       "12  109.0   89.0   80.0   78.0   79.0   81.0   95.0  132.0  121.0  44.0  \n",
       "13  115.0   94.0   82.0   78.0   78.0   81.0   99.0  135.0  120.0  42.0  \n",
       "14  128.0  101.0   87.0   81.0   80.0   85.0  106.0  137.0  115.0  39.0  \n",
       "15  144.0  115.0   96.0   87.0   85.0   93.0  116.0  140.0  110.0  35.0  \n",
       "16  159.0  131.0  110.0   99.0   96.0  106.0  129.0  137.0   90.0  25.0  \n",
       "17  165.0  149.0  130.0  119.0  115.0  125.0  144.0  124.0   55.0   8.0  \n",
       "18  123.0  134.0  145.0  145.0  141.0  148.0  144.0   94.0   27.0   0.0  \n",
       "19   40.0   71.0  128.0  157.0  158.0  156.0  121.0   53.0    8.0   0.0  \n",
       "20    0.0   24.0   76.0  109.0  115.0  109.0   74.0   23.0    0.0   0.0  \n",
       "21    0.0    7.0   22.0   33.0   36.0   34.0   22.0    7.0    0.0   0.0  \n",
       "\n",
       "[22 rows x 22 columns]"
      ]
     },
     "execution_count": 81,
     "metadata": {},
     "output_type": "execute_result"
    }
   ],
   "source": [
    "defect_shape = img[i_min:i_max,j_min:j_max].shape\n",
    "dim = np.max(defect_shape)\n",
    "case = np.zeros((dim,dim))\n",
    "case[0:defect_shape[0],0:defect_shape[1]] = img[i_min:i_max,j_min:j_max].copy()\n",
    "df = pd.DataFrame(case)\n",
    "df"
   ]
  },
  {
   "cell_type": "markdown",
   "metadata": {},
   "source": [
    "## defect minima"
   ]
  },
  {
   "cell_type": "code",
   "execution_count": 82,
   "metadata": {},
   "outputs": [
    {
     "data": {
      "image/png": "[encoded data removed]",
      "text/plain": [
       "<matplotlib.figure.Figure at 0x95b6940>"
      ]
     },
     "metadata": {},
     "output_type": "display_data"
    }
   ],
   "source": [
    "from mpl_toolkits.mplot3d import Axes3D\n",
    "from matplotlib import cm\n",
    "from matplotlib.ticker import LinearLocator, FormatStrFormatter\n",
    "\n",
    "fig = plt.figure(figsize=plt.figaspect(0.2))\n",
    "ax0 = fig.add_subplot(1, 2, 1, projection='3d')\n",
    "\n",
    "\n",
    "# Make data.\n",
    "X = np.arange(0, case.shape[0], 1)\n",
    "Y = np.arange(0, case.shape[0], 1)\n",
    "X, Y = np.meshgrid(X, Y)\n",
    "Z = (case,case)\n",
    "\n",
    "# Plot the surface.\n",
    "surf0 = ax0.plot_surface(X, Y, Z[0], cmap=cm.coolwarm,\n",
    "                       linewidth=0, antialiased=True)\n",
    "\n",
    "# Customize the z axis.\n",
    "#ax0.set_zlim(0, 255)\n",
    "#ax0.zaxis.set_major_locator(LinearLocator(10))\n",
    "#ax0.zaxis.set_major_formatter(FormatStrFormatter('%.d'))\n",
    "\n",
    "# Add a color bar which maps values to colors.\n",
    "\n",
    "ax1 = fig.add_subplot(1, 2, 2, projection='3d')\n",
    "\n",
    "surf1 = ax1.plot_surface( Y, Z[0],X, cmap=cm.coolwarm,\n",
    "                       linewidth=1, antialiased=True)\n",
    "\n",
    "ax0.set_title('original defect')\n",
    "ax1.set_title('upper perspective')\n",
    "plt.savefig('fig')\n",
    "\n",
    "plt.show()"
   ]
  },
  {
   "cell_type": "markdown",
   "metadata": {},
   "source": [
    "### Minimum"
   ]
  },
  {
   "cell_type": "code",
   "execution_count": 83,
   "metadata": {},
   "outputs": [
    {
     "name": "stdout",
     "output_type": "stream",
     "text": [
      "[[ 9. 16.]\n",
      " [11. 14.]]\n"
     ]
    }
   ],
   "source": [
    "mini = findLocalMax(case,(3,3),True) #i,j"
   ]
  },
  {
   "cell_type": "code",
   "execution_count": 84,
   "metadata": {},
   "outputs": [],
   "source": [
    "points = np.where(case!=0)\n",
    "pts = np.stack((points[1],points[0]),axis =-1)"
   ]
  },
  {
   "cell_type": "code",
   "execution_count": 85,
   "metadata": {},
   "outputs": [
    {
     "name": "stdout",
     "output_type": "stream",
     "text": [
      "[ 9. 16.]\n",
      "[11. 14.]\n"
     ]
    },
    {
     "data": {
      "image/png": "[encoded data removed]",
      "text/plain": [
       "<matplotlib.figure.Figure at 0x1010bba8>"
      ]
     },
     "metadata": {},
     "output_type": "display_data"
    }
   ],
   "source": [
    "plt.plot(pts[:,0],pts[:,1],\"+\");\n",
    "for centroid in mini: #reverse a\n",
    "    print centroid\n",
    "    plt.plot(centroid[1],centroid[0],\"o\")"
   ]
  },
  {
   "cell_type": "markdown",
   "metadata": {},
   "source": [
    "### Maximum"
   ]
  },
  {
   "cell_type": "code",
   "execution_count": 86,
   "metadata": {},
   "outputs": [
    {
     "name": "stdout",
     "output_type": "stream",
     "text": [
      "[[ 2. 16.]\n",
      " [ 4. 13.]\n",
      " [ 8.  9.]\n",
      " [ 8. 19.]\n",
      " [ 9.  4.]\n",
      " [13.  9.]\n",
      " [15. 19.]\n",
      " [17. 12.]\n",
      " [19. 16.]]\n"
     ]
    }
   ],
   "source": [
    "maxi = findLocalMax(case,(3,3),False) #i,j"
   ]
  },
  {
   "cell_type": "code",
   "execution_count": 87,
   "metadata": {},
   "outputs": [],
   "source": [
    "points = np.where(case!=0)\n",
    "pts = np.stack((points[1],points[0]),axis =-1)"
   ]
  },
  {
   "cell_type": "code",
   "execution_count": 88,
   "metadata": {},
   "outputs": [
    {
     "name": "stdout",
     "output_type": "stream",
     "text": [
      "[ 2. 16.]\n",
      "[ 4. 13.]\n",
      "[8. 9.]\n",
      "[ 8. 19.]\n",
      "[4. 9.]\n",
      "[ 9. 13.]\n",
      "[15. 19.]\n",
      "[12. 17.]\n",
      "[16. 19.]\n"
     ]
    },
    {
     "data": {
      "image/png": "[encoded data removed]",
      "text/plain": [
       "<matplotlib.figure.Figure at 0xfca6828>"
      ]
     },
     "metadata": {},
     "output_type": "display_data"
    }
   ],
   "source": [
    "plt.plot(pts[:,0],pts[:,1],\"+\");\n",
    "for centroid in maxi:\n",
    "    print centroid\n",
    "    plt.plot(centroid[0],centroid[1],\"o\")"
   ]
  },
  {
   "cell_type": "markdown",
   "metadata": {},
   "source": [
    "## Kmeans"
   ]
  },
  {
   "cell_type": "code",
   "execution_count": 89,
   "metadata": {},
   "outputs": [],
   "source": [
    "from sklearn.cluster import KMeans"
   ]
  },
  {
   "cell_type": "code",
   "execution_count": 90,
   "metadata": {},
   "outputs": [
    {
     "data": {
      "text/plain": [
       "KMeans(algorithm='auto', copy_x=True, init='k-means++', max_iter=300,\n",
       "    n_clusters=2, n_init=10, n_jobs=1, precompute_distances='auto',\n",
       "    random_state=None, tol=0.0001, verbose=0)"
      ]
     },
     "execution_count": 90,
     "metadata": {},
     "output_type": "execute_result"
    }
   ],
   "source": [
    "\"\"\"creation of the algo\"\"\"\n",
    "kmeans=KMeans(n_clusters=2)\n",
    "\"\"\"computation of centroids\"\"\"\n",
    "a= kmeans.fit(pts)\n",
    "\"\"\"here is the result\"\"\"\n",
    "#kmeans.cluster_centers_\n",
    "a"
   ]
  },
  {
   "cell_type": "code",
   "execution_count": 91,
   "metadata": {},
   "outputs": [
    {
     "data": {
      "image/png": "[encoded data removed]",
      "text/plain": [
       "<matplotlib.figure.Figure at 0xb79d518>"
      ]
     },
     "metadata": {},
     "output_type": "display_data"
    }
   ],
   "source": [
    "plt.plot(pts[:,0],pts[:,1],\"+\");\n",
    "for centroid in kmeans.cluster_centers_:\n",
    "    plt.plot(centroid[0],centroid[1],\"o\")"
   ]
  },
  {
   "cell_type": "code",
   "execution_count": 92,
   "metadata": {},
   "outputs": [],
   "source": [
    "kmeans.cluster_centers_ = np.array([[ 3. , 8.],[15.,  8.]])"
   ]
  },
  {
   "cell_type": "code",
   "execution_count": 93,
   "metadata": {},
   "outputs": [
    {
     "data": {
      "text/plain": [
       "True"
      ]
     },
     "execution_count": 93,
     "metadata": {},
     "output_type": "execute_result"
    }
   ],
   "source": [
    "labels = kmeans.predict(pts)\n",
    "labels.size == pts[:,1].size"
   ]
  },
  {
   "cell_type": "code",
   "execution_count": 94,
   "metadata": {},
   "outputs": [
    {
     "data": {
      "image/png": "[encoded data removed]",
      "text/plain": [
       "<matplotlib.figure.Figure at 0x108f77f0>"
      ]
     },
     "metadata": {},
     "output_type": "display_data"
    }
   ],
   "source": [
    "plt.scatter(pts[:,0],pts[:,1],c=labels,marker=\"+\")\n",
    "for centroid in kmeans.cluster_centers_:\n",
    "    plt.plot(centroid[0],centroid[1],\"o\")"
   ]
  },
  {
   "cell_type": "markdown",
   "metadata": {},
   "source": [
    "# covariance error ellipse"
   ]
  },
  {
   "cell_type": "markdown",
   "metadata": {},
   "source": [
    "## post"
   ]
  },
  {
   "cell_type": "code",
   "execution_count": 95,
   "metadata": {},
   "outputs": [],
   "source": [
    "l=pts[:,0]\n",
    "k=pts[:,1]"
   ]
  },
  {
   "cell_type": "code",
   "execution_count": 96,
   "metadata": {},
   "outputs": [
    {
     "data": {
      "text/plain": [
       "array([1, 1, 1, 1, 1, 1, 1, 1, 1, 1, 1, 1, 1, 1, 1, 1, 1, 1, 1, 1, 1, 1,\n",
       "       1, 1, 1, 1, 1, 1, 0, 1, 1, 1, 1, 1, 1, 1, 1, 1, 1, 1, 0, 1, 1, 1,\n",
       "       1, 1, 1, 1, 1, 1, 1, 1, 0, 0, 0, 0, 0, 0, 0, 0, 1, 1, 1, 1, 1, 1,\n",
       "       1, 1, 1, 1, 1, 1, 0, 0, 0, 0, 0, 0, 0, 0, 1, 1, 1, 1, 1, 1, 1, 1,\n",
       "       1, 1, 1, 1, 0, 0, 0, 0, 0, 0, 0, 0, 0, 0, 1, 1, 1, 1, 1, 1, 1, 1,\n",
       "       1, 1, 1, 1, 0, 0, 0, 0, 0, 0, 0, 0, 0, 0, 1, 1, 1, 1, 1, 1, 1, 1,\n",
       "       1, 1, 1, 1, 0, 0, 0, 0, 0, 0, 0, 0, 0, 0, 1, 1, 1, 1, 1, 1, 1, 1,\n",
       "       1, 1, 1, 1, 0, 0, 0, 0, 0, 0, 0, 0, 0, 0, 1, 1, 1, 1, 1, 1, 1, 1,\n",
       "       1, 1, 1, 1, 0, 0, 0, 0, 0, 0, 0, 0, 0, 0, 1, 1, 1, 1, 1, 1, 1, 1,\n",
       "       1, 1, 1, 1, 0, 0, 0, 0, 0, 0, 0, 0, 0, 0, 1, 1, 1, 1, 1, 1, 1, 1,\n",
       "       1, 1, 1, 1, 0, 0, 0, 0, 0, 0, 0, 0, 1, 1, 1, 1, 1, 1, 1, 1, 1, 1,\n",
       "       1, 1, 0, 0, 0, 0, 0, 0, 0, 0, 1, 1, 1, 1, 1, 1, 1, 1, 1, 1, 1, 1,\n",
       "       0, 0, 1, 1, 1, 1, 1, 1, 1, 1, 1, 1, 1, 1, 0, 0, 1, 1, 1, 1, 1, 1,\n",
       "       1, 1, 1, 1, 1, 1, 1, 1, 1, 1, 1, 1, 1, 1, 1, 1, 1, 1, 1, 1, 1, 1,\n",
       "       1, 1, 1, 1, 1, 1, 1, 1, 1, 1, 1, 1, 1, 1, 1, 1, 1, 1, 1, 1])"
      ]
     },
     "execution_count": 96,
     "metadata": {},
     "output_type": "execute_result"
    }
   ],
   "source": [
    "labels"
   ]
  },
  {
   "cell_type": "code",
   "execution_count": 97,
   "metadata": {},
   "outputs": [
    {
     "data": {
      "text/plain": [
       "array([14, 15, 16, 17, 18, 14, 15, 16, 17, 18, 11, 12, 13, 14, 15, 16, 17,\n",
       "       18, 19, 11, 12, 13, 14, 15, 16, 17, 18, 19,  9, 10, 11, 12, 13, 14,\n",
       "       15, 16, 17, 18, 19, 20,  9, 10, 11, 12, 13, 14, 15, 16, 17, 18, 19,\n",
       "       20,  2,  3,  4,  5,  6,  7,  8,  9, 10, 11, 12, 13, 14, 15, 16, 17,\n",
       "       18, 19, 20, 21,  2,  3,  4,  5,  6,  7,  8,  9, 10, 11, 12, 13, 14,\n",
       "       15, 16, 17, 18, 19, 20, 21,  0,  1,  2,  3,  4,  5,  6,  7,  8,  9,\n",
       "       10, 11, 12, 13, 14, 15, 16, 17, 18, 19, 20, 21,  0,  1,  2,  3,  4,\n",
       "        5,  6,  7,  8,  9, 10, 11, 12, 13, 14, 15, 16, 17, 18, 19, 20, 21,\n",
       "        0,  1,  2,  3,  4,  5,  6,  7,  8,  9, 10, 11, 12, 13, 14, 15, 16,\n",
       "       17, 18, 19, 20, 21,  0,  1,  2,  3,  4,  5,  6,  7,  8,  9, 10, 11,\n",
       "       12, 13, 14, 15, 16, 17, 18, 19, 20, 21,  0,  1,  2,  3,  4,  5,  6,\n",
       "        7,  8,  9, 10, 11, 12, 13, 14, 15, 16, 17, 18, 19, 20, 21,  0,  1,\n",
       "        2,  3,  4,  5,  6,  7,  8,  9, 10, 11, 12, 13, 14, 15, 16, 17, 18,\n",
       "       19, 20, 21,  2,  3,  4,  5,  6,  7,  8,  9, 10, 11, 12, 13, 14, 15,\n",
       "       16, 17, 18, 19, 20, 21,  2,  3,  4,  5,  6,  7,  8,  9, 10, 11, 12,\n",
       "       13, 14, 15, 16, 17, 18, 19, 20, 21,  8,  9, 10, 11, 12, 13, 14, 15,\n",
       "       16, 17, 18, 19, 20, 21,  8,  9, 10, 11, 12, 13, 14, 15, 16, 17, 18,\n",
       "       19, 20, 21, 10, 11, 12, 13, 14, 15, 16, 17, 18, 19, 20, 10, 11, 12,\n",
       "       13, 14, 15, 16, 17, 18, 19, 20, 13, 14, 15, 16, 17, 18, 19, 13, 14,\n",
       "       15, 16, 17, 18, 19], dtype=int64)"
      ]
     },
     "execution_count": 97,
     "metadata": {},
     "output_type": "execute_result"
    }
   ],
   "source": [
    "l"
   ]
  },
  {
   "cell_type": "code",
   "execution_count": 98,
   "metadata": {},
   "outputs": [
    {
     "data": {
      "text/plain": [
       "True"
      ]
     },
     "execution_count": 98,
     "metadata": {},
     "output_type": "execute_result"
    }
   ],
   "source": [
    "a=l[labels!=0]\n",
    "b=k[labels!=0]\n",
    "a.size == b.size"
   ]
  },
  {
   "cell_type": "code",
   "execution_count": 99,
   "metadata": {},
   "outputs": [
    {
     "data": {
      "text/plain": [
       "<matplotlib.collections.PathCollection at 0xb7bb080>"
      ]
     },
     "execution_count": 99,
     "metadata": {},
     "output_type": "execute_result"
    },
    {
     "data": {
      "image/png": "[encoded data removed]",
      "text/plain": [
       "<matplotlib.figure.Figure at 0x108dffd0>"
      ]
     },
     "metadata": {},
     "output_type": "display_data"
    }
   ],
   "source": [
    "plt.scatter(a,b,marker=\"+\")"
   ]
  },
  {
   "cell_type": "code",
   "execution_count": 4,
   "metadata": {},
   "outputs": [
    {
     "ename": "NameError",
     "evalue": "name 'np' is not defined",
     "output_type": "error",
     "traceback": [
      "\u001b[1;31m\u001b[0m",
      "\u001b[1;31mNameError\u001b[0mTraceback (most recent call last)",
      "\u001b[1;32m<ipython-input-4-15e719f04b5a>\u001b[0m in \u001b[0;36m<module>\u001b[1;34m()\u001b[0m\n\u001b[1;32m----> 1\u001b[1;33m \u001b[0mab\u001b[0m \u001b[1;33m=\u001b[0m \u001b[0mnp\u001b[0m\u001b[1;33m.\u001b[0m\u001b[0mstack\u001b[0m\u001b[1;33m(\u001b[0m\u001b[1;33m(\u001b[0m\u001b[0ma\u001b[0m\u001b[1;33m,\u001b[0m\u001b[0mb\u001b[0m\u001b[1;33m)\u001b[0m\u001b[1;33m,\u001b[0m\u001b[0maxis\u001b[0m\u001b[1;33m=\u001b[0m\u001b[1;36m0\u001b[0m\u001b[1;33m)\u001b[0m\u001b[1;33m\u001b[0m\u001b[0m\n\u001b[0m\u001b[0;32m      2\u001b[0m \u001b[0mab\u001b[0m\u001b[1;33m\u001b[0m\u001b[0m\n",
      "\u001b[1;31mNameError\u001b[0m: name 'np' is not defined"
     ]
    }
   ],
   "source": [
    "ab = np.stack((a,b),axis=0)\n",
    "ab"
   ]
  },
  {
   "cell_type": "code",
   "execution_count": 101,
   "metadata": {},
   "outputs": [
    {
     "data": {
      "text/plain": [
       "array([[10.35777482,  0.33597874],\n",
       "       [ 0.33597874, 33.20009493]])"
      ]
     },
     "execution_count": 101,
     "metadata": {},
     "output_type": "execute_result"
    }
   ],
   "source": [
    "cov = np.cov(ab)\n",
    "cov"
   ]
  },
  {
   "cell_type": "code",
   "execution_count": 102,
   "metadata": {},
   "outputs": [
    {
     "data": {
      "text/plain": [
       "array([[10.35777482,  0.33597874],\n",
       "       [ 0.33597874, 33.20009493]])"
      ]
     },
     "execution_count": 102,
     "metadata": {},
     "output_type": "execute_result"
    }
   ],
   "source": [
    "np.cov(a,b)"
   ]
  },
  {
   "cell_type": "code",
   "execution_count": 103,
   "metadata": {},
   "outputs": [
    {
     "data": {
      "text/plain": [
       "array([10.35283411, 33.20503564])"
      ]
     },
     "execution_count": 103,
     "metadata": {},
     "output_type": "execute_result"
    }
   ],
   "source": [
    "from numpy import linalg as LA\n",
    "w, v = LA.eig(cov)\n",
    "w\n"
   ]
  },
  {
   "cell_type": "code",
   "execution_count": 104,
   "metadata": {},
   "outputs": [
    {
     "data": {
      "text/plain": [
       "array([[-0.99989189, -0.01470384],\n",
       "       [ 0.01470384, -0.99989189]])"
      ]
     },
     "execution_count": 104,
     "metadata": {},
     "output_type": "execute_result"
    }
   ],
   "source": [
    "v"
   ]
  },
  {
   "cell_type": "code",
   "execution_count": 105,
   "metadata": {},
   "outputs": [],
   "source": [
    "a0=np.mean(a)\n",
    "b0=np.mean(b)"
   ]
  },
  {
   "cell_type": "code",
   "execution_count": 106,
   "metadata": {},
   "outputs": [
    {
     "data": {
      "text/plain": [
       "89.15750179978895"
      ]
     },
     "execution_count": 106,
     "metadata": {},
     "output_type": "execute_result"
    }
   ],
   "source": [
    "angle = np.arctan(v[1,1]/v[0,1])\n",
    "angle = math.degrees(angle)\n",
    "angle\n"
   ]
  },
  {
   "cell_type": "code",
   "execution_count": 107,
   "metadata": {},
   "outputs": [],
   "source": [
    "sigmax= 2*np.sqrt(5.991*w[0])\n",
    "sigmay= 2*np.sqrt(5.991*w[1])\n"
   ]
  },
  {
   "cell_type": "markdown",
   "metadata": {},
   "source": [
    "## Plot"
   ]
  },
  {
   "cell_type": "markdown",
   "metadata": {},
   "source": [
    "https://www.visiondummy.com/2014/04/draw-error-ellipse-representing-covariance-matrix/"
   ]
  },
  {
   "cell_type": "code",
   "execution_count": 108,
   "metadata": {},
   "outputs": [],
   "source": [
    "import numpy as np\n",
    "from matplotlib import patches\n",
    "import matplotlib.pyplot as plt\n",
    "import math"
   ]
  },
  {
   "cell_type": "code",
   "execution_count": 2,
   "metadata": {},
   "outputs": [
    {
     "ename": "NameError",
     "evalue": "name 'a0' is not defined",
     "output_type": "error",
     "traceback": [
      "\u001b[1;31m\u001b[0m",
      "\u001b[1;31mNameError\u001b[0mTraceback (most recent call last)",
      "\u001b[1;32m<ipython-input-2-3693ff3e4842>\u001b[0m in \u001b[0;36m<module>\u001b[1;34m()\u001b[0m\n\u001b[0;32m      1\u001b[0m \u001b[1;33m\u001b[0m\u001b[0m\n\u001b[1;32m----> 2\u001b[1;33m \u001b[0mxcenter\u001b[0m\u001b[1;33m,\u001b[0m \u001b[0mycenter\u001b[0m \u001b[1;33m=\u001b[0m \u001b[0ma0\u001b[0m\u001b[1;33m,\u001b[0m \u001b[0mb0\u001b[0m\u001b[1;33m\u001b[0m\u001b[0m\n\u001b[0m\u001b[0;32m      3\u001b[0m \u001b[0mwidth\u001b[0m\u001b[1;33m,\u001b[0m \u001b[0mheight\u001b[0m \u001b[1;33m=\u001b[0m \u001b[0mw\u001b[0m\u001b[1;33m[\u001b[0m\u001b[1;36m0\u001b[0m\u001b[1;33m]\u001b[0m\u001b[1;33m,\u001b[0m \u001b[0mw\u001b[0m\u001b[1;33m[\u001b[0m\u001b[1;36m1\u001b[0m\u001b[1;33m]\u001b[0m\u001b[1;33m\u001b[0m\u001b[0m\n\u001b[0;32m      4\u001b[0m \u001b[0mangle\u001b[0m \u001b[1;33m=\u001b[0m \u001b[0mnp\u001b[0m\u001b[1;33m.\u001b[0m\u001b[0marctan\u001b[0m\u001b[1;33m(\u001b[0m\u001b[0mv\u001b[0m\u001b[1;33m[\u001b[0m\u001b[1;36m1\u001b[0m\u001b[1;33m,\u001b[0m\u001b[1;36m1\u001b[0m\u001b[1;33m]\u001b[0m\u001b[1;33m/\u001b[0m\u001b[0mv\u001b[0m\u001b[1;33m[\u001b[0m\u001b[1;36m0\u001b[0m\u001b[1;33m,\u001b[0m\u001b[1;36m1\u001b[0m\u001b[1;33m]\u001b[0m\u001b[1;33m)\u001b[0m\u001b[1;33m\u001b[0m\u001b[0m\n\u001b[0;32m      5\u001b[0m \u001b[1;33m\u001b[0m\u001b[0m\n",
      "\u001b[1;31mNameError\u001b[0m: name 'a0' is not defined"
     ]
    }
   ],
   "source": [
    "\n",
    "xcenter, ycenter = a0, b0\n",
    "width, height = w[0], w[1]\n",
    "angle = np.arctan(v[1,1]/v[0,1])\n",
    "\n",
    "theta = np.deg2rad(np.arange(0.0, 360.0, 1.0))\n",
    "x =2 * width * np.cos(theta)\n",
    "y = 2 * height * np.sin(theta)\n",
    "\n",
    "rtheta = np.radians(angle)\n",
    "R = np.array([\n",
    "    [np.cos(rtheta), -np.sin(rtheta)],\n",
    "    [np.sin(rtheta),  np.cos(rtheta)],\n",
    "    ])\n",
    "\n",
    "\n",
    "x, y = np.dot(R, np.array([x, y]))\n",
    "x += a0\n",
    "y += b0\n",
    "\n",
    "fig = plt.figure()\n",
    "ax = fig.add_subplot(211, aspect='auto')\n",
    "ax.fill(x, y, alpha=0.2, facecolor='yellow',\n",
    "        edgecolor='yellow', linewidth=1, zorder=1)\n",
    "\n",
    "e1 = patches.Ellipse((xcenter, ycenter), width, height,\n",
    "                     angle=angle, linewidth=2, fill=False, zorder=2)\n",
    "ax.add_patch(e1)"
   ]
  },
  {
   "cell_type": "code",
   "execution_count": 3,
   "metadata": {},
   "outputs": [
    {
     "ename": "NameError",
     "evalue": "name 'plt' is not defined",
     "output_type": "error",
     "traceback": [
      "\u001b[1;31m\u001b[0m",
      "\u001b[1;31mNameError\u001b[0mTraceback (most recent call last)",
      "\u001b[1;32m<ipython-input-3-0a6a0922a0d0>\u001b[0m in \u001b[0;36m<module>\u001b[1;34m()\u001b[0m\n\u001b[0;32m      1\u001b[0m \u001b[1;33m\u001b[0m\u001b[0m\n\u001b[1;32m----> 2\u001b[1;33m \u001b[0mfig\u001b[0m \u001b[1;33m=\u001b[0m \u001b[0mplt\u001b[0m\u001b[1;33m.\u001b[0m\u001b[0mfigure\u001b[0m\u001b[1;33m(\u001b[0m\u001b[1;33m)\u001b[0m\u001b[1;33m\u001b[0m\u001b[0m\n\u001b[0m\u001b[0;32m      3\u001b[0m \u001b[0max\u001b[0m \u001b[1;33m=\u001b[0m \u001b[0mfig\u001b[0m\u001b[1;33m.\u001b[0m\u001b[0madd_subplot\u001b[0m\u001b[1;33m(\u001b[0m\u001b[1;36m211\u001b[0m\u001b[1;33m,\u001b[0m \u001b[0maspect\u001b[0m\u001b[1;33m=\u001b[0m\u001b[1;34m'auto'\u001b[0m\u001b[1;33m)\u001b[0m\u001b[1;33m\u001b[0m\u001b[0m\n\u001b[0;32m      4\u001b[0m ax.fill(a, b, alpha=0.2, facecolor='yellow',\n\u001b[0;32m      5\u001b[0m         edgecolor='yellow', linewidth=1, zorder=1)\n",
      "\u001b[1;31mNameError\u001b[0m: name 'plt' is not defined"
     ]
    }
   ],
   "source": [
    "\n",
    "fig = plt.figure()\n",
    "ax = fig.add_subplot(211, aspect='auto')\n",
    "ax.fill(a, b, alpha=0.2, facecolor='yellow',\n",
    "        edgecolor='yellow', linewidth=1, zorder=1)\n",
    "\n",
    "#The -angle is used because it defines the angle clockwise instead of anti-clockwise\n",
    "e1 = patches.Ellipse((a0, b0), sigmax, sigmay,\n",
    "                     angle=-angle, linewidth=2, fill=False, zorder=2)\n",
    "\n",
    "ax.add_patch(e1)\n",
    "\n",
    "ax.set_xlim(7,30)#ax.set_xlim(-5, 15)\n",
    "ax.set_ylim(-5, 30)\n"
   ]
  },
  {
   "cell_type": "markdown",
   "metadata": {},
   "source": [
    "## Gradient descent"
   ]
  },
  {
   "cell_type": "code",
   "execution_count": null,
   "metadata": {},
   "outputs": [],
   "source": []
  },
  {
   "cell_type": "code",
   "execution_count": null,
   "metadata": {},
   "outputs": [],
   "source": []
  }
 ],
 "metadata": {
  "kernelspec": {
   "display_name": "Python 2",
   "language": "python",
   "name": "python2"
  },
  "language_info": {
   "codemirror_mode": {
    "name": "ipython",
    "version": 2
   },
   "file_extension": ".py",
   "mimetype": "text/x-python",
   "name": "python",
   "nbconvert_exporter": "python",
   "pygments_lexer": "ipython2",
   "version": "2.7.14"
  }
 },
 "nbformat": 4,
 "nbformat_minor": 2
}
